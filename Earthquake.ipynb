{
  "nbformat": 4,
  "nbformat_minor": 0,
  "metadata": {
    "colab": {
      "provenance": []
    },
    "kernelspec": {
      "name": "python3",
      "display_name": "Python 3"
    },
    "language_info": {
      "name": "python"
    }
  },
  "cells": [
    {
      "cell_type": "code",
      "source": [
        "# upload dataset from kaggle"
      ],
      "metadata": {
        "id": "B1xMsooRi3Sk"
      },
      "execution_count": null,
      "outputs": []
    },
    {
      "cell_type": "code",
      "execution_count": 1,
      "metadata": {
        "colab": {
          "base_uri": "https://localhost:8080/",
          "height": 1000
        },
        "id": "VdSeuLnrhni9",
        "outputId": "7a45203d-6b02-4469-890a-563ebfcb2639"
      },
      "outputs": [
        {
          "output_type": "display_data",
          "data": {
            "text/plain": [
              "<IPython.core.display.HTML object>"
            ],
            "text/html": [
              "\n",
              "     <input type=\"file\" id=\"files-674e8a2c-b3f0-45a7-8aca-2437633ac1de\" name=\"files[]\" multiple disabled\n",
              "        style=\"border:none\" />\n",
              "     <output id=\"result-674e8a2c-b3f0-45a7-8aca-2437633ac1de\">\n",
              "      Upload widget is only available when the cell has been executed in the\n",
              "      current browser session. Please rerun this cell to enable.\n",
              "      </output>\n",
              "      <script>// Copyright 2017 Google LLC\n",
              "//\n",
              "// Licensed under the Apache License, Version 2.0 (the \"License\");\n",
              "// you may not use this file except in compliance with the License.\n",
              "// You may obtain a copy of the License at\n",
              "//\n",
              "//      http://www.apache.org/licenses/LICENSE-2.0\n",
              "//\n",
              "// Unless required by applicable law or agreed to in writing, software\n",
              "// distributed under the License is distributed on an \"AS IS\" BASIS,\n",
              "// WITHOUT WARRANTIES OR CONDITIONS OF ANY KIND, either express or implied.\n",
              "// See the License for the specific language governing permissions and\n",
              "// limitations under the License.\n",
              "\n",
              "/**\n",
              " * @fileoverview Helpers for google.colab Python module.\n",
              " */\n",
              "(function(scope) {\n",
              "function span(text, styleAttributes = {}) {\n",
              "  const element = document.createElement('span');\n",
              "  element.textContent = text;\n",
              "  for (const key of Object.keys(styleAttributes)) {\n",
              "    element.style[key] = styleAttributes[key];\n",
              "  }\n",
              "  return element;\n",
              "}\n",
              "\n",
              "// Max number of bytes which will be uploaded at a time.\n",
              "const MAX_PAYLOAD_SIZE = 100 * 1024;\n",
              "\n",
              "function _uploadFiles(inputId, outputId) {\n",
              "  const steps = uploadFilesStep(inputId, outputId);\n",
              "  const outputElement = document.getElementById(outputId);\n",
              "  // Cache steps on the outputElement to make it available for the next call\n",
              "  // to uploadFilesContinue from Python.\n",
              "  outputElement.steps = steps;\n",
              "\n",
              "  return _uploadFilesContinue(outputId);\n",
              "}\n",
              "\n",
              "// This is roughly an async generator (not supported in the browser yet),\n",
              "// where there are multiple asynchronous steps and the Python side is going\n",
              "// to poll for completion of each step.\n",
              "// This uses a Promise to block the python side on completion of each step,\n",
              "// then passes the result of the previous step as the input to the next step.\n",
              "function _uploadFilesContinue(outputId) {\n",
              "  const outputElement = document.getElementById(outputId);\n",
              "  const steps = outputElement.steps;\n",
              "\n",
              "  const next = steps.next(outputElement.lastPromiseValue);\n",
              "  return Promise.resolve(next.value.promise).then((value) => {\n",
              "    // Cache the last promise value to make it available to the next\n",
              "    // step of the generator.\n",
              "    outputElement.lastPromiseValue = value;\n",
              "    return next.value.response;\n",
              "  });\n",
              "}\n",
              "\n",
              "/**\n",
              " * Generator function which is called between each async step of the upload\n",
              " * process.\n",
              " * @param {string} inputId Element ID of the input file picker element.\n",
              " * @param {string} outputId Element ID of the output display.\n",
              " * @return {!Iterable<!Object>} Iterable of next steps.\n",
              " */\n",
              "function* uploadFilesStep(inputId, outputId) {\n",
              "  const inputElement = document.getElementById(inputId);\n",
              "  inputElement.disabled = false;\n",
              "\n",
              "  const outputElement = document.getElementById(outputId);\n",
              "  outputElement.innerHTML = '';\n",
              "\n",
              "  const pickedPromise = new Promise((resolve) => {\n",
              "    inputElement.addEventListener('change', (e) => {\n",
              "      resolve(e.target.files);\n",
              "    });\n",
              "  });\n",
              "\n",
              "  const cancel = document.createElement('button');\n",
              "  inputElement.parentElement.appendChild(cancel);\n",
              "  cancel.textContent = 'Cancel upload';\n",
              "  const cancelPromise = new Promise((resolve) => {\n",
              "    cancel.onclick = () => {\n",
              "      resolve(null);\n",
              "    };\n",
              "  });\n",
              "\n",
              "  // Wait for the user to pick the files.\n",
              "  const files = yield {\n",
              "    promise: Promise.race([pickedPromise, cancelPromise]),\n",
              "    response: {\n",
              "      action: 'starting',\n",
              "    }\n",
              "  };\n",
              "\n",
              "  cancel.remove();\n",
              "\n",
              "  // Disable the input element since further picks are not allowed.\n",
              "  inputElement.disabled = true;\n",
              "\n",
              "  if (!files) {\n",
              "    return {\n",
              "      response: {\n",
              "        action: 'complete',\n",
              "      }\n",
              "    };\n",
              "  }\n",
              "\n",
              "  for (const file of files) {\n",
              "    const li = document.createElement('li');\n",
              "    li.append(span(file.name, {fontWeight: 'bold'}));\n",
              "    li.append(span(\n",
              "        `(${file.type || 'n/a'}) - ${file.size} bytes, ` +\n",
              "        `last modified: ${\n",
              "            file.lastModifiedDate ? file.lastModifiedDate.toLocaleDateString() :\n",
              "                                    'n/a'} - `));\n",
              "    const percent = span('0% done');\n",
              "    li.appendChild(percent);\n",
              "\n",
              "    outputElement.appendChild(li);\n",
              "\n",
              "    const fileDataPromise = new Promise((resolve) => {\n",
              "      const reader = new FileReader();\n",
              "      reader.onload = (e) => {\n",
              "        resolve(e.target.result);\n",
              "      };\n",
              "      reader.readAsArrayBuffer(file);\n",
              "    });\n",
              "    // Wait for the data to be ready.\n",
              "    let fileData = yield {\n",
              "      promise: fileDataPromise,\n",
              "      response: {\n",
              "        action: 'continue',\n",
              "      }\n",
              "    };\n",
              "\n",
              "    // Use a chunked sending to avoid message size limits. See b/62115660.\n",
              "    let position = 0;\n",
              "    do {\n",
              "      const length = Math.min(fileData.byteLength - position, MAX_PAYLOAD_SIZE);\n",
              "      const chunk = new Uint8Array(fileData, position, length);\n",
              "      position += length;\n",
              "\n",
              "      const base64 = btoa(String.fromCharCode.apply(null, chunk));\n",
              "      yield {\n",
              "        response: {\n",
              "          action: 'append',\n",
              "          file: file.name,\n",
              "          data: base64,\n",
              "        },\n",
              "      };\n",
              "\n",
              "      let percentDone = fileData.byteLength === 0 ?\n",
              "          100 :\n",
              "          Math.round((position / fileData.byteLength) * 100);\n",
              "      percent.textContent = `${percentDone}% done`;\n",
              "\n",
              "    } while (position < fileData.byteLength);\n",
              "  }\n",
              "\n",
              "  // All done.\n",
              "  yield {\n",
              "    response: {\n",
              "      action: 'complete',\n",
              "    }\n",
              "  };\n",
              "}\n",
              "\n",
              "scope.google = scope.google || {};\n",
              "scope.google.colab = scope.google.colab || {};\n",
              "scope.google.colab._files = {\n",
              "  _uploadFiles,\n",
              "  _uploadFilesContinue,\n",
              "};\n",
              "})(self);\n",
              "</script> "
            ]
          },
          "metadata": {}
        },
        {
          "output_type": "stream",
          "name": "stdout",
          "text": [
            "Saving earthquake_dataset.csv to earthquake_dataset.csv\n"
          ]
        },
        {
          "output_type": "execute_result",
          "data": {
            "text/plain": [
              "{'earthquake_dataset.csv': b\"Place, Latitude, Longitude, Country, Continent, Magnitude\\r\\nBamako,12.6354,-8.0023, Mali, Africa,4.7\\r\\nNiamey,13.513,2.1151, Niger, Africa,5.7\\r\\nSouthern Chile,-39.8234,-73.0691, Chile, South America,4.9\\r\\nFreetown,8.4815,-13.2315, Sierra Leone, Africa,4.8\\r\\nBamako,12.6422,-7.999, Mali, Africa,5.3\\r\\nFort-de-France,14.6132,-61.06, Martinique, North America,5.7\\r\\nSantiago,-33.4463,-70.6682, Chile, South America,4.8\\r\\nEast African Rift,-1.2921,36.8219, Kenya, Africa,4.6\\r\\nManila,13.4165,122.5589, Philippines, Asia,5.1\\r\\nSan Salvador,13.6943,-89.2216, El Salvador, North America,5.7\\r\\nFreetown,8.4839,-13.2328, Sierra Leone, Africa,4.8\\r\\nGeorgetown,6.7991,-58.154, Guyana, South America,4.9\\r\\nYamoussoukro,6.82,-5.2758, C\\xc3\\xb4te d'Ivoire, Africa,4.7\\r\\nBujumbura,-3.3923,29.3604, Burundi, Africa,5.2\\r\\nKyushu,33.5882,130.4006, Japan, Asia,4.9\\r\\nConakry,9.5061,-13.7126, Guinea, Africa,4.7\\r\\nTonga Trench,-23.12,-172.08, Tonga, Oceania,4.8\\r\\nBucharest,44.4236,26.103, Romania, Europe,4.8\\r\\nBridgetown,13.1108,-59.6006, Barbados, North America,4.7\\r\\nOuagadougou,12.3718,-1.522, Burkina Faso, Africa,5.7\\r\\nYuzhno-Sakhalinsk,46.9624,142.7352, Russia, Asia,5.3\\r\\nEast African Rift,-1.2897,36.8237, Kenya, Africa,4.8\\r\\nKuril Islands,45.5563,148.8878, Russia, Asia,5.6\\r\\nDakar,14.6898,-17.4448, Senegal, Africa,4.8\\r\\nPort of Spain,10.6573,-61.518, Trinidad and Tobago, North America,5.7\\r\\nFreetown,8.4855,-13.2364, Sierra Leone, Africa,5.6\\r\\nVictoria,-4.6205,55.4552, Seychelles, Africa,5.3\\r\\nNiamey,13.5112,2.1113, Niger, Africa,4.8\\r\\nBamako,12.642,-7.9988, Mali, Africa,5.3\\r\\nMonrovia,6.3082,-10.8033, Liberia, Africa,4.7\\r\\nOuagadougou,12.3732,-1.5145, Burkina Faso, Africa,5.3\\r\\nSouthern Chile,-39.8232,-73.072, Chile, South America,4.8\\r\\nMontevideo,-34.9043,-56.1835, Uruguay, South America,5.3\\r\\nYuzhno-Sakhalinsk,46.957,142.7378, Russia, Asia,4.8\\r\\nHoniara,-9.4371,160.0393, Solomon Islands, Oceania,4.8\\r\\nAshgabat,37.987,58.3297, Turkmenistan, Asia,5.0\\r\\nMaputo,-25.8894,32.604, Mozambique, Africa,4.8\\r\\nMoroni,-11.7148,43.2493, Comoros, Africa,4.8\\r\\nTonga Trench,-23.1232,-172.0763, Tonga, Oceania,5.3\\r\\nMonrovia,6.3078,-10.7999, Liberia, Africa,4.8\\r\\nKingston,17.9714,-76.7926, Jamaica, North America,4.8\\r\\nMawson Station,-67.6162,62.8727, Antarctica, Antarctica,4.8\\r\\nLjubljana,46.0602,14.5021, Slovenia, Europe,5.1\\r\\nSan Jose,37.7763,-122.4228, United States, North America,5.6\\r\\nYuzhno-Sakhalinsk,46.9568,142.7407, Russia, Asia,4.7\\r\\nIslamabad,33.6889,73.0441, Pakistan, Asia,5.6\\r\\nAbidjan,5.3625,-4.0043, C\\xc3\\xb4te d'Ivoire, Africa,5.3\\r\\nManagua,12.1181,-86.2325, Nicaragua, North America,5.2\\r\\nConakry,9.5071,-13.7106, Guinea, Africa,4.8\\r\\nLa Paz,-16.5014,-68.1534, Bolivia, South America,5.7\\r\\nBissau,11.8634,-15.5822, Guinea-Bissau, Africa,4.8\\r\\nBogota,4.7123,-74.0697, Colombia, South America,4.7\\r\\nVladivostok,43.1766,132.0081, Russia, Asia,5.2\\r\\nYamoussoukro,6.8182,-5.2751, C\\xc3\\xb4te d'Ivoire, Africa,4.8\\r\\nBanjul,13.4532,-16.5895, Gambia, Africa,5.7\\r\\nBissau,11.8624,-15.5832, Guinea-Bissau, Africa,4.8\\r\\nThessaloniki,40.6377,22.9463, Greece, Europe,4.2\\r\\nConakry,9.5091,-13.7115, Guinea, Africa,4.8\\r\\nKathmandu,27.7158,85.3282, Nepal, Asia,4.7\\r\\nSofia,42.7009,23.3182, Bulgaria, Europe,5.2\\r\\nCasey Station,-66.2829,110.5249, Antarctica, Antarctica,4.9\\r\\nNorth Anatolian Fault Zone,40.9919,34.9868, Turkey, Europe,4.9\\r\\nSanto Domingo,18.4861,-69.9312, Dominican Republic, North America,4.7\\r\\nVienna,48.8598,16.353, Austria, Europe,5.3\\r\\nGeorgetown,6.8061,-58.1587, Guyana, South America,5.6\\r\\nHilo,19.7053,-155.0853, United States, North America,4.9\\r\\nTaipei,25.0344,121.5678, Taiwan, Asia,5.5\\r\\nBucharest,44.4254,26.105, Romania, Europe,4.5\\r\\nGustavia,17.8979,-62.8532, Saint Barthelemy, North America,5.8\\r\\nYamoussoukro,6.8172,-5.2741, C\\xc3\\xb4te d'Ivoire, Africa,4.8\\r\\nKuril Islands,45.5581,148.8807, Russia, Asia,5.3\\r\\nDar es Salaam,-6.7899,39.2101, Tanzania, Africa,4.7\\r\\nLhasa,29.6503,91.1794, Tibet, Asia,5.4\\r\\nBujumbura,-3.3867,29.3659, Burundi, Africa,4.7\\r\\nMogadishu,2.0403,45.3398, Somalia, Africa,5.2\\r\\nSan Salvador,13.6961,-89.2145, El Salvador, North America,5.3\\r\\nOuagadougou,12.3738,-1.5151, Burkina Faso, Africa,5.3\\r\\nFaraday Station,-65.2567,-63.5004, Antarctica, Antarctica,4.9\\r\\nChristchurch,-43.5339,172.6465, New Zealand, Oceania,5.5\\r\\nTirana,41.3253,19.8176, Albania, Europe,4.6\\r\\nAbidjan,5.3613,-4.0122, C\\xc3\\xb4te d'Ivoire, Africa,5.8\\r\\nNiamey,13.5124,2.1125, Niger, Africa,4.8\\r\\nSarajevo,43.8595,18.4094, Bosnia and Herzegovina, Europe,4.8\\r\\nYellowstone National Park,44.4293,-110.5919, United States, North America,5.6\\r\\nNorthern Chile,-23.4425,-68.4493, Chile, South America,4.6\\r\\nMamoudzou,-12.7841,45.2242, Mayotte, Africa,5.1\\r\\nConakry,9.5099,-13.7143, Guinea, Africa,5.7\\r\\nMonrovia,6.3134,-10.7975, Liberia, Africa,5.2\\r\\nNiamey,13.5114,2.1115, Niger, Africa,4.8\\r\\nSaint Helier,49.1897,-2.106, Jersey, Europe,4.8\\r\\nPointe-\\xc3\\xa0-Pitre,16.2346,-61.535, Guadeloupe, North America,4.8\\r\\nMoroni,-11.715,43.2464, Comoros, Africa,4.9\\r\\nKralendijk,12.1473,-68.4189, Bonaire, North America,4.8\\r\\nBissau,11.8646,-15.5858, Guinea-Bissau, Africa,5.7\\r\\nMonrovia,6.3076,-10.7997, Liberia, Africa,4.8\\r\\nNuku'alofa,-21.1393,-175.2005, Tonga, Oceania,5.2\\r\\nTunis,36.8041,10.1722, Tunisia, Africa,4.9\\r\\nAndaman and Nicobar Islands,11.7433,92.6549, India, Asia,5.2\\r\\nSarajevo,43.8577,18.4165, Bosnia and Herzegovina, Europe,4.5\\r\\nNairobi,-1.2842,36.8161, Kenya, Africa,4.9\\r\\nEast Pacific Rise,-3.9689,-103.3487, Peru, South America,5.3\\r\\nDakar,14.6902,-17.4452, Senegal, Africa,4.8\\r\\nFreetown,8.4875,-13.2295, Sierra Leone, Africa,5.3\\r\\nPalmer Station,-64.7689,-64.0547, Antarctica, Antarctica,4.7\\r\\nGustavia,17.894,-62.8495, Saint Barthelemy, North America,4.9\\r\\nNouakchott,18.0715,-15.9676, Mauritania, Africa,4.9\\r\\nMariana Trench,11.3946,142.7128, Mariana Islands, Oceania,4.9\\r\\nManila,13.4097,122.5663, Philippines, Asia,4.8\\r\\nYamoussoukro,6.8228,-5.2717, C\\xc3\\xb4te d'Ivoire, Africa,5.2\\r\\nZurich,47.3769,8.5417, Switzerland, Europe,4.8\\r\\nMexico City,19.4339,-99.1302, Mexico, North America,4.9\\r\\nIstanbul,41.0065,28.9801, Turkey, Europe,5.6\\r\\nSan Jose,37.7725,-122.4212, United States, North America,4.7\\r\\nThe Bottom,17.6369,-63.2383, Saba, North America,5.6\\r\\nSan Andreas Fault,36.7761,-119.4168, United States, North America,4.9\\r\\nConakry,9.5059,-13.7124, Guinea, Africa,4.7\\r\\nPort Moresby,-9.4451,147.1837, Papua New Guinea, Oceania,5.0\\r\\nKinshasa,-4.4451,15.2626, Democratic Republic of the Congo, Africa,5.2\\r\\nBujumbura,-3.3905,29.3675, Burundi, Africa,5.6\\r\\nBamako,12.636,-8.0008, Mali, Africa,4.8\\r\\nYamoussoukro,6.8174,-5.2774, C\\xc3\\xb4te d'Ivoire, Africa,4.7\\r\\nAthens,37.9838,23.7275, Greece, Europe,4.9\\r\\nPort Louis,-20.1632,57.4885, Mauritius, Africa,4.8\\r\\nAbidjan,5.3589,-4.0074, C\\xc3\\xb4te d'Ivoire, Africa,4.9\\r\\nAbidjan,5.3591,-4.0077, C\\xc3\\xb4te d'Ivoire, Africa,4.9\\r\\nBishkek,42.8666,74.6, Kyrgyzstan, Asia,4.8\\r\\nSan Juan,18.4631,-66.1075, Puerto Rico, North America,4.7\\r\\nGustavia,17.8994,-62.8469, Saint Barthelemy, North America,5.3\\r\\nShikoku,33.749,133.7311, Japan, Asia,4.7\\r\\nDakar,14.6904,-17.4454, Senegal, Africa,4.8\\r\\nKigali,-1.9568,30.0551, Rwanda, Africa,5.3\\r\\nMogadishu,2.0371,45.3435, Somalia, Africa,4.8\\r\\nAbidjan,5.3627,-4.0046, C\\xc3\\xb4te d'Ivoire, Africa,5.3\\r\\nVanuatu,-15.3799,166.9556, Vanuatu, Oceania,5.1\\r\\nDar es Salaam,-6.7938,39.2117, Tanzania, Africa,5.3\\r\\nVladivostok,43.1712,132.0107, Russia, Asia,4.9\\r\\nOuagadougou,12.37,-1.5182, Burkina Faso, Africa,4.8\\r\\nBanjul,13.4502,-16.5887, Gambia, Africa,4.7\\r\\nKamchatka Peninsula,56.1299,160.6423, Russia, Asia,4.9\\r\\nDakar,14.6956,-17.4426, Senegal, Africa,5.2\\r\\nAbidjan,5.3609,-4.0117, C\\xc3\\xb4te d'Ivoire, Africa,5.8\\r\\nFreetown,8.4811,-13.2311, Sierra Leone, Africa,4.8\\r\\nBanjul,13.4494,-16.5879, Gambia, Africa,4.7\\r\\nOuagadougou,12.374,-1.5153, Burkina Faso, Africa,5.3\\r\\nSarajevo,43.8539,18.4149, Bosnia and Herzegovina, Europe,5.0\\r\\nYamoussoukro,6.8194,-5.2752, C\\xc3\\xb4te d'Ivoire, Africa,4.7\\r\\nBissau,11.861,-15.5813, Guinea-Bissau, Africa,4.8\\r\\nDakar,14.6932,-17.4491, Senegal, Africa,5.6\\r\\nNiamey,13.5092,2.1135, Niger, Africa,4.7\\r\\nYamoussoukro,6.8182,-5.2781, C\\xc3\\xb4te d'Ivoire, Africa,4.7\\r\\nSaint John's,17.1189,-61.849, Antigua and Barbuda, North America,5.6\\r\\nLilongwe,-13.961,33.773, Malawi, Africa,4.5\\r\\nOrcadas Base,-60.7302,-44.735, Antarctica, Antarctica,4.7\\r\\nBaku,40.4125,49.8634, Azerbaijan, Europe,5.3\\r\\nLjubljana,46.0546,14.5076, Slovenia, Europe,4.5\\r\\nBamako,12.6364,-8.0012, Mali, Africa,4.8\\r\\nBudapest,47.4979,19.0402, Hungary, Europe,4.9\\r\\nKathmandu,27.7181,85.3203, Nepal, Asia,5.8\\r\\nKhartoum,15.5,32.5, Sudan, Africa,4.7\\r\\nGustavia,17.8965,-62.8498, Saint Barthelemy, North America,4.9\\r\\nLhasa,29.653,91.1747, Tibet, Asia,5.2\\r\\nKamchatka Peninsula,56.1307,160.6442, Russia, Asia,4.7\\r\\nLisbon,38.7223,-9.1393, Portugal, Europe,4.9\\r\\nFreetown,8.4813,-13.2344, Sierra Leone, Africa,4.7\\r\\nVladivostok,43.171,132.0136, Russia, Asia,4.8\\r\\nGeorgetown,6.7989,-58.1569, Guyana, South America,4.8\\r\\nSouth Anatolian Fault Zone,36.2006,32.3239, Turkey, Europe,4.8\\r\\nBamako,12.6412,-7.998, Mali, Africa,5.3\\r\\nNouakchott,18.0745,-15.9715, Mauritania, Africa,5.8\\r\\nFreetown,8.4809,-13.234, Sierra Leone, Africa,4.7\\r\\nPort Louis,-20.1654,57.4896, Mauritius, Africa,4.9\\r\\nStanley,-51.7,-57.85, Falkland Islands, South America,4.8\\r\\nBelgrano II Base,-77.8695,-34.6117, Antarctica, Antarctica,5.2\\r\\nKampala,0.3112,32.5829, Uganda, Africa,4.6\\r\\nPhilippine Sea Plate,13.4681,122.6034, Philippines, Asia,5.7\\r\\nBanjul,13.452,-16.5863, Gambia, Africa,4.8\\r\\nFreetown,8.4851,-13.236, Sierra Leone, Africa,5.6\\r\\nUlaanbaatar,47.9192,106.8821, Mongolia, Asia,4.8\\r\\nCasey Station,-66.2861,110.5212, Antarctica, Antarctica,5.3\\r\\nFreetown,8.4871,-13.2291, Sierra Leone, Africa,5.3\\r\\nEsperanza Base,-63.3943,-57.0001, Antarctica, Antarctica,5.7\\r\\nFreetown,8.4821,-13.2353, Sierra Leone, Africa,4.7\\r\\nGeorge Town,19.2883,-81.3709, Cayman Islands, North America,5.6\\r\\nBissau,11.8612,-15.5838, Guinea-Bissau, Africa,4.7\\r\\nHargeisa,9.477,44.0735, Somalia, Africa,5.3\\r\\nThessaloniki,40.6401,22.9444, Greece, Europe,5.2\\r\\nKampala,0.3136,32.5811, Uganda, Africa,4.9\\r\\nBissau,11.866,-15.5791, Guinea-Bissau, Africa,5.2\\r\\nJuba,4.8572,31.5702, South Sudan, Africa,4.8\\r\\nPort of Spain,10.6589,-61.5107, Trinidad and Tobago, North America,5.3\\r\\nSan Jose,9.9259,-84.0896, Costa Rica, North America,4.9\\r\\nDakar,14.6902,-17.4483, Senegal, Africa,4.7\\r\\nYamoussoukro,6.8204,-5.2762, C\\xc3\\xb4te d'Ivoire, Africa,4.7\\r\\nGeorgetown,6.8023,-58.1571, Guyana, South America,4.7\\r\\nSan Andreas Fault,36.7759,-119.4197, United States, North America,4.7\\r\\nAegean Sea,37.9816,23.7264, Greece, Europe,4.7\\r\\nSan Juan,18.4655,-66.1057, Puerto Rico, North America,4.7\\r\\nBanjul,13.454,-16.5903, Gambia, Africa,5.7\\r\\nTripoli,32.8886,13.1947, Libya, Africa,5.2\\r\\nSofia,42.6991,23.3253, Bulgaria, Europe,5.5\\r\\nNouakchott,18.0709,-15.967, Mauritania, Africa,4.9\\r\\nBissau,11.8608,-15.5815, Guinea-Bissau, Africa,4.8\\r\\nLos Angeles,34.0522,-118.2437, USA, North America,4.3\\r\\nKabul,34.5531,69.2064, Afghanistan, Asia,4.8\\r\\nKinshasa,-4.4433,15.2697, Democratic Republic of the Congo, Africa,5.8\\r\\nNiamey,13.5096,2.1139, Niger, Africa,4.7\\r\\nNouakchott,18.0703,-15.9664, Mauritania, Africa,4.9\\r\\nCape Town,-33.9212,18.4196, South Africa, Africa,5.5\\r\\nConakry,9.5123,-13.7077, Guinea, Africa,5.3\\r\\nParamaribo,5.8552,-55.2001, Suriname, South America,5.2\\r\\nSaint Peter Port,49.4613,-2.5387, Guernsey, Europe,5.7\\r\\nKinshasa,-4.4397,15.2652, Democratic Republic of the Congo, Africa,4.9\\r\\nBamako,12.6392,-8.0029, Mali, Africa,4.8\\r\\nSanto Domingo,18.4875,-69.9346, Dominican Republic, North America,5.6\\r\\nCape Town,-33.9158,18.4222, South Africa, Africa,4.5\\r\\nAndaman and Nicobar Islands,11.7415,92.662, India, Asia,5.7\\r\\nFreetown,8.4857,-13.2366, Sierra Leone, Africa,5.6\\r\\nLisbon,38.7199,-9.1411, Portugal, Europe,4.7\\r\\nOrcadas Base,-60.7304,-44.7321, Antarctica, Antarctica,4.8\\r\\nOuagadougou,12.3736,-1.5149, Burkina Faso, Africa,5.3\\r\\nSumatra,0.0,102.0, Indonesia, Asia,4.2\\r\\nFreetown,8.4837,-13.2326, Sierra Leone, Africa,4.8\\r\\nKralendijk,12.1527,-68.4163, Bonaire, North America,5.3\\r\\nVernadsky Research Base,-65.247,-64.2665, Antarctica, Antarctica,5.7\\r\\nNiamey,13.5132,2.1153, Niger, Africa,5.7\\r\\nCaribbean Plate,18.1768,-68.9809, Dominican Republic, North America,4.8\\r\\nConakry,9.5117,-13.7071, Guinea, Africa,5.3\\r\\nYamoussoukro,6.817,-5.277, C\\xc3\\xb4te d'Ivoire, Africa,4.7\\r\\nConakry,9.5069,-13.7134, Guinea, Africa,4.7\\r\\nBishkek,42.9166,74.75, Kyrgyzstan, Asia,5.0\\r\\nYangon,16.8661,96.1951, Myanmar, Asia,5.4\\r\\nMarrakech,31.6273,-7.98, Morocco, Africa,4.8\\r\\nMaputo,-25.8948,32.6014, Mozambique, Africa,5.3\\r\\nYamoussoukro,6.8236,-5.2725, C\\xc3\\xb4te d'Ivoire, Africa,5.2\\r\\nGrytviken,-54.2849,-36.5052, South Georgia and the South Sandwich Islands, South America,5.2\\r\\nNiamey,13.5126,2.1147, Niger, Africa,5.7\\r\\nOuagadougou,12.3684,-1.5208, Burkina Faso, Africa,4.7\\r\\nSaint-Denis,-20.8789,55.4481, Reunion, Africa,4.7\\r\\nRome,41.9028,12.4964, Italy, Europe,5.3\\r\\nNouakchott,18.0713,-15.9674, Mauritania, Africa,4.9\\r\\nYamoussoukro,6.8208,-5.2786, C\\xc3\\xb4te d'Ivoire, Africa,5.6\\r\\nAlgiers,36.7504,3.044, Algeria, Africa,4.5\\r\\nSan Jose,9.9257,-84.0925, Costa Rica, North America,4.8\\r\\nMcMurdo Station,-77.8467,166.6861, Antarctica, Antarctica,4.9\\r\\nKyushu,33.5918,130.4051, Japan, Asia,5.6\\r\\nQuito,-0.231,-78.5267, Ecuador, South America,5.3\\r\\nSkopje,41.9949,21.429, North Macedonia, Europe,4.8\\r\\nCape Town,-33.9194,18.4267, South Africa, Africa,5.0\\r\\nTegucigalpa,14.0736,-87.1955, Honduras, North America,5.7\\r\\nTashkent,41.3146,69.2761, Uzbekistan, Asia,5.3\\r\\nMariana Trench,11.396,142.7162, Mariana Islands, Oceania,5.6\\r\\nSanto Domingo,18.4837,-69.933, Dominican Republic, North America,4.7\\r\\nZurich,47.3783,8.5451, Switzerland, Europe,5.9\\r\\nLisbon,38.7255,-9.1356, Portugal, Europe,5.1\\r\\nIstanbul,41.01,28.9766, Turkey, Europe,4.8\\r\\nBishkek,42.8666,74.75, Kyrgyzstan, Asia,5.2\\r\\nMawson Station,-67.6194,62.869, Antarctica, Antarctica,5.3\\r\\nNiamey,13.51,2.1112, Niger, Africa,4.8\\r\\nAddis Ababa,9.1428,40.4886, Ethiopia, Africa,4.8\\r\\nFaraday Station,-65.2565,-63.5033, Antarctica, Antarctica,4.8\\r\\nConakry,9.5063,-13.7098, Guinea, Africa,4.8\\r\\nBamako,12.638,-8.0017, Mali, Africa,4.8\\r\\nHilo,19.7075,-155.0864, United States, North America,4.8\\r\\nConakry,9.5065,-13.713, Guinea, Africa,4.7\\r\\nCairo,30.033,31.2336, Egypt, Africa,4.9\\r\\nAddis Ababa,9.145,40.4897, Ethiopia, Africa,4.9\\r\\nGustavia,17.8938,-62.8524, Saint Barthelemy, North America,4.8\\r\\nMonrovia,6.3094,-10.8004, Liberia, Africa,4.8\\r\\nBissau,11.863,-15.5826, Guinea-Bissau, Africa,4.8\\r\\nOuagadougou,12.3688,-1.5212, Burkina Faso, Africa,4.7\\r\\nAbidjan,5.3569,-4.0066, C\\xc3\\xb4te d'Ivoire, Africa,4.9\\r\\nAsuncion,-23.4439,-58.4472, Paraguay, South America,5.6\\r\\nDakar,14.6926,-17.4465, Senegal, Africa,4.7\\r\\nSofia,42.7009,23.3182, Bulgaria, Europe,5.1\\r\\nSouthern Chile,-39.8288,-73.0665, Chile, South America,5.3\\r\\nConakry,9.5083,-13.7107, Guinea, Africa,4.8\\r\\nConakry,9.5067,-13.7132, Guinea, Africa,4.7\\r\\nBissau,11.8602,-15.5848, Guinea-Bissau, Africa,4.7\\r\\nBanjul,13.4498,-16.5852, Gambia, Africa,4.8\\r\\nPort Moresby,-9.4467,147.1758, Papua New Guinea, Oceania,5.2\\r\\nPhilipsburg,18.0265,-63.051, Sint Maarten, North America,5.6\\r\\nBanjul,13.45,-16.5854, Gambia, Africa,4.8\\r\\nCaribbean Plate,18.1822,-68.9783, Dominican Republic, North America,5.2\\r\\nOkhotsk Plate,56.8385,143.5555, Russia, Asia,4.9\\r\\nGeorge Town,19.2845,-81.3693, Cayman Islands, North America,4.7\\r\\nGeorgetown,6.8047,-58.1553, Guyana, South America,4.7\\r\\nDar es Salaam,-6.7924,39.2083, Tanzania, Africa,4.2\\r\\nOuagadougou,12.368,-1.5173, Burkina Faso, Africa,4.8\\r\\nSaint-Denis,-20.8821,55.4444, Reunion, Africa,5.3\\r\\nCairo,30.0344,31.2369, Egypt, Africa,5.6\\r\\nLhasa,29.6545,91.1818, Tibet, Asia,4.9\\r\\nKamchatka Trench,53.05,161.0, Russia, Asia,4.8\\r\\nSaint Pierre,46.7775,-56.1761, Saint Pierre and Miquelon, North America,4.8\\r\\nPort Lockroy,-64.8233,-63.5062, Antarctica, Antarctica,4.8\\r\\nNorth Anatolian Fault Zone,40.9951,34.9831, Turkey, Europe,5.2\\r\\nKyushu,33.5904,130.4017, Japan, Asia,4.7\\r\\nBaku,40.4069,49.8689, Azerbaijan, Europe,4.7\\r\\nPort-au-Prince,18.541,-72.336, Haiti, North America,4.7\\r\\nGeorge Town,19.2847,-81.3664, Cayman Islands, North America,4.8\\r\\nBissau,11.8656,-15.5795, Guinea-Bissau, Africa,5.2\\r\\nDakar,14.6894,-17.4444, Senegal, Africa,4.8\\r\\nOkhotsk Plate,56.8383,143.5584, Russia, Asia,4.7\\r\\nKingston,18.0157,-76.8087, Jamaica, North America,4.9\\r\\nTaipei,25.0361,121.5617, Taiwan, Asia,5.7\\r\\nNuku'alofa,-21.1337,-175.206, Tonga, Oceania,4.6\\r\\nConakry,9.5097,-13.7141, Guinea, Africa,5.7\\r\\nDavis Station,-68.7788,78.1101, Antarctica, Antarctica,5.6\\r\\nAbidjan,5.3595,-4.0083, C\\xc3\\xb4te d'Ivoire, Africa,4.9\\r\\nAstana,51.167,71.4509, Kazakhstan, Asia,4.7\\r\\nTripoli,32.8872,13.1913, Libya, Africa,4.3\\r\\nManagua,12.1125,-86.238, Nicaragua, North America,4.7\\r\\nPanama City,8.9802,-79.5188, Panama, North America,4.8\\r\\nBamako,12.6414,-7.9982, Mali, Africa,5.3\\r\\nPort-au-Prince,18.5386,-72.3378, Haiti, North America,4.7\\r\\nSumatra,1.5,100.5, Indonesia, Asia,5.2\\r\\nKampala,0.3114,32.58, Uganda, Africa,4.8\\r\\nBamako,12.6356,-8.0035, Mali, Africa,4.7\\r\\nYangon,16.8675,96.1985, Myanmar, Asia,4.7\\r\\nSaint Peter Port,49.4575,-2.5371, Guernsey, Europe,4.7\\r\\nNouakchott,18.0731,-15.9681, Mauritania, Africa,4.9\\r\\nNouakchott,18.0759,-15.964, Mauritania, Africa,5.3\\r\\nSumatra,2.0,100.0, Indonesia, Asia,4.8\\r\\nNorth Anatolian Fault Zone,40.9895,34.9886, Turkey, Europe,4.7\\r\\nFreetown,8.4843,-13.2333, Sierra Leone, Africa,4.8\\r\\nZurich,47.3745,8.5435, Switzerland, Europe,4.7\\r\\nShikoku,33.7466,133.7328, Japan, Asia,4.7\\r\\nKhartoum,15.6,32.5, Sudan, Africa,4.6\\r\\nHarare,-17.8324,31.0485, Zimbabwe, Africa,5.2\\r\\nAntananarivo,-18.8768,47.5097, Madagascar, Africa,4.6\\r\\nPort-au-Prince,18.5442,-72.3323, Haiti, North America,5.3\\r\\nCasey Station,-66.2805,110.5267, Antarctica, Antarctica,4.8\\r\\nHonshu,35.6927,139.688, Japan, Asia,5.3\\r\\nConakry,9.5119,-13.7073, Guinea, Africa,5.3\\r\\nNiamey,13.51,2.1142, Niger, Africa,4.7\\r\\nPort of Spain,10.6535,-61.5164, Trinidad and Tobago, North America,4.7\\r\\nHamilton,32.2974,-64.7773, Bermuda, North America,5.3\\r\\nStanley,-51.6978,-57.8489, Falkland Islands, South America,4.8\\r\\nHalley Research Station,-75.584,-26.2612, Antarctica, Antarctica,4.7\\r\\nOuagadougou,12.3728,-1.5231, Burkina Faso, Africa,5.7\\r\\nTegucigalpa,14.0698,-87.1939, Honduras, North America,4.7\\r\\nParamaribo,5.8533,-55.2069, Suriname, South America,5.7\\r\\nUlaanbaatar,47.9246,106.8795, Mongolia, Asia,5.3\\r\\nKingston,17.9746,-76.7889, Jamaica, North America,5.2\\r\\nPetropavlovsk-Kamchatsky,53.0236,158.6534, Russia, Asia,5.7\\r\\nConakry,9.5093,-13.7117, Guinea, Africa,4.8\\r\\nHarare,-17.8306,31.0556, Zimbabwe, Africa,5.7\\r\\nKingston,18.0193,-76.8132, Jamaica, North America,5.8\\r\\nNiamey,13.5146,2.1078, Niger, Africa,5.3\\r\\nFreetown,8.4821,-13.2321, Sierra Leone, Africa,4.8\\r\\nAbidjan,5.3599,-4.0089, C\\xc3\\xb4te d'Ivoire, Africa,4.9\\r\\nTehran,35.6931,51.3928, Iran, Asia,4.9\\r\\nIstanbul,41.0082,28.9784, Turkey, Europe,4.3\\r\\nLisbon,38.7201,-9.1382, Portugal, Europe,4.6\\r\\nBamako,12.6368,-8.0016, Mali, Africa,4.9\\r\\nSumatra,0.5,101.5, Indonesia, Asia,5.0\\r\\nLilongwe,-13.9632,33.7741, Malawi, Africa,4.2\\r\\nConakry,9.5121,-13.7075, Guinea, Africa,5.3\\r\\nHamilton,32.292,-64.7799, Bermuda, North America,4.8\\r\\nMamoudzou,-12.7823,45.2313, Mayotte, Africa,5.2\\r\\nConakry,9.5063,-13.7128, Guinea, Africa,4.7\\r\\nOuagadougou,12.3714,-1.5216, Burkina Faso, Africa,5.7\\r\\nKingston,17.9692,-76.7915, Jamaica, North America,4.8\\r\\nTokyo,35.6918,139.6951, Japan, Asia,4.2\\r\\nVanuatu,-15.3781,166.9626, Vanuatu, Oceania,5.6\\r\\nPhilipsburg,18.0251,-63.0476, Sint Maarten, North America,4.7\\r\\nBamako,12.6358,-8.0037, Mali, Africa,4.7\\r\\nOkhotsk Plate,56.8439,143.5529, Russia, Asia,5.2\\r\\nNouakchott,18.0711,-15.9703, Mauritania, Africa,4.8\\r\\nBamako,12.6406,-8.0063, Mali, Africa,5.7\\r\\nAbidjan,5.3575,-4.0075, C\\xc3\\xb4te d'Ivoire, Africa,4.9\\r\\nCaribbean Plate,18.179,-68.982, Dominican Republic, North America,4.7\\r\\nLilongwe,-13.9608,33.7759, Malawi, Africa,4.8\\r\\nNiamey,13.5152,2.1084, Niger, Africa,5.3\\r\\nLusaka,-15.3851,28.3246, Zambia, Africa,4.6\\r\\nDakar,14.6906,-17.4456, Senegal, Africa,4.8\\r\\nAsuncion,-23.4403,-58.4427, Paraguay, South America,4.8\\r\\nJakarta,-6.2088,106.8456, Indonesia, Asia,4.7\\r\\nBogota,4.7109,-74.0721, Colombia, South America,5.4\\r\\nVernadsky Research Base,-65.2456,-64.2631, Antarctica, Antarctica,4.8\\r\\nMawson Station,-67.614,62.8716, Antarctica, Antarctica,4.8\\r\\nKuril Islands,45.5527,148.8833, Russia, Asia,4.8\\r\\nNouakchott,18.0707,-15.9699, Mauritania, Africa,4.8\\r\\nFreetown,8.4819,-13.2349, Sierra Leone, Africa,4.7\\r\\nBasseterre,17.2989,-62.7302, Saint Kitts and Nevis, North America,5.3\\r\\nNiamey,13.515,2.1082, Niger, Africa,5.3\\r\\nNouakchott,18.0761,-15.9642, Mauritania, Africa,5.3\\r\\nBucharest,44.429,26.1005, Romania, Europe,5.3\\r\\nSaint Peter Port,49.4577,-2.5342, Guernsey, Europe,4.8\\r\\nSan Salvador,13.6907,-89.2171, El Salvador, North America,4.8\\r\\nVernadsky Research Base,-65.2434,-64.262, Antarctica, Antarctica,4.8\\r\\nPuget Sound,47.7489,-122.3613, United States, North America,4.9\\r\\nRome,41.9015,12.4988, Italy, Europe,4.6\\r\\nRome,41.9052,12.494, Italy, Europe,5.0\\r\\nNouakchott,18.0751,-15.9721, Mauritania, Africa,5.8\\r\\nBudapest,47.4993,19.0436, Hungary, Europe,5.2\\r\\nLos Angeles,34.0509,-118.2421, USA, North America,4.9\\r\\nBamako,12.6398,-8.0055, Mali, Africa,5.7\\r\\nDavis Station,-68.7774,78.1067, Antarctica, Antarctica,4.7\\r\\nKinshasa,-4.4395,15.2681, Democratic Republic of the Congo, Africa,4.5\\r\\nMontevideo,-34.8989,-56.1861, Uruguay, South America,4.9\\r\\nNiamey,13.5103,2.1115, Niger, Africa,4.8\\r\\nYamoussoukro,6.823,-5.2719, C\\xc3\\xb4te d'Ivoire, Africa,5.2\\r\\nConakry,9.5127,-13.7083, Guinea, Africa,5.3\\r\\nNiamey,13.5139,2.116, Niger, Africa,5.7\\r\\nOuagadougou,12.3678,-1.5202, Burkina Faso, Africa,4.7\\r\\nCaribbean Plate,18.1766,-68.9838, Dominican Republic, North America,4.7\\r\\nManagua,12.1149,-86.2362, Nicaragua, North America,4.7\\r\\nSigny Research Station,-60.6324,-45.5935, Antarctica, Antarctica,5.7\\r\\nMonrovia,6.311,-10.804, Liberia, Africa,5.7\\r\\nSouthern Chile,-39.8256,-73.0702, Chile, South America,4.9\\r\\nMonrovia,6.3112,-10.8042, Liberia, Africa,5.7\\r\\nNouakchott,18.0707,-15.9668, Mauritania, Africa,4.9\\r\\nKhartoum,15.55,33.0, Sudan, Africa,5.1\\r\\nEast Pacific Rise,-3.9671,-103.3558, Peru, South America,5.6\\r\\nMamoudzou,-12.7787,45.2268, Mayotte, Africa,4.6\\r\\nBelgrade,44.7845,20.4478, Serbia, Europe,4.5\\r\\nDakar,14.6896,-17.4446, Senegal, Africa,4.8\\r\\nNouakchott,18.0727,-15.9677, Mauritania, Africa,4.9\\r\\nTokyo,35.6865,139.6923, Japan, Asia,5.8\\r\\nJakarta,-6.2103,106.849, Indonesia, Asia,5.5\\r\\nMawson Station,-67.6176,62.8761, Antarctica, Antarctica,5.7\\r\\nLilongwe,-13.9646,33.7775, Malawi, Africa,5.3\\r\\nNiamey,13.5094,2.1137, Niger, Africa,4.7\\r\\nCocos Plate,9.7489,-85.3932, Costa Rica, North America,4.8\\r\\nParamaribo,5.8496,-55.2056, Suriname, South America,4.7\\r\\nBamako,12.6392,-8.0049, Mali, Africa,5.7\\r\\nBissau,11.8604,-15.5819, Guinea-Bissau, Africa,4.8\\r\\nVienna,48.8566,16.3565, Austria, Europe,4.7\\r\\nSan Andreas Fault,36.7797,-119.4213, United States, North America,5.8\\r\\nMexico City,19.4347,-99.1324, Mexico, North America,4.2\\r\\nDakar,14.6892,-17.4473, Senegal, Africa,4.7\\r\\nNiamey,13.5103,2.1146, Niger, Africa,4.7\\r\\nNiamey,13.5101,2.1144, Niger, Africa,4.7\\r\\nBissau,11.8668,-15.5783, Guinea-Bissau, Africa,5.2\\r\\nOuagadougou,12.3712,-1.5194, Burkina Faso, Africa,4.8\\r\\nPetropavlovsk-Kamchatsky,53.0254,158.6463, Russia, Asia,5.2\\r\\nHargeisa,9.4752,44.0806, Somalia, Africa,5.7\\r\\nTegucigalpa,14.0754,-87.1884, Honduras, North America,5.3\\r\\nPort Louis,-20.163,57.4914, Mauritius, Africa,4.6\\r\\nBissau,11.8642,-15.5862, Guinea-Bissau, Africa,5.7\\r\\nSigny Research Station,-60.6286,-45.5919, Antarctica, Antarctica,4.7\\r\\nTunis,36.8079,10.1738, Tunisia, Africa,5.5\\r\\nKampala,0.315,32.5845, Uganda, Africa,5.6\\r\\nMexico City,19.4326,-99.1332, Mexico, North America,4.5\\r\\nAntananarivo,-18.8806,47.5113, Madagascar, Africa,5.9\\r\\nPhilippine Sea Plate,13.4645,122.5989, Philippines, Asia,4.8\\r\\nChristchurch,-43.5283,172.6419, New Zealand, Oceania,4.8\\r\\nLusaka,-15.3907,28.3191, Zambia, Africa,5.1\\r\\nKamchatka Peninsula,56.1335,160.6478, Russia, Asia,5.8\\r\\nYamoussoukro,6.8184,-5.2752, C\\xc3\\xb4te d'Ivoire, Africa,4.8\\r\\nLhasa,29.6516,91.1721, Tibet, Asia,4.1\\r\\nBamako,12.6366,-8.0045, Mali, Africa,4.8\\r\\nBudapest,47.5011,19.0365, Hungary, Europe,5.0\\r\\nHoniara,-9.4339,160.0429, Solomon Islands, Oceania,5.1\\r\\nAbidjan,5.3593,-4.008, C\\xc3\\xb4te d'Ivoire, Africa,4.9\\r\\nTbilisi,41.7183,44.8234, Georgia, Europe,5.3\\r\\nSan Juan,18.4687,-66.102, Puerto Rico, North America,5.2\\r\\nAthens,37.9861,23.7262, Greece, Europe,4.3\\r\\nAndaman and Nicobar Islands,11.7401,92.6586, India, Asia,4.8\\r\\nPhilipsburg,18.0229,-63.0465, Sint Maarten, North America,4.8\\r\\nNiamey,13.5105,2.1117, Niger, Africa,4.8\\r\\nLa Paz,-16.5,-68.15, Bolivia, South America,4.8\\r\\nCocos Plate,9.7467,-85.3921, Costa Rica, North America,4.9\\r\\nGeorgetown,6.8045,-58.1514, Guyana, South America,5.3\\r\\nMonrovia,6.3116,-10.8046, Liberia, Africa,5.7\\r\\nConakry,9.5071,-13.7138, Guinea, Africa,4.7\\r\\nDakar,14.6938,-17.4497, Senegal, Africa,5.6\\r\\nSanto Domingo,18.4839,-69.9301, Dominican Republic, North America,4.8\\r\\nFreetown,8.4867,-13.2287, Sierra Leone, Africa,5.3\\r\\nQuito,-0.2327,-78.5206, Ecuador, South America,5.2\\r\\nMaputo,-25.8916,32.6051, Mozambique, Africa,4.5\\r\\nMontevideo,-34.9011,-56.1872, Uruguay, South America,4.8\\r\\nMonrovia,6.3072,-10.7993, Liberia, Africa,4.8\\r\\nLusaka,-15.3889,28.3262, Zambia, Africa,5.8\\r\\nNouakchott,18.0733,-15.9683, Mauritania, Africa,4.9\\r\\nBissau,11.8648,-15.5856, Guinea-Bissau, Africa,5.7\\r\\nPuget Sound,47.7511,-122.3624, United States, North America,4.8\\r\\nConakry,9.5089,-13.7113, Guinea, Africa,4.8\\r\\nFaraday Station,-65.2589,-63.5015, Antarctica, Antarctica,4.9\\r\\nOuagadougou,12.3682,-1.5206, Burkina Faso, Africa,4.7\\r\\nSigny Research Station,-60.631,-45.5901, Antarctica, Antarctica,4.8\\r\\nBamako,12.6402,-8.0059, Mali, Africa,5.7\\r\\nIslamabad,33.6844,73.0479, Pakistan, Asia,4.3\\r\\nCocos Plate,9.7521,-85.3895, Costa Rica, North America,5.3\\r\\nAbidjan,5.3597,-4.0086, C\\xc3\\xb4te d'Ivoire, Africa,4.9\\r\\nLima,-12.0437,-77.0449, Peru, South America,4.9\\r\\nNiamey,13.5154,2.1086, Niger, Africa,5.3\\r\\nFreetown,8.4813,-13.2313, Sierra Leone, Africa,4.8\\r\\nPort Louis,-20.1668,57.493, Mauritius, Africa,5.7\\r\\nTirana,41.3251,19.8205, Albania, Europe,4.3\\r\\nNairobi,-1.2864,36.8172, Kenya, Africa,4.6\\r\\nThe Bottom,17.6387,-63.2312, Saba, North America,5.2\\r\\nTonga Trench,-23.1176,-172.0818, Tonga, Oceania,4.7\\r\\nSaint-Denis,-20.8765,55.4499, Reunion, Africa,4.8\\r\\nBanjul,13.4494,-16.5848, Gambia, Africa,4.8\\r\\nJuba,4.8608,31.5747, South Sudan, Africa,5.6\\r\\nConakry,9.5107,-13.7151, Guinea, Africa,5.7\\r\\nSan Salvador,13.6905,-89.22, El Salvador, North America,4.7\\r\\nYerevan,40.1886,44.5186, Armenia, Europe,5.6\\r\\nGeorgetown,6.8027,-58.1585, Guyana, South America,5.8\\r\\nAbidjan,5.3563,-4.0089, C\\xc3\\xb4te d'Ivoire, Africa,4.8\\r\\nSkopje,41.9951,21.426, North Macedonia, Europe,4.6\\r\\nCasey Station,-66.2843,110.5283, Antarctica, Antarctica,5.8\\r\\nVladivostok,43.1748,132.0152, Russia, Asia,5.6\\r\\nVanuatu,-15.3767,166.9592, Vanuatu, Oceania,4.5\\r\\nSan Jose,37.7749,-122.4194, United States, North America,4.7\\r\\nCascadia Subduction Zone,49.2859,-125.0058, Canada, North America,5.2\\r\\nBelgrade,44.7843,20.4507, Serbia, Europe,4.8\\r\\nPointe-\\xc3\\xa0-Pitre,16.2324,-61.5339, Guadeloupe, North America,4.8\\r\\nDakar,14.6958,-17.4428, Senegal, Africa,5.2\\r\\nHamilton,32.2956,-64.7844, Bermuda, North America,5.7\\r\\nZagreb,45.0,15.2, Croatia, Europe,4.8\\r\\nTegucigalpa,14.0722,-87.1921, Honduras, North America,4.8\\r\\nNiamey,13.5138,2.1158, Niger, Africa,5.7\\r\\nDavis Station,-68.7806,78.103, Antarctica, Antarctica,5.2\\r\\nYamoussoukro,6.8206,-5.2764, C\\xc3\\xb4te d'Ivoire, Africa,4.7\\r\\nRothera Research Station,-67.566,-68.1239, Antarctica, Antarctica,5.6\\r\\nYamoussoukro,6.8212,-5.279, C\\xc3\\xb4te d'Ivoire, Africa,5.6\\r\\nSkopje,42.0005,21.4235, North Macedonia, Europe,5.3\\r\\nSumatra,1.0,101.0, Indonesia, Asia,4.5\\r\\nPalmer Station,-64.7714,-64.0529, Antarctica, Antarctica,4.7\\r\\nTaipei,25.033,121.5654, Taiwan, Asia,4.7\\r\\nYamoussoukro,6.8238,-5.2726, C\\xc3\\xb4te d'Ivoire, Africa,5.2\\r\\nJuba,4.8626,31.5676, South Sudan, Africa,5.2\\r\\nMonrovia,6.3074,-10.7995, Liberia, Africa,4.8\\r\\nAshgabat,37.9838,58.3333, Turkmenistan, Asia,4.5\\r\\nMarrakech,31.6327,-7.9774, Morocco, Africa,5.2\\r\\nBujumbura,-3.3869,29.3629, Burundi, Africa,4.8\\r\\nNouakchott,18.0737,-15.9687, Mauritania, Africa,4.9\\r\\nPetropavlovsk-Kamchatsky,53.0222,158.65, Russia, Asia,4.8\\r\\nCape Town,-33.9156,18.4251, South Africa, Africa,4.7\\r\\nQuito,-0.2264,-78.5232, Ecuador, South America,4.6\\r\\nParamaribo,5.852,-55.2038, Suriname, South America,4.8\\r\\nGeorge Town,19.2901,-81.3638, Cayman Islands, North America,5.3\\r\\nAbidjan,5.3565,-4.006, C\\xc3\\xb4te d'Ivoire, Africa,4.9\\r\\nNiamey,13.5157,2.1089, Niger, Africa,5.3\\r\\nSaint Helier,49.1919,-2.1071, Jersey, Europe,4.7\\r\\nPort of Spain,10.6591,-61.5109, Trinidad and Tobago, North America,5.2\\r\\nNiamey,13.5094,2.1106, Niger, Africa,4.8\\r\\nKigali,-1.9514,30.0577, Rwanda, Africa,4.8\\r\\nDakar,14.6922,-17.4461, Senegal, Africa,4.7\\r\\nHokkaido,43.2235,142.8587, Japan, Asia,5.3\\r\\nBelgrade,44.7866,20.4489, Serbia, Europe,4.3\\r\\nBamako,12.6388,-8.0025, Mali, Africa,4.8\\r\\nGustavia,17.8976,-62.854, Saint Barthelemy, North America,5.8\\r\\nBujumbura,-3.3891,29.3641, Burundi, Africa,4.9\\r\\nDakar,14.696,-17.443, Senegal, Africa,5.2\\r\\nBamako,12.6356,-7.9994, Mali, Africa,4.8\\r\\nMarrakech,31.6271,-7.9829, Morocco, Africa,4.6\\r\\nBamako,12.639,-8.0027, Mali, Africa,4.9\\r\\nAthens,37.9815,23.7298, Greece, Europe,5.2\\r\\nLima,-12.0453,-77.0366, Peru, South America,4.8\\r\\nBridgetown,13.1132,-59.5988, Barbados, North America,4.8\\r\\nIstanbul,41.0047,28.9799, Turkey, Europe,5.3\\r\\nDakar,14.6928,-17.4467, Senegal, Africa,4.7\\r\\nAegean Sea,37.987,23.7238, Greece, Europe,5.2\\r\\nAegean Sea,37.9838,23.7275, Greece, Europe,4.6\\r\\nMonrovia,6.308,-10.8032, Liberia, Africa,4.7\\r\\nBissau,11.8638,-15.5866, Guinea-Bissau, Africa,5.7\\r\\nAbidjan,5.3631,-4.0051, C\\xc3\\xb4te d'Ivoire, Africa,5.3\\r\\nBucharest,44.429,26.1005, Romania, Europe,5.4\\r\\nTaipei,25.0296,121.5663, Taiwan, Asia,4.5\\r\\nSan Jose,9.9313,-84.087, Costa Rica, North America,5.2\\r\\nTaipei,25.0307,121.5632, Taiwan, Asia,4.9\\r\\nCascadia Subduction Zone,49.2805,-125.0084, Canada, North America,4.9\\r\\nCasey Station,-66.2807,110.5238, Antarctica, Antarctica,4.9\\r\\nAbidjan,5.3575,-4.0106, C\\xc3\\xb4te d'Ivoire, Africa,4.8\\r\\nNorth Anatolian Fault Zone,40.9933,34.9902, Turkey, Europe,5.6\\r\\nBasseterre,17.2941,-62.7322, Saint Kitts and Nevis, North America,4.8\\r\\nFreetown,8.4817,-13.2347, Sierra Leone, Africa,4.7\\r\\nSakhalin,46.9561,142.7365, Russia, Asia,4.7\\r\\nBanjul,13.4534,-16.5897, Gambia, Africa,5.7\\r\\nHamilton,32.2942,-64.781, Bermuda, North America,4.8\\r\\nMawson Station,-67.6138,62.8745, Antarctica, Antarctica,4.7\\r\\nBogota,4.7098,-74.0682, Colombia, South America,4.5\\r\\nSan Jose,9.9295,-84.0941, Costa Rica, North America,5.8\\r\\nPhilipsburg,18.0283,-63.0439, Sint Maarten, North America,5.2\\r\\nIslamabad,33.6827,73.0497, Pakistan, Asia,4.7\\r\\nNairobi,-1.2878,36.8206, Kenya, Africa,5.7\\r\\nRothera Research Station,-67.5624,-68.1194, Antarctica, Antarctica,4.8\\r\\nBelgrade,44.7899,20.4452, Serbia, Europe,5.0\\r\\nZurich,47.3801,8.538, Switzerland, Europe,5.1\\r\\nKabul,34.5553,69.2075, Afghanistan, Asia,4.9\\r\\nFreetown,8.4811,-13.2342, Sierra Leone, Africa,4.7\\r\\nSan Jose,37.7781,-122.4157, United States, North America,5.2\\r\\nSuva,-18.1279,178.4465, Fiji, Oceania,5.5\\r\\nOuagadougou,12.3744,-1.5157, Burkina Faso, Africa,5.3\\r\\nAlgiers,36.7528,3.0422, Algeria, Africa,4.7\\r\\nDakar,14.6948,-17.4418, Senegal, Africa,5.2\\r\\nJakarta,-6.2077,106.8438, Indonesia, Asia,4.8\\r\\nAegean Sea,37.9814,23.7293, Greece, Europe,4.8\\r\\nBanjul,13.4556,-16.583, Gambia, Africa,5.3\\r\\nHokkaido,43.2179,142.8642, Japan, Asia,4.8\\r\\nBamako,12.6364,-8.0043, Mali, Africa,4.7\\r\\nYamoussoukro,6.8202,-5.276, C\\xc3\\xb4te d'Ivoire, Africa,4.7\\r\\nQuito,-0.2273,-78.5232, Ecuador, South America,4.8\\r\\nSan Andreas Fault,36.7783,-119.4179, United States, North America,4.9\\r\\nBanjul,13.455,-16.5824, Gambia, Africa,5.3\\r\\nYangon,16.8637,96.197, Myanmar, Asia,4.3\\r\\nTbilisi,41.7165,44.8305, Georgia, Europe,5.8\\r\\nBissau,11.864,-15.5864, Guinea-Bissau, Africa,5.7\\r\\nPetropavlovsk-Kamchatsky,53.0198,158.6518, Russia, Asia,4.7\\r\\nSofia,42.6955,23.3208, Bulgaria, Europe,4.8\\r\\nBanjul,13.4516,-16.5859, Gambia, Africa,4.8\\r\\nConakry,9.5125,-13.7079, Guinea, Africa,5.3\\r\\nPort of Spain,10.6533,-61.5162, Trinidad and Tobago, North America,4.8\\r\\nOuagadougou,12.3676,-1.52, Burkina Faso, Africa,4.7\\r\\nJakarta,-6.206,106.8475, Indonesia, Asia,4.0\\r\\nSaint Peter Port,49.4599,-2.5353, Guernsey, Europe,4.8\\r\\nMonrovia,6.3136,-10.7977, Liberia, Africa,5.2\\r\\nSaint-Denis,-20.8767,55.447, Reunion, Africa,4.9\\r\\nMaputo,-25.8892,32.6069, Mozambique, Africa,4.7\\r\\nFort-de-France,14.615,-61.0529, Martinique, North America,5.3\\r\\nBanjul,13.4522,-16.5865, Gambia, Africa,4.8\\r\\nTunis,36.8097,10.1667, Tunisia, Africa,5.2\\r\\nNouakchott,18.0709,-15.9701, Mauritania, Africa,4.8\\r\\nMonrovia,6.3102,-10.8012, Liberia, Africa,4.8\\r\\nOuagadougou,12.3684,-1.5177, Burkina Faso, Africa,4.8\\r\\nBanjul,13.4506,-16.5863, Gambia, Africa,4.8\\r\\nBanjul,13.4502,-16.5856, Gambia, Africa,4.8\\r\\nVladivostok,43.1734,132.0118, Russia, Asia,4.9\\r\\nNouakchott,18.0735,-15.9685, Mauritania, Africa,4.9\\r\\nHalley Research Station,-75.5842,-26.2583, Antarctica, Antarctica,4.8\\r\\nBamako,12.6366,-8.0014, Mali, Africa,4.8\\r\\nNiamey,13.5092,2.1104, Niger, Africa,4.8\\r\\nSouth Anatolian Fault Zone,36.2028,32.325, Turkey, Europe,4.8\\r\\nYuzhno-Sakhalinsk,46.9606,142.7423, Russia, Asia,5.6\\r\\nBucharest,44.4254,26.105, Romania, Europe,4.4\\r\\nBucharest,44.4236,26.103, Romania, Europe,4.7\\r\\nDakar,14.6934,-17.4493, Senegal, Africa,5.6\\r\\nBudapest,47.4957,19.0391, Hungary, Europe,4.6\\r\\nBucharest,44.4282,26.0974, Romania, Europe,4.2\\r\\nKabul,34.5585,69.2039, Afghanistan, Asia,5.2\\r\\nSaint John's,17.1151,-61.8474, Antigua and Barbuda, North America,4.7\\r\\nBanjul,13.4554,-16.5828, Gambia, Africa,5.3\\r\\nSaint John's,17.1175,-61.8456, Antigua and Barbuda, North America,4.7\\r\\nApia,-13.852,-171.7448, Samoa, Oceania,5.0\\r\\nNouakchott,18.0747,-15.9717, Mauritania, Africa,5.8\\r\\nEast African Rift,-1.2953,36.8182, Kenya, Africa,5.3\\r\\nEsperanza Base,-63.3929,-56.9967, Antarctica, Antarctica,4.8\\r\\nYerevan,40.185,44.5141, Armenia, Europe,4.9\\r\\nBissau,11.8632,-15.5824, Guinea-Bissau, Africa,4.8\\r\\nTbilisi,41.7127,44.8289, Georgia, Europe,4.8\\r\\nYamoussoukro,6.8176,-5.2745, C\\xc3\\xb4te d'Ivoire, Africa,4.8\\r\\nVictoria,-4.6169,55.4507, Seychelles, Africa,4.5\\r\\nHokkaido,43.2217,142.8658, Japan, Asia,5.7\\r\\nTokyo,35.6895,139.6917, Japan, Asia,5.0\\r\\nMamoudzou,-12.7809,45.2279, Mayotte, Africa,4.3\\r\\nOuagadougou,12.3702,-1.5184, Burkina Faso, Africa,4.8\\r\\nOkhotsk Plate,56.8407,143.5566, Russia, Asia,4.8\\r\\nBissau,11.8636,-15.582, Guinea-Bissau, Africa,4.8\\r\\nDakar,14.6904,-17.4485, Senegal, Africa,4.7\\r\\nOuagadougou,12.3689,-1.5215, Burkina Faso, Africa,4.7\\r\\nNouakchott,18.0763,-15.9644, Mauritania, Africa,5.3\\r\\nThessaloniki,40.6379,22.9434, Greece, Europe,5.1\\r\\nEast Pacific Rise,-3.9657,-103.3524, Peru, South America,4.7\\r\\nNuku'alofa,-21.136,-175.204, Tonga, Oceania,4.7\\r\\nVernadsky Research Base,-65.2488,-64.2594, Antarctica, Antarctica,5.3\\r\\nYuzhno-Sakhalinsk,46.9592,142.7389, Russia, Asia,4.7\\r\\nLima,-12.0464,-77.0428, Peru, South America,4.5\\r\\nBanjul,13.4548,-16.5822, Gambia, Africa,5.3\\r\\nSkopje,41.9987,21.4305, North Macedonia, Europe,5.0\\r\\nDakar,14.6896,-17.4477, Senegal, Africa,4.7\\r\\nAndaman and Nicobar Islands,11.7377,92.6604, India, Asia,4.7\\r\\nAlgiers,36.7542,3.0456, Algeria, Africa,5.6\\r\\nRome,41.9037,12.4971, Italy, Europe,5.7\\r\\nApia,-13.8502,-171.7518, Samoa, Oceania,5.6\\r\\nKigali,-1.9536,30.0588, Rwanda, Africa,4.6\\r\\nBelgrano II Base,-77.8677,-34.6188, Antarctica, Antarctica,5.6\\r\\nMaputo,-25.893,32.6085, Mozambique, Africa,5.6\\r\\nFreetown,8.4847,-13.2356, Sierra Leone, Africa,5.6\\r\\nMonrovia,6.3132,-10.7973, Liberia, Africa,5.2\\r\\nKamchatka Trench,53.1,161.0, Russia, Asia,4.7\\r\\nHalley Research Station,-75.5878,-26.2628, Antarctica, Antarctica,5.7\\r\\nMamoudzou,-12.7785,45.2297, Mayotte, Africa,4.7\\r\\nKamchatka Trench,53.0,161.0, Russia, Asia,4.7\\r\\nFreetown,8.4849,-13.2358, Sierra Leone, Africa,5.6\\r\\nAntananarivo,-18.8824,47.5042, Madagascar, Africa,5.1\\r\\nSouthern Chile,-39.827,-73.0736, Chile, South America,5.8\\r\\nTashkent,41.3089,69.2816, Uzbekistan, Asia,4.8\\r\\nMexico City,19.4283,-99.1347, Mexico, North America,5.4\\r\\nAstana,51.1708,71.4525, Kazakhstan, Asia,5.8\\r\\nTirana,41.3307,19.815, Albania, Europe,5.0\\r\\nPalmer Station,-64.7728,-64.0563, Antarctica, Antarctica,5.6\\r\\nBissau,11.8614,-15.5809, Guinea-Bissau, Africa,4.8\\r\\nAshgabat,37.9814,58.3352, Turkmenistan, Asia,4.3\\r\\nPointe-\\xc3\\xa0-Pitre,16.2378,-61.5313, Guadeloupe, North America,5.2\\r\\nSaint John's,17.1153,-61.8445, Antigua and Barbuda, North America,4.8\\r\\nThessaloniki,40.6433,22.9408, Greece, Europe,4.6\\r\\nAstana,51.1726,71.4454, Kazakhstan, Asia,5.2\\r\\nBamako,12.6362,-8.001, Mali, Africa,4.8\\r\\nFort-de-France,14.6118,-61.0566, Martinique, North America,4.8\\r\\nTonga Trench,-23.1214,-172.0834, Tonga, Oceania,5.7\\r\\nAthens,37.9797,23.7285, Greece, Europe,5.0\\r\\nFreetown,8.4817,-13.2317, Sierra Leone, Africa,4.8\\r\\nManagua,12.1127,-86.2351, Nicaragua, North America,4.8\\r\\nRoad Town,18.4168,-64.5593, British Virgin Islands, North America,4.8\\r\\nSofia,42.6953,23.3237, Bulgaria, Europe,4.9\\r\\nBudapest,47.4955,19.042, Hungary, Europe,4.8\\r\\nTashkent,41.3092,69.2786, Uzbekistan, Asia,4.6\\r\\nApia,-13.8466,-171.7473, Samoa, Oceania,4.8\\r\\nBanjul,13.4504,-16.5892, Gambia, Africa,4.7\\r\\nYamoussoukro,6.8234,-5.2723, C\\xc3\\xb4te d'Ivoire, Africa,5.2\\r\\nDakar,14.69,-17.445, Senegal, Africa,4.8\\r\\nPodgorica,42.4426,19.2689, Montenegro, Europe,4.7\\r\\nManila,13.4143,122.5647, Philippines, Asia,5.3\\r\\nGrytviken,-54.2795,-36.5078, South Georgia and the South Sandwich Islands, South America,4.8\\r\\nKamchatka Peninsula,56.1353,160.6397, Russia, Asia,5.3\\r\\nAbidjan,5.3623,-4.004, C\\xc3\\xb4te d'Ivoire, Africa,5.3\\r\\nAsuncion,-23.4457,-58.4401, Paraguay, South America,5.2\\r\\nYamoussoukro,6.8174,-5.2743, C\\xc3\\xb4te d'Ivoire, Africa,4.8\\r\\nAbidjan,5.3569,-4.0098, C\\xc3\\xb4te d'Ivoire, Africa,4.8\\r\\nDakar,14.693,-17.4489, Senegal, Africa,5.6\\r\\nPhilippine Sea Plate,13.4699,122.5963, Philippines, Asia,5.3\\r\\nPuget Sound,47.7543,-122.3587, United States, North America,5.2\\r\\nSantiago,-33.4521,-70.6647, Chile, South America,4.5\\r\\nRothera Research Station,-67.5646,-68.1205, Antarctica, Antarctica,4.7\\r\\nSaint Pierre,46.7829,-56.1735, Saint Pierre and Miquelon, North America,5.2\\r\\nOuagadougou,12.3746,-1.516, Burkina Faso, Africa,5.2\\r\\nAbidjan,5.3571,-4.0069, C\\xc3\\xb4te d'Ivoire, Africa,4.9\\r\\nHilo,19.7089,-155.0898, United States, North America,5.7\\r\\nMonrovia,6.3104,-10.8014, Liberia, Africa,4.8\\r\\nConakry,9.5087,-13.7111, Guinea, Africa,4.8\\r\\nKyushu,33.5936,130.398, Japan, Asia,5.2\\r\\nDavis Station,-68.7752,78.1056, Antarctica, Antarctica,4.8\\r\\nEast Pacific Rise,-3.9633,-103.3542, Peru, South America,4.7\\r\\nTripoli,32.8848,13.1931, Libya, Africa,4.7\\r\\nBamako,12.6404,-8.0061, Mali, Africa,5.8\\r\\nSofia,42.6955,23.3208, Bulgaria, Europe,4.7\\r\\nSouth Anatolian Fault Zone,36.2004,32.3268, Turkey, Europe,4.7\\r\\nHonshu,35.6895,139.6917, Japan, Asia,4.9\\r\\nMonrovia,6.3118,-10.8048, Liberia, Africa,5.7\\r\\nSofia,42.6991,23.3253, Bulgaria, Europe,5.4\\r\\nSan Francisco,37.7756,-122.4189, USA, North America,5.0\\r\\nBissau,11.8606,-15.5817, Guinea-Bissau, Africa,4.8\\r\\nOuagadougou,12.3742,-1.5155, Burkina Faso, Africa,5.3\\r\\nNouakchott,18.0749,-15.9719, Mauritania, Africa,5.8\\r\\nJuba,4.857,31.5731, South Sudan, Africa,4.7\\r\\nSan Jose,9.9281,-84.0907, Costa Rica, North America,4.9\\r\\nIslamabad,33.6861,73.0453, Pakistan, Asia,5.1\\r\\nKhartoum,15.55,32.5, Sudan, Africa,4.9\\r\\nAbidjan,5.3567,-4.0063, C\\xc3\\xb4te d'Ivoire, Africa,4.9\\r\\nAddis Ababa,9.1482,40.486, Ethiopia, Africa,5.2\\r\\nBamako,12.64,-8.0057, Mali, Africa,5.7\\r\\nGrytviken,-54.2793,-36.5107, South Georgia and the South Sandwich Islands, South America,4.7\\r\\nHilo,19.7107,-155.0827, United States, North America,5.3\\r\\nOuagadougou,12.3734,-1.5147, Burkina Faso, Africa,5.3\\r\\nHalley Research Station,-75.5864,-26.2594, Antarctica, Antarctica,4.8\\r\\nDakar,14.694,-17.4499, Senegal, Africa,5.6\\r\\nNiamey,13.5098,2.1141, Niger, Africa,4.7\\r\\nBanjul,13.4558,-16.5832, Gambia, Africa,5.3\\r\\nNiamey,13.5144,2.1076, Niger, Africa,5.3\\r\\nParamaribo,5.8498,-55.2027, Suriname, South America,4.9\\r\\nBissau,11.8664,-15.5787, Guinea-Bissau, Africa,5.2\\r\\nKing Edward Point,-54.2865,-36.4963, South Georgia and the South Sandwich Islands, South America,5.3\\r\\nHalley Research Station,-75.5896,-26.2557, Antarctica, Antarctica,5.3\\r\\nAbidjan,5.3571,-4.0101, C\\xc3\\xb4te d'Ivoire, Africa,4.8\\r\\nCascadia Subduction Zone,49.2841,-125.0129, Canada, North America,5.7\\r\\nShikoku,33.7522,133.7273, Japan, Asia,5.2\\r\\nGeorge Town,19.2869,-81.3675, Cayman Islands, North America,4.7\\r\\nNiamey,13.5098,2.111, Niger, Africa,4.8\\r\\nPort Lockroy,-64.8287,-63.5036, Antarctica, Antarctica,5.3\\r\\nNorthern Chile,-23.4401,-68.4511, Chile, South America,4.7\\r\\nKingston,18.0179,-76.8098, Jamaica, North America,4.9\\r\\nAndaman and Nicobar Islands,11.7379,92.6575, India, Asia,4.9\\r\\nAthens,37.9844,23.725, Greece, Europe,4.7\\r\\nMonrovia,6.3128,-10.7969, Liberia, Africa,5.2\\r\\nBamako,12.6418,-7.9986, Mali, Africa,5.3\\r\\nTbilisi,41.7151,44.8271, Georgia, Europe,4.9\\r\\nMonrovia,6.3114,-10.8044, Liberia, Africa,5.7\\r\\nKingston,17.9728,-76.796, Jamaica, North America,5.7\\r\\nVanuatu,-15.3753,166.961, Vanuatu, Oceania,4.3\\r\\nNorthern Chile,-23.4403,-68.4482, Chile, South America,4.8\\r\\nPanama City,8.9838,-79.5233, Panama, North America,5.6\\r\\nPanama City,8.98,-79.5217, Panama, North America,4.7\\r\\nPort Moresby,-9.4401,147.1823, Papua New Guinea, Oceania,4.6\\r\\nBanjul,13.4504,-16.5858, Gambia, Africa,4.8\\r\\nNouakchott,18.0725,-15.9675, Mauritania, Africa,4.9\\r\\nOrcadas Base,-60.7358,-44.7295, Antarctica, Antarctica,5.2\\r\\nKamchatka Trench,53.05,162.0, Russia, Asia,5.2\\r\\nBanjul,13.45,-16.5885, Gambia, Africa,4.7\\r\\nConakry,9.5105,-13.7149, Guinea, Africa,5.7\\r\\nBissau,11.8608,-15.5842, Guinea-Bissau, Africa,4.7\\r\\nLos Angeles,34.0516,-118.2455, USA, North America,5.5\\r\\nHonshu,35.6909,139.6951, Japan, Asia,5.8\\r\\nBanjul,13.4492,-16.5877, Gambia, Africa,4.7\\r\\nQuito,-0.2295,-78.5243, Ecuador, South America,4.7\\r\\nManila,13.411,122.5602, Philippines, Asia,4.2\\r\\nAshgabat,37.9816,58.3322, Turkmenistan, Asia,4.8\\r\\nNorthern Chile,-23.4439,-68.4527, Chile, South America,5.5\\r\\nSan Juan,18.4669,-66.1091, Puerto Rico, North America,5.6\\r\\nCairo,30.0308,31.2324, Egypt, Africa,4.8\\r\\nNiamey,13.5156,2.1087, Niger, Africa,5.3\\r\\nCaribbean Plate,18.1804,-68.9854, Dominican Republic, North America,5.6\\r\\nGrytviken,-54.2817,-36.5089, South Georgia and the South Sandwich Islands, South America,4.8\\r\\nKuril Islands,45.5525,148.8862, Russia, Asia,4.7\\r\\nMonrovia,6.307,-10.8022, Liberia, Africa,4.7\\r\\nHamilton,32.2918,-64.7828, Bermuda, North America,4.7\\r\\nKing Edward Point,-54.2809,-36.5018, South Georgia and the South Sandwich Islands, South America,4.7\\r\\nConakry,9.5065,-13.71, Guinea, Africa,4.8\\r\\nOuagadougou,12.3678,-1.5171, Burkina Faso, Africa,4.8\\r\\nBishkek,42.9666,74.6, Kyrgyzstan, Asia,4.7\\r\\nConakry,9.5069,-13.7104, Guinea, Africa,4.8\\r\\nTunis,36.8043,10.1693, Tunisia, Africa,4.7\\r\\nAbidjan,5.3629,-4.0049, C\\xc3\\xb4te d'Ivoire, Africa,5.3\\r\\nAntananarivo,-18.8792,47.5079, Madagascar, Africa,4.8\\r\\nBamako,12.6362,-8.0041, Mali, Africa,4.7\\r\\nSan Francisco,37.7749,-122.4194, USA, North America,4.8\\r\\nYamoussoukro,6.8216,-5.2794, C\\xc3\\xb4te d'Ivoire, Africa,5.6\\r\\nHarare,-17.8268,31.0539, Zimbabwe, Africa,4.7\\r\\nSaint Helier,49.1951,-2.1034, Jersey, Europe,5.2\\r\\nBridgetown,13.111,-59.5977, Barbados, North America,4.8\\r\\nConakry,9.5101,-13.7145, Guinea, Africa,5.7\\r\\nMonrovia,6.312,-10.8049, Liberia, Africa,5.7\\r\\nBanjul,13.4536,-16.5899, Gambia, Africa,5.7\\r\\nZurich,47.3747,8.5406, Switzerland, Europe,4.2\\r\\nSofia,42.6953,23.3237, Bulgaria, Europe,4.7\\r\\nBanjul,13.4542,-16.5908, Gambia, Africa,5.7\\r\\nQuito,-0.2272,-78.5252, Ecuador, South America,4.7\\r\\nSigny Research Station,-60.6288,-45.589, Antarctica, Antarctica,4.8\\r\\nUlaanbaatar,47.9228,106.8866, Mongolia, Asia,5.7\\r\\nFaraday Station,-65.2603,-63.5049, Antarctica, Antarctica,5.8\\r\\nSantiago,-33.4505,-70.6717, Chile, South America,5.2\\r\\nSaint-Denis,-20.8803,55.4515, Reunion, Africa,5.6\\r\\nRothera Research Station,-67.5678,-68.1168, Antarctica, Antarctica,5.2\\r\\nBissau,11.8662,-15.5789, Guinea-Bissau, Africa,5.2\\r\\nConakry,9.5085,-13.7109, Guinea, Africa,4.8\\r\\nPort-au-Prince,18.5424,-72.3394, Haiti, North America,5.6\\r\\nYamoussoukro,6.8176,-5.2776, C\\xc3\\xb4te d'Ivoire, Africa,4.7\\r\\nMoroni,-11.7172,43.2475, Comoros, Africa,4.7\\r\\nCocos Plate,9.7503,-85.3966, Costa Rica, North America,5.7\\r\\nConakry,9.5073,-13.7109, Guinea, Africa,4.8\\r\\nVienna,48.8544,16.3555, Austria, Europe,4.9\\r\\nZagreb,45.05,15.4, Croatia, Europe,5.2\\r\\nOuagadougou,12.3708,-1.519, Burkina Faso, Africa,4.8\\r\\nBamako,12.636,-8.0039, Mali, Africa,4.7\\r\\nLima,-12.05,-77.0392, Peru, South America,5.3\\r\\nFreetown,8.4819,-13.2319, Sierra Leone, Africa,4.8\\r\\nRome,41.899,12.4957, Italy, Europe,4.2\\r\\nMonrovia,6.3078,-10.803, Liberia, Africa,4.7\\r\\nNairobi,-1.284,36.819, Kenya, Africa,4.8\\r\\nMcMurdo Station,-77.8481,166.6895, Antarctica, Antarctica,5.8\\r\\nPort Moresby,-9.4438,147.1803, Papua New Guinea, Oceania,4.2\\r\\nCocos Plate,9.7465,-85.395, Costa Rica, North America,4.8\\r\\nAbidjan,5.3577,-4.0077, C\\xc3\\xb4te d'Ivoire, Africa,4.9\\r\\nDushanbe,38.5,69.25, Tajikistan, Asia,5.1\\r\\nBucharest,44.4268,26.1025, Romania, Europe,5.1\\r\\nDakar,14.6952,-17.4422, Senegal, Africa,5.2\\r\\nPointe-\\xc3\\xa0-Pitre,16.2322,-61.5368, Guadeloupe, North America,4.7\\r\\nSan Salvador,13.6929,-89.2182, El Salvador, North America,4.8\\r\\nAegean Sea,37.9852,23.7309, Greece, Europe,5.5\\r\\nPalmer Station,-64.7746,-64.0492, Antarctica, Antarctica,5.2\\r\\nPodgorica,42.4459,19.2653, Montenegro, Europe,5.2\\r\\nKhartoum,15.5,33.0, Sudan, Africa,5.8\\r\\nBelgrade,44.7881,20.4523, Serbia, Europe,5.2\\r\\nMariana Trench,11.3924,142.7117, Mariana Islands, Oceania,4.8\\r\\nBanjul,13.453,-16.5893, Gambia, Africa,5.7\\r\\nQuito,-0.2271,-78.5261, Ecuador, South America,4.7\\r\\nSuva,-18.1225,178.449, Fiji, Oceania,4.7\\r\\nParamaribo,5.8497,-55.2024, Suriname, South America,4.8\\r\\nOuagadougou,12.3704,-1.5186, Burkina Faso, Africa,4.8\\r\\nKralendijk,12.1509,-68.4234, Bonaire, North America,5.7\\r\\nOrcadas Base,-60.7326,-44.7332, Antarctica, Antarctica,4.7\\r\\nBaku,40.4071,49.866, Azerbaijan, Europe,4.8\\r\\nGeorgetown,6.8079,-58.1516, Guyana, South America,5.3\\r\\nFreetown,8.4845,-13.2336, Sierra Leone, Africa,4.8\\r\\nDakar,14.6894,-17.4475, Senegal, Africa,4.7\\r\\nNouakchott,18.0757,-15.9638, Mauritania, Africa,5.3\\r\\nNuku'alofa,-21.1375,-175.2075, Tonga, Oceania,5.7\\r\\nBasseterre,17.2957,-62.7339, Saint Kitts and Nevis, North America,4.9\\r\\nBamako,12.6368,-8.0047, Mali, Africa,4.7\\r\\nSuva,-18.1262,178.4535, Fiji, Oceania,5.2\\r\\nYellowstone National Park,44.4311,-110.5848, United States, North America,5.3\\r\\nBelgrano II Base,-77.8663,-34.6154, Antarctica, Antarctica,4.7\\r\\nAbidjan,5.3607,-4.0114, C\\xc3\\xb4te d'Ivoire, Africa,5.8\\r\\nLhasa,29.6488,91.1769, Tibet, Asia,4.6\\r\\nPanama City,8.9856,-79.5162, Panama, North America,5.3\\r\\nPointe-\\xc3\\xa0-Pitre,16.236,-61.5384, Guadeloupe, North America,5.7\\r\\nNiamey,13.5127,2.1128, Niger, Africa,4.8\\r\\nSuva,-18.1223,178.452, Fiji, Oceania,4.6\\r\\nRoad Town,18.4204,-64.5638, British Virgin Islands, North America,5.7\\r\\nMonrovia,6.3074,-10.8026, Liberia, Africa,4.7\\r\\nPhilipsburg,18.0227,-63.0494, Sint Maarten, North America,4.7\\r\\nKamchatka Peninsula,56.132,160.6442, Russia, Asia,4.6\\r\\nParamaribo,5.8519,-55.2035, Suriname, South America,4.8\\r\\nHilo,19.7051,-155.0882, United States, North America,4.6\\r\\nCairo,30.0362,31.2298, Egypt, Africa,5.3\\r\\nRoad Town,18.419,-64.5604, British Virgin Islands, North America,4.8\\r\\nHargeisa,9.4714,44.079, Somalia, Africa,4.7\\r\\nMogadishu,2.0349,45.3424, Somalia, Africa,4.8\\r\\nAbidjan,5.3611,-4.012, C\\xc3\\xb4te d'Ivoire, Africa,5.8\\r\\nChristchurch,-43.5306,172.6396, New Zealand, Oceania,5.0\\r\\nVictoria,-4.6167,55.4536, Seychelles, Africa,4.7\\r\\nNouakchott,18.0729,-15.9679, Mauritania, Africa,4.9\\r\\nFreetown,8.4859,-13.2369, Sierra Leone, Africa,5.6\\r\\nSaint Peter Port,49.4631,-2.5316, Guernsey, Europe,5.3\\r\\nSarajevo,43.8563,18.4131, Bosnia and Herzegovina, Europe,5.1\\r\\nBogota,4.7087,-74.0743, Colombia, South America,5.2\\r\\nTokyo,35.6882,139.6903, Japan, Asia,6.1\\r\\nKingston,17.9689,-76.7944, Jamaica, North America,4.7\\r\\nMontevideo,-34.9025,-56.1906, Uruguay, South America,5.7\\r\\nKathmandu,27.7196,85.3217, Nepal, Asia,5.0\\r\\nTripoli,32.8904,13.1876, Libya, Africa,5.1\\r\\nNouakchott,18.0741,-15.9711, Mauritania, Africa,5.8\\r\\nSouth Anatolian Fault Zone,36.206,32.3213, Turkey, Europe,5.3\\r\\nConakry,9.5067,-13.7102, Guinea, Africa,4.8\\r\\nFort-de-France,14.6096,-61.0555, Martinique, North America,4.8\\r\\nOuagadougou,12.3692,-1.5186, Burkina Faso, Africa,4.8\\r\\nAbidjan,5.3573,-4.0104, C\\xc3\\xb4te d'Ivoire, Africa,4.8\\r\\nGrytviken,-54.2831,-36.5123, South Georgia and the South Sandwich Islands, South America,5.7\\r\\nKigali,-1.9512,30.0606, Rwanda, Africa,4.7\\r\\nMoroni,-11.7186,43.2509, Comoros, Africa,5.8\\r\\nNouakchott,18.0765,-15.9646, Mauritania, Africa,5.3\\r\\nLilongwe,-13.9664,33.7704, Malawi, Africa,5.0\\r\\nKabul,34.5529,69.2094, Afghanistan, Asia,4.7\\r\\nHoniara,-9.4315,160.0448, Solomon Islands, Oceania,4.2\\r\\nMonrovia,6.3098,-10.8008, Liberia, Africa,4.8\\r\\nMontevideo,-34.8987,-56.189, Uruguay, South America,4.8\\r\\nMcMurdo Station,-77.8445,166.685, Antarctica, Antarctica,4.9\\r\\nGustavia,17.8941,-62.8516, Saint Barthelemy, North America,4.8\\r\\nKathmandu,27.7172,85.324, Nepal, Asia,5.3\\r\\nBamako,12.6386,-8.0023, Mali, Africa,4.8\\r\\nPort Lockroy,-64.8269,-63.5107, Antarctica, Antarctica,5.7\\r\\nThe Bottom,17.6331,-63.2367, Saba, North America,4.7\\r\\nNiamey,13.5159,2.1091, Niger, Africa,5.3\\r\\nPort Louis,-20.1686,57.4859, Mauritius, Africa,5.2\\r\\nNouakchott,18.0701,-15.9693, Mauritania, Africa,4.8\\r\\nYangon,16.8639,96.194, Myanmar, Asia,5.1\\r\\nYellowstone National Park,44.4279,-110.5885, United States, North America,4.7\\r\\nMonrovia,6.3084,-10.8004, Liberia, Africa,4.8\\r\\nSaint John's,17.1207,-61.8419, Antigua and Barbuda, North America,5.2\\r\\nHonshu,35.6871,139.6935, Japan, Asia,4.8\\r\\nAbidjan,5.3573,-4.0072, C\\xc3\\xb4te d'Ivoire, Africa,4.9\\r\\nNouakchott,18.0739,-15.9709, Mauritania, Africa,5.8\\r\\nHarare,-17.8292,31.0522, Zimbabwe, Africa,4.8\\r\\nSan Francisco,37.7768,-122.4163, USA, North America,4.4\\r\\nStanley,-51.6976,-57.8518, Falkland Islands, South America,4.7\\r\\nTehran,35.6895,51.3889, Iran, Asia,5.2\\r\\nMogadishu,2.0347,45.3453, Somalia, Africa,4.7\\r\\nNiamey,13.5102,2.1113, Niger, Africa,4.8\\r\\nYerevan,40.1872,44.5152, Armenia, Europe,4.7\\r\\nBamako,12.637,-8.0018, Mali, Africa,4.8\\r\\nNiamey,13.509,2.1133, Niger, Africa,4.7\\r\\nEast African Rift,-1.2899,36.8208, Kenya, Africa,4.9\\r\\nBanjul,13.4526,-16.5869, Gambia, Africa,4.8\\r\\nHargeisa,9.4716,44.0761, Somalia, Africa,4.8\\r\\nBissau,11.865,-15.5854, Guinea-Bissau, Africa,5.7\\r\\nPetropavlovsk-Kamchatsky,53.02,158.6489, Russia, Asia,4.8\\r\\nSigny Research Station,-60.6342,-45.5864, Antarctica, Antarctica,5.3\\r\\nNiamey,13.5088,2.1131, Niger, Africa,4.7\\r\\nMonrovia,6.308,-10.8001, Liberia, Africa,4.8\\r\\nTehran,35.6877,51.3892, Iran, Asia,4.4\\r\\nSofia,42.6977,23.3219, Bulgaria, Europe,4.5\\r\\nMarrakech,31.6295,-7.9811, Morocco, Africa,4.4\\r\\nJuba,4.8594,31.5713, South Sudan, Africa,4.7\\r\\nNiamey,13.5148,2.108, Niger, Africa,5.3\\r\\nOuagadougou,12.3706,-1.5188, Burkina Faso, Africa,4.8\\r\\nBissau,11.8606,-15.5844, Guinea-Bissau, Africa,4.7\\r\\nFort-de-France,14.6094,-61.0584, Martinique, North America,4.7\\r\\nAbidjan,5.3619,-4.0034, C\\xc3\\xb4te d'Ivoire, Africa,5.3\\r\\nMariana Trench,11.3922,142.7146, Mariana Islands, Oceania,4.7\\r\\nDushanbe,38.45,68.75, Tajikistan, Asia,4.5\\r\\nParamaribo,5.8551,-55.1998, Suriname, South America,5.3\\r\\nNiamey,13.5136,2.1157, Niger, Africa,5.7\\r\\nGustavia,17.8943,-62.8487, Saint Barthelemy, North America,4.9\\r\\nNouakchott,18.0769,-15.965, Mauritania, Africa,5.3\\r\\nMonrovia,6.3082,-10.8003, Liberia, Africa,4.8\\r\\nDar es Salaam,-6.7902,39.2072, Tanzania, Africa,4.5\\r\\nPort of Spain,10.6559,-61.5146, Trinidad and Tobago, North America,4.8\\r\\nAbidjan,5.3621,-4.0037, C\\xc3\\xb4te d'Ivoire, Africa,5.3\\r\\nKing Edward Point,-54.2833,-36.5, South Georgia and the South Sandwich Islands, South America,4.7\\r\\nYamoussoukro,6.8178,-5.2747, C\\xc3\\xb4te d'Ivoire, Africa,4.8\\r\\nDakar,14.69,-17.4481, Senegal, Africa,4.7\\r\\nAsuncion,-23.4401,-58.4456, Paraguay, South America,4.7\\r\\nBamako,12.6378,-8.0015, Mali, Africa,4.8\\r\\nRothera Research Station,-67.5622,-68.1223, Antarctica, Antarctica,4.7\\r\\nBasseterre,17.2935,-62.7328, Saint Kitts and Nevis, North America,4.9\\r\\nSan Francisco,37.7724,-122.4211, USA, North America,4.2\\r\\nNuku'alofa,-21.1339,-175.203, Tonga, Oceania,4.9\\r\\nHarare,-17.827,31.0511, Zimbabwe, Africa,4.9\\r\\nTunis,36.8065,10.1704, Tunisia, Africa,4.8\\r\\nDakar,14.6898,-17.4479, Senegal, Africa,4.7\\r\\nBissau,11.8612,-15.5811, Guinea-Bissau, Africa,4.8\\r\\nBanjul,13.4524,-16.5867, Gambia, Africa,4.8\\r\\nMonrovia,6.3108,-10.8038, Liberia, Africa,5.7\\r\\nTirana,41.3275,19.8187, Albania, Europe,4.8\\r\\nSuva,-18.1248,178.4501, Fiji, Oceania,4.9\\r\\nFreetown,8.4833,-13.2322, Sierra Leone, Africa,4.8\\r\\nFreetown,8.4873,-13.2293, Sierra Leone, Africa,5.3\\r\\nBridgetown,13.1146,-59.6022, Barbados, North America,5.7\\r\\nSkopje,41.9973,21.427, North Macedonia, Europe,4.2\\r\\nKigali,-1.955,30.0622, Rwanda, Africa,5.5\\r\\nKamchatka Trench,53.0,162.0, Russia, Asia,5.6\\r\\nVictoria,-4.6223,55.4481, Seychelles, Africa,5.0\\r\\nNouakchott,18.0743,-15.9713, Mauritania, Africa,5.8\\r\\nTehran,35.6869,51.3913, Iran, Asia,4.7\\r\\nBelgrano II Base,-77.8639,-34.6172, Antarctica, Antarctica,4.7\\r\\nNiamey,13.5116,2.1117, Niger, Africa,4.8\\r\\nBissau,11.8644,-15.586, Guinea-Bissau, Africa,5.7\\r\\nAstana,51.1672,71.448, Kazakhstan, Asia,4.9\\r\\nSan Jose,37.7727,-122.4183, United States, North America,4.8\\r\\nChristchurch,-43.532,172.6362, New Zealand, Oceania,4.4\\r\\nOkhotsk Plate,56.8421,143.56, Russia, Asia,5.7\\r\\nBishkek,42.9166,74.6, Kyrgyzstan, Asia,4.5\\r\\nBanjul,13.4552,-16.5826, Gambia, Africa,5.3\\r\\nThessaloniki,40.6415,22.9469, Greece, Europe,4.7\\r\\nSan Francisco,37.7732,-122.4176, USA, North America,5.7\\r\\nBaku,40.4107,49.8705, Azerbaijan, Europe,5.7\\r\\nChristchurch,-43.5362,172.6442, New Zealand, Oceania,4.2\\r\\nTirana,41.3289,19.8221, Albania, Europe,5.3\\r\\nParamaribo,5.8534,-55.2072, Suriname, South America,5.7\\r\\nAstana,51.1694,71.4491, Kazakhstan, Asia,4.9\\r\\nRoad Town,18.4222,-64.5567, British Virgin Islands, North America,5.3\\r\\nDakar,14.6936,-17.4495, Senegal, Africa,5.6\\r\\nBamako,12.6424,-7.9992, Mali, Africa,5.3\\r\\nNiamey,13.509,2.1102, Niger, Africa,4.8\\r\\nPhilippine Sea Plate,13.4667,122.6, Philippines, Asia,4.8\\r\\nOuagadougou,12.3686,-1.521, Burkina Faso, Africa,4.7\\r\\nYamoussoukro,6.8196,-5.2754, C\\xc3\\xb4te d'Ivoire, Africa,4.7\\r\\nNairobi,-1.2896,36.8135, Kenya, Africa,5.3\\r\\nBamako,12.6382,-8.0019, Mali, Africa,4.8\\r\\nThe Bottom,17.6333,-63.2338, Saba, North America,4.8\\r\\nAbidjan,5.3587,-4.0071, C\\xc3\\xb4te d'Ivoire, Africa,4.9\\r\\nBucharest,44.4268,26.1025, Romania, Europe,5.0\\r\\nMexico City,19.43,-99.1358, Mexico, North America,5.1\\r\\nNorth Anatolian Fault Zone,40.9897,34.9857, Turkey, Europe,4.8\\r\\nBissau,11.86,-15.585, Guinea-Bissau, Africa,4.7\\r\\nBucharest,44.4282,26.0974, Romania, Europe,5.2\\r\\nTehran,35.6923,51.3856, Iran, Asia,5.0\\r\\nEsperanza Base,-63.3905,-56.9985, Antarctica, Antarctica,4.7\\r\\nPuget Sound,47.7487,-122.3642, United States, North America,4.8\\r\\nNiamey,13.5118,2.1119, Niger, Africa,4.8\\r\\nMonrovia,6.3126,-10.7967, Liberia, Africa,5.2\\r\\nKing Edward Point,-54.2811,-36.4989, South Georgia and the South Sandwich Islands, South America,4.8\\r\\nParamaribo,5.8495,-55.2053, Suriname, South America,4.7\\r\\nNouakchott,18.0705,-15.9697, Mauritania, Africa,4.8\\r\\nBanjul,13.4518,-16.5861, Gambia, Africa,4.8\\r\\nBamako,12.6394,-8.0051, Mali, Africa,5.7\\r\\nKralendijk,12.1495,-68.42, Bonaire, North America,4.8\\r\\nTashkent,41.3114,69.2797, Uzbekistan, Asia,4.9\\r\\nOuagadougou,12.3724,-1.5226, Burkina Faso, Africa,5.7\\r\\nMogadishu,2.0385,45.3469, Somalia, Africa,5.7\\r\\nYamoussoukro,6.8232,-5.2721, C\\xc3\\xb4te d'Ivoire, Africa,5.2\\r\\nFreetown,8.4823,-13.2324, Sierra Leone, Africa,4.8\\r\\nNouakchott,18.0767,-15.9648, Mauritania, Africa,5.3\\r\\nDushanbe,38.5,68.75, Tajikistan, Asia,4.9\\r\\nDakar,14.6918,-17.4457, Senegal, Africa,4.7\\r\\nYerevan,40.1848,44.517, Armenia, Europe,4.7\\r\\nMonrovia,6.31,-10.801, Liberia, Africa,4.8\\r\\nBogota,4.7142,-74.0718, Colombia, South America,4.9\\r\\nManagua,12.1163,-86.2396, Nicaragua, North America,5.6\\r\\nFreetown,8.4869,-13.2289, Sierra Leone, Africa,5.3\\r\\nKathmandu,27.7144,85.326, Nepal, Asia,4.5\\r\\nDushanbe,38.55,69.25, Tajikistan, Asia,5.5\\r\\nSakhalin,46.9617,142.731, Russia, Asia,5.2\\r\\nLjubljana,46.0548,14.5047, Slovenia, Europe,4.7\\r\\nOuagadougou,12.3716,-1.5218, Burkina Faso, Africa,5.7\\r\\nJakarta,-6.2125,106.8462, Indonesia, Asia,5.2\\r\\nYamoussoukro,6.8178,-5.2778, C\\xc3\\xb4te d'Ivoire, Africa,4.7\\r\\nEast Pacific Rise,-3.9635,-103.3513, Peru, South America,4.8\\r\\nAlgiers,36.756,3.0385, Algeria, Africa,5.3\\r\\nOuagadougou,12.3726,-1.5228, Burkina Faso, Africa,5.7\\r\\nBissau,11.8628,-15.5828, Guinea-Bissau, Africa,4.8\\r\\nMonrovia,6.3106,-10.8016, Liberia, Africa,4.8\\r\\nYamoussoukro,6.8172,-5.2772, C\\xc3\\xb4te d'Ivoire, Africa,4.7\\r\\nSanto Domingo,18.4893,-69.9275, Dominican Republic, North America,5.3\\r\\nVictoria,-4.6191,55.4518, Seychelles, Africa,4.2\\r\\nFreetown,8.4835,-13.2324, Sierra Leone, Africa,4.8\\r\\nTripoli,32.885,13.1902, Libya, Africa,4.6\\r\\nDushanbe,38.55,68.75, Tajikistan, Asia,4.2\\r\\nYellowstone National Park,44.4257,-110.5874, United States, North America,4.8\\r\\nPort of Spain,10.6557,-61.5144, Trinidad and Tobago, North America,4.9\\r\\nYamoussoukro,6.8226,-5.2715, C\\xc3\\xb4te d'Ivoire, Africa,5.2\\r\\nYamoussoukro,6.821,-5.2788, C\\xc3\\xb4te d'Ivoire, Africa,5.6\\r\\nGeorgetown,6.8013,-58.1551, Guyana, South America,4.9\\r\\nBissau,11.8666,-15.5785, Guinea-Bissau, Africa,5.2\\r\\nMariana Trench,11.3978,142.7091, Mariana Islands, Oceania,5.2\\r\\nOuagadougou,12.368,-1.5204, Burkina Faso, Africa,4.7\\r\\nKabul,34.5567,69.2109, Afghanistan, Asia,5.7\\r\\nSakhalin,46.9563,142.7336, Russia, Asia,4.8\\r\\nYamoussoukro,6.818,-5.2779, C\\xc3\\xb4te d'Ivoire, Africa,4.7\\r\\nAbidjan,5.3603,-4.0108, C\\xc3\\xb4te d'Ivoire, Africa,5.8\\r\\nRoad Town,18.4166,-64.5622, British Virgin Islands, North America,4.7\\r\\nSan Andreas Fault,36.7815,-119.4142, United States, North America,5.3\\r\\nPodgorica,42.4441,19.2724, Montenegro, Europe,5.6\\r\\nBridgetown,13.1164,-59.5951, Barbados, North America,5.2\\r\\nYangon,16.8693,96.1915, Myanmar, Asia,4.6\\r\\nOrcadas Base,-60.734,-44.7366, Antarctica, Antarctica,5.6\\r\\nBanjul,13.4538,-16.5901, Gambia, Africa,5.7\\r\\nSarajevo,43.8541,18.412, Bosnia and Herzegovina, Europe,5.4\\r\\nMonrovia,6.3138,-10.7978, Liberia, Africa,5.2\\r\\nAddis Ababa,9.1426,40.4915, Ethiopia, Africa,4.7\\r\\nKampala,0.3168,32.5774, Uganda, Africa,5.1\\r\\nBamako,12.6358,-7.0006, Mali, Africa,4.8\\r\\nSakhalin,46.9585,142.7347, Russia, Asia,4.7\\r\\nHoniara,-9.4317,160.0418, Solomon Islands, Oceania,5.3\\r\\nZagreb,45.05,15.2, Croatia, Europe,4.9\\r\\nOuagadougou,12.3714,-1.5197, Burkina Faso, Africa,4.8\\r\\nMarrakech,31.6309,-7.9845, Morocco, Africa,5.0\\r\\nNiamey,13.5128,2.1149, Niger, Africa,5.7\\r\\nAbidjan,5.3565,-4.0092, C\\xc3\\xb4te d'Ivoire, Africa,4.8\\r\\nKyushu,33.588,130.4035, Japan, Asia,4.7\\r\\nNouakchott,18.0713,-15.9705, Mauritania, Africa,4.8\\r\\nVienna,48.8542,16.3585, Austria, Europe,4.6\\r\\nPort of Spain,10.6571,-61.5178, Trinidad and Tobago, North America,5.8\\r\\nTokyo,35.6942,139.693, Japan, Asia,4.5\\r\\nVanuatu,-15.3745,166.9581, Vanuatu, Oceania,4.8\\r\\nMcMurdo Station,-77.8499,166.6824, Antarctica, Antarctica,5.3\\r\\nBamako,12.641,-7.9968, Mali, Africa,5.3\\r\\nYamoussoukro,6.8218,-5.2796, C\\xc3\\xb4te d'Ivoire, Africa,5.6\\r\\nOuagadougou,12.3682,-1.5175, Burkina Faso, Africa,4.8\\r\\nSouth Anatolian Fault Zone,36.2042,32.3284, Turkey, Europe,5.7\\r\\nGustavia,17.8997,-62.8461, Saint Barthelemy, North America,5.3\\r\\nBissau,11.8602,-15.5821, Guinea-Bissau, Africa,4.8\\r\\nLusaka,-15.3853,28.3217, Zambia, Africa,4.9\\r\\nBasseterre,17.2997,-62.7267, Saint Kitts and Nevis, North America,5.3\\r\\nVernadsky Research Base,-65.2432,-64.2649, Antarctica, Antarctica,4.7\\r\\nNouakchott,18.0711,-15.9672, Mauritania, Africa,4.9\\r\\nPort of Spain,10.6537,-61.5135, Trinidad and Tobago, North America,4.8\\r\\nGeorgetown,6.8025,-58.1542, Guyana, South America,4.8\\r\\nConakry,9.5115,-13.7069, Guinea, Africa,5.3\\r\\nBissau,11.8626,-15.583, Guinea-Bissau, Africa,4.8\\r\\nThe Bottom,17.6355,-63.2349, Saba, North America,4.7\\r\\nBasseterre,17.2965,-62.7304, Saint Kitts and Nevis, North America,4.9\\r\\nYamoussoukro,6.818,-5.2749, C\\xc3\\xb4te d'Ivoire, Africa,4.8\\r\\nQuito,-0.2309,-78.5277, Ecuador, South America,5.6\\r\\nStanley,-51.7014,-57.8534, Falkland Islands, South America,5.7\\r\\nSan Juan,18.4633,-66.1046, Puerto Rico, North America,4.8\\r\\nBissau,11.8604,-15.5846, Guinea-Bissau, Africa,4.7\\r\\nUlaanbaatar,47.919,106.885, Mongolia, Asia,4.7\\r\\nFreetown,8.4815,-13.2345, Sierra Leone, Africa,4.7\\r\\nKuril Islands,45.5549,148.8844, Russia, Asia,4.7\\r\\nEsperanza Base,-63.3961,-56.993, Antarctica, Antarctica,5.3\\r\\nBissau,11.8658,-15.5793, Guinea-Bissau, Africa,5.2\\r\\nPhilippine Sea Plate,13.4643,122.6018, Philippines, Asia,4.7\\r\\nQuito,-0.2295,-78.5243, Ecuador, South America,4.2\\r\\nNiamey,13.512,2.1121, Niger, Africa,4.8\\r\\nLa Paz,-16.5032,-68.1463, Bolivia, South America,5.3\\r\\nBelgrano II Base,-77.8641,-34.6143, Antarctica, Antarctica,4.8\\r\\nBanjul,13.456,-16.5837, Gambia, Africa,5.3\\r\\nYamoussoukro,6.822,-5.2797, C\\xc3\\xb4te d'Ivoire, Africa,5.6\\r\\nDakar,14.6954,-17.4424, Senegal, Africa,5.2\\r\\nLjubljana,46.0584,14.5092, Slovenia, Europe,5.6\\r\\nShikoku,33.7468,133.7299, Japan, Asia,4.8\\r\\nBasseterre,17.2933,-62.7357, Saint Kitts and Nevis, North America,4.8\\r\\nConakry,9.5095,-13.712, Guinea, Africa,4.8\\r\\nHonshu,35.6873,139.6906, Japan, Asia,4.9\\r\\nSaint Helier,49.1933,-2.1105, Jersey, Europe,5.6\\r\\nDakar,14.695,-17.442, Senegal, Africa,5.2\\r\\nBamako,12.6416,-7.9984, Mali, Africa,5.3\\r\\nPort of Spain,10.6535,-61.5133, Trinidad and Tobago, North America,4.9\\r\\nPort-au-Prince,18.5388,-72.3349, Haiti, North America,4.8\\r\\nNiamey,13.5122,2.1123, Niger, Africa,4.8\\r\\nPort Lockroy,-64.8255,-63.5073, Antarctica, Antarctica,4.8\\r\\nStanley,-51.7032,-57.8463, Falkland Islands, South America,5.3\\r\\nQuito,-0.2328,-78.5207, Ecuador, South America,5.1\\r\\nKralendijk,12.1471,-68.4218, Bonaire, North America,4.7\\r\\nEast African Rift,-1.2935,36.8253, Kenya, Africa,5.7\\r\\nTbilisi,41.7129,44.826, Georgia, Europe,4.9\\r\\nYamoussoukro,6.8214,-5.2792, C\\xc3\\xb4te d'Ivoire, Africa,5.6\\r\\nFreetown,8.4853,-13.2362, Sierra Leone, Africa,5.6\\r\\nBissau,11.861,-15.584, Guinea-Bissau, Africa,4.7\\r\\nSaint Pierre,46.7773,-56.179, Saint Pierre and Miquelon, North America,4.7\\r\\nZagreb,45.1,15.2, Croatia, Europe,4.6\\r\\nApia,-13.8464,-171.7503, Samoa, Oceania,4.3\\r\\nConakry,9.5103,-13.7147, Guinea, Africa,5.7\\r\\nManila,13.4124,122.5622, Philippines, Asia,4.6\\r\\nOuagadougou,12.3686,-1.5179, Burkina Faso, Africa,4.8\\r\\nSofia,42.6977,23.3219, Bulgaria, Europe,4.6\\r\\nKingston,18.0211,-76.8061, Jamaica, North America,5.3\\r\\nDar es Salaam,-6.7956,39.2046, Tanzania, Africa,5.0\\r\\nNorthern Chile,-23.4457,-68.4456, Chile, South America,5.1\\r\\nShikoku,33.7504,133.7345, Japan, Asia,5.6\\r\\nTegucigalpa,14.07,-87.191, Honduras, North America,4.8\\r\\nBanjul,13.4496,-16.585, Gambia, Africa,4.8\\r\\nBamako,12.6396,-8.0053, Mali, Africa,5.7\\r\\nBasseterre,17.2943,-62.7293, Saint Kitts and Nevis, North America,4.9\\r\\nNouakchott,18.0705,-15.9666, Mauritania, Africa,4.9\\r\\nUlaanbaatar,47.9214,106.8832, Mongolia, Asia,4.8\\r\\nIslamabad,33.6812,73.0425, Pakistan, Asia,4.5\\r\\nLos Angeles,34.0497,-118.2384, USA, North America,4.6\\r\\nMonrovia,6.3096,-10.8006, Liberia, Africa,4.8\\r\\nMonrovia,6.3076,-10.8028, Liberia, Africa,4.7\\r\\nTonga Trench,-23.1178,-172.0789, Tonga, Oceania,4.8\\r\\nKingston,18.0155,-76.8116, Jamaica, North America,4.8\\r\\nPodgorica,42.4405,19.2679, Montenegro, Europe,4.9\\r\\nFaraday Station,-65.2621,-63.4978, Antarctica, Antarctica,5.3\\r\\nVienna,48.858,16.36, Austria, Europe,5.5\\r\\nBasseterre,17.2971,-62.7373, Saint Kitts and Nevis, North America,5.8\\r\\nOuagadougou,12.372,-1.5222, Burkina Faso, Africa,5.7\\r\\nFreetown,8.4877,-13.2298, Sierra Leone, Africa,5.3\\r\\nAntananarivo,-18.877,47.5068, Madagascar, Africa,4.2\\r\\nDavis Station,-68.7749,78.1085, Antarctica, Antarctica,4.7\\r\\nKinshasa,-4.4419,15.2663, Democratic Republic of the Congo, Africa,4.7\\r\\nOuagadougou,12.3722,-1.5224, Burkina Faso, Africa,5.7\\r\\nCascadia Subduction Zone,49.2827,-125.0095, Canada, North America,4.8\\r\\nHargeisa,9.4738,44.0772, Somalia, Africa,4.8\\r\\nCairo,30.0306,31.2353, Egypt, Africa,4.5\\r\\nFreetown,8.4841,-13.2331, Sierra Leone, Africa,4.8\\r\\nZagreb,45.1,15.4, Croatia, Europe,5.7\\r\\nTashkent,41.3128,69.2831, Uzbekistan, Asia,5.1\\r\\nPort Lockroy,-64.8231,-63.5091, Antarctica, Antarctica,4.7\\r\\nSakhalin,46.9599,142.7381, Russia, Asia,5.6\\r\\nPalmer Station,-64.7692,-64.0518, Antarctica, Antarctica,4.8\\r\\nAbidjan,5.3567,-4.0095, C\\xc3\\xb4te d'Ivoire, Africa,4.8\\r\\nAsuncion,-23.4425,-58.4438, Paraguay, South America,4.7\\r\\nNiamey,13.5134,2.1155, Niger, Africa,5.7\\r\\nBamako,12.6384,-8.0021, Mali, Africa,4.8\\r\\nBanjul,13.4496,-16.5881, Gambia, Africa,4.7\\r\\nLjubljana,46.0569,14.5058, Slovenia, Europe,4.3\\r\\nIstanbul,41.0094,28.9752, Turkey, Europe,4.6\\r\\nSaint Pierre,46.7797,-56.1772, Saint Pierre and Miquelon, North America,4.8\\r\\nYerevan,40.1904,44.5115, Armenia, Europe,5.2\\r\\nAbidjan,5.3601,-4.0105, C\\xc3\\xb4te d'Ivoire, Africa,5.8\\r\\nLima,-12.0481,-77.0404, Peru, South America,5.6\\r\\nOuagadougou,12.369,-1.5183, Burkina Faso, Africa,4.8\\r\\nLa Paz,-16.4976,-68.1518, Bolivia, South America,4.7\\r\\nSaint Pierre,46.7811,-56.1806, Saint Pierre and Miquelon, North America,5.7\\r\\nLisbon,38.7237,-9.1427, Portugal, Europe,5.3\\r\\nLos Angeles,34.0535,-118.2402, USA, North America,5.2\\r\\nLusaka,-15.3875,28.3228, Zambia, Africa,4.7\\r\\nPanama City,8.9824,-79.5199, Panama, North America,4.7\\r\\nHokkaido,43.2181,142.8613, Japan, Asia,4.9\\r\\nAshgabat,37.9852,58.3367, Turkmenistan, Asia,5.3\\r\\nNiamey,13.5125,2.1126, Niger, Africa,4.8\\r\\nSantiago,-33.4489,-70.6693, Chile, South America,5.6\\r\\nBasseterre,17.2979,-62.7338, Saint Kitts and Nevis, North America,5.8\\r\\nNouakchott,18.0703,-15.9695, Mauritania, Africa,4.8\\r\\nNiamey,13.5141,2.1162, Niger, Africa,5.7\\r\\nLa Paz,-16.4978,-68.1489, Bolivia, South America,4.8\\r\\nConakry,9.5061,-13.7096, Guinea, Africa,4.8\\r\\nKing Edward Point,-54.2847,-36.5034, South Georgia and the South Sandwich Islands, South America,5.6\\r\\nOuagadougou,12.3688,-1.5181, Burkina Faso, Africa,4.8\\r\\nPodgorica,42.4403,19.2708, Montenegro, Europe,4.5\\r\\nDakar,14.6924,-17.4463, Senegal, Africa,4.7\\r\\nMcMurdo Station,-77.8443,166.6879, Antarctica, Antarctica,4.8\\r\\nBaku,40.4093,49.8671, Azerbaijan, Europe,4.8\\r\\nNiamey,13.5096,2.1108, Niger, Africa,4.8\\r\\nYellowstone National Park,44.4255,-110.5903, United States, North America,4.7\\r\\nDakar,14.6942,-17.4501, Senegal, Africa,5.6\\r\\nEsperanza Base,-63.3907,-56.9956, Antarctica, Antarctica,4.8\\r\\nAlgiers,36.7506,3.0411, Algeria, Africa,4.9\\r\\nSantiago,-33.4472,-70.6659, Chile, South America,4.1\\r\\nCascadia Subduction Zone,49.2803,-125.0113, Canada, North America,4.8\\r\\nMonrovia,6.3072,-10.8024, Liberia, Africa,4.7\\r\\nAddis Ababa,9.1464,40.4931, Ethiopia, Africa,5.5\\r\\nOuagadougou,12.371,-1.5192, Burkina Faso, Africa,4.8\\r\\nDakar,14.6916,-17.4455, Senegal, Africa,4.7\\r\\nHokkaido,43.2203,142.8624, Japan, Asia,4.8\\r\\nGustavia,17.8962,-62.8506, Saint Barthelemy, North America,4.9\\r\\nMoroni,-11.7204,43.2438, Comoros, Africa,5.3\\r\\nSaint Helier,49.1895,-2.1089, Jersey, Europe,4.7\\r\\nApia,-13.8488,-171.7484, Samoa, Oceania,4.5\\r\\nConakry,9.5109,-13.7154, Guinea, Africa,5.7\\r\\nMonrovia,6.313,-10.7971, Liberia, Africa,5.2\\r\\nPort Moresby,-9.4414,147.1782, Papua New Guinea, Oceania,4.8\\r\\nCape Town,-33.918,18.4233, South Africa, Africa,4.9\\r\\nFreetown,8.4865,-13.2285, Sierra Leone, Africa,5.3\\r\\nPuget Sound,47.7525,-122.3658, United States, North America,5.7\\r\\nHoniara,-9.4353,160.0463, Solomon Islands, Oceania,4.5\\r\\nBanjul,13.4498,-16.5883, Gambia, Africa,4.7\\r\\nDakar,14.692,-17.4459, Senegal, Africa,4.7\\r\\nYamoussoukro,6.8198,-5.2756, C\\xc3\\xb4te d'Ivoire, Africa,4.7\\r\\nBanjul,13.4528,-16.5874, Gambia, Africa,4.8\\r\\nAbidjan,5.3605,-4.0111, C\\xc3\\xb4te d'Ivoire, Africa,5.8\\r\\n\"}"
            ]
          },
          "metadata": {},
          "execution_count": 1
        }
      ],
      "source": [
        "from google.colab import files\n",
        "files.upload()"
      ]
    },
    {
      "cell_type": "code",
      "source": [
        "# define statistic of earthquake csv file"
      ],
      "metadata": {
        "id": "Vv8pl_01mG37"
      },
      "execution_count": 2,
      "outputs": []
    },
    {
      "cell_type": "code",
      "source": [
        "import pandas as pd"
      ],
      "metadata": {
        "id": "ZvlCPp7joRvk"
      },
      "execution_count": 3,
      "outputs": []
    },
    {
      "cell_type": "code",
      "source": [
        "earthquake = pd.read_csv('earthquake_dataset.csv')"
      ],
      "metadata": {
        "id": "FaXdaTGPoSOR"
      },
      "execution_count": 4,
      "outputs": []
    },
    {
      "cell_type": "code",
      "source": [
        "earthquake.head()"
      ],
      "metadata": {
        "colab": {
          "base_uri": "https://localhost:8080/",
          "height": 206
        },
        "id": "H0JK967ZoSZo",
        "outputId": "4e458871-12f4-4b86-94df-21475859e0b4"
      },
      "execution_count": 44,
      "outputs": [
        {
          "output_type": "execute_result",
          "data": {
            "text/plain": [
              "            Place   Latitude   Longitude        Country       Continent  \\\n",
              "0          Bamako    12.6354     -8.0023           Mali          Africa   \n",
              "1          Niamey    13.5130      2.1151          Niger          Africa   \n",
              "2  Southern Chile   -39.8234    -73.0691          Chile   South America   \n",
              "3        Freetown     8.4815    -13.2315   Sierra Leone          Africa   \n",
              "4          Bamako    12.6422     -7.9990           Mali          Africa   \n",
              "\n",
              "    Magnitude  \n",
              "0         4.7  \n",
              "1         5.7  \n",
              "2         4.9  \n",
              "3         4.8  \n",
              "4         5.3  "
            ],
            "text/html": [
              "\n",
              "  <div id=\"df-72343b05-28cd-4c35-aa15-540c92fb8fd3\" class=\"colab-df-container\">\n",
              "    <div>\n",
              "<style scoped>\n",
              "    .dataframe tbody tr th:only-of-type {\n",
              "        vertical-align: middle;\n",
              "    }\n",
              "\n",
              "    .dataframe tbody tr th {\n",
              "        vertical-align: top;\n",
              "    }\n",
              "\n",
              "    .dataframe thead th {\n",
              "        text-align: right;\n",
              "    }\n",
              "</style>\n",
              "<table border=\"1\" class=\"dataframe\">\n",
              "  <thead>\n",
              "    <tr style=\"text-align: right;\">\n",
              "      <th></th>\n",
              "      <th>Place</th>\n",
              "      <th>Latitude</th>\n",
              "      <th>Longitude</th>\n",
              "      <th>Country</th>\n",
              "      <th>Continent</th>\n",
              "      <th>Magnitude</th>\n",
              "    </tr>\n",
              "  </thead>\n",
              "  <tbody>\n",
              "    <tr>\n",
              "      <th>0</th>\n",
              "      <td>Bamako</td>\n",
              "      <td>12.6354</td>\n",
              "      <td>-8.0023</td>\n",
              "      <td>Mali</td>\n",
              "      <td>Africa</td>\n",
              "      <td>4.7</td>\n",
              "    </tr>\n",
              "    <tr>\n",
              "      <th>1</th>\n",
              "      <td>Niamey</td>\n",
              "      <td>13.5130</td>\n",
              "      <td>2.1151</td>\n",
              "      <td>Niger</td>\n",
              "      <td>Africa</td>\n",
              "      <td>5.7</td>\n",
              "    </tr>\n",
              "    <tr>\n",
              "      <th>2</th>\n",
              "      <td>Southern Chile</td>\n",
              "      <td>-39.8234</td>\n",
              "      <td>-73.0691</td>\n",
              "      <td>Chile</td>\n",
              "      <td>South America</td>\n",
              "      <td>4.9</td>\n",
              "    </tr>\n",
              "    <tr>\n",
              "      <th>3</th>\n",
              "      <td>Freetown</td>\n",
              "      <td>8.4815</td>\n",
              "      <td>-13.2315</td>\n",
              "      <td>Sierra Leone</td>\n",
              "      <td>Africa</td>\n",
              "      <td>4.8</td>\n",
              "    </tr>\n",
              "    <tr>\n",
              "      <th>4</th>\n",
              "      <td>Bamako</td>\n",
              "      <td>12.6422</td>\n",
              "      <td>-7.9990</td>\n",
              "      <td>Mali</td>\n",
              "      <td>Africa</td>\n",
              "      <td>5.3</td>\n",
              "    </tr>\n",
              "  </tbody>\n",
              "</table>\n",
              "</div>\n",
              "    <div class=\"colab-df-buttons\">\n",
              "\n",
              "  <div class=\"colab-df-container\">\n",
              "    <button class=\"colab-df-convert\" onclick=\"convertToInteractive('df-72343b05-28cd-4c35-aa15-540c92fb8fd3')\"\n",
              "            title=\"Convert this dataframe to an interactive table.\"\n",
              "            style=\"display:none;\">\n",
              "\n",
              "  <svg xmlns=\"http://www.w3.org/2000/svg\" height=\"24px\" viewBox=\"0 -960 960 960\">\n",
              "    <path d=\"M120-120v-720h720v720H120Zm60-500h600v-160H180v160Zm220 220h160v-160H400v160Zm0 220h160v-160H400v160ZM180-400h160v-160H180v160Zm440 0h160v-160H620v160ZM180-180h160v-160H180v160Zm440 0h160v-160H620v160Z\"/>\n",
              "  </svg>\n",
              "    </button>\n",
              "\n",
              "  <style>\n",
              "    .colab-df-container {\n",
              "      display:flex;\n",
              "      gap: 12px;\n",
              "    }\n",
              "\n",
              "    .colab-df-convert {\n",
              "      background-color: #E8F0FE;\n",
              "      border: none;\n",
              "      border-radius: 50%;\n",
              "      cursor: pointer;\n",
              "      display: none;\n",
              "      fill: #1967D2;\n",
              "      height: 32px;\n",
              "      padding: 0 0 0 0;\n",
              "      width: 32px;\n",
              "    }\n",
              "\n",
              "    .colab-df-convert:hover {\n",
              "      background-color: #E2EBFA;\n",
              "      box-shadow: 0px 1px 2px rgba(60, 64, 67, 0.3), 0px 1px 3px 1px rgba(60, 64, 67, 0.15);\n",
              "      fill: #174EA6;\n",
              "    }\n",
              "\n",
              "    .colab-df-buttons div {\n",
              "      margin-bottom: 4px;\n",
              "    }\n",
              "\n",
              "    [theme=dark] .colab-df-convert {\n",
              "      background-color: #3B4455;\n",
              "      fill: #D2E3FC;\n",
              "    }\n",
              "\n",
              "    [theme=dark] .colab-df-convert:hover {\n",
              "      background-color: #434B5C;\n",
              "      box-shadow: 0px 1px 3px 1px rgba(0, 0, 0, 0.15);\n",
              "      filter: drop-shadow(0px 1px 2px rgba(0, 0, 0, 0.3));\n",
              "      fill: #FFFFFF;\n",
              "    }\n",
              "  </style>\n",
              "\n",
              "    <script>\n",
              "      const buttonEl =\n",
              "        document.querySelector('#df-72343b05-28cd-4c35-aa15-540c92fb8fd3 button.colab-df-convert');\n",
              "      buttonEl.style.display =\n",
              "        google.colab.kernel.accessAllowed ? 'block' : 'none';\n",
              "\n",
              "      async function convertToInteractive(key) {\n",
              "        const element = document.querySelector('#df-72343b05-28cd-4c35-aa15-540c92fb8fd3');\n",
              "        const dataTable =\n",
              "          await google.colab.kernel.invokeFunction('convertToInteractive',\n",
              "                                                    [key], {});\n",
              "        if (!dataTable) return;\n",
              "\n",
              "        const docLinkHtml = 'Like what you see? Visit the ' +\n",
              "          '<a target=\"_blank\" href=https://colab.research.google.com/notebooks/data_table.ipynb>data table notebook</a>'\n",
              "          + ' to learn more about interactive tables.';\n",
              "        element.innerHTML = '';\n",
              "        dataTable['output_type'] = 'display_data';\n",
              "        await google.colab.output.renderOutput(dataTable, element);\n",
              "        const docLink = document.createElement('div');\n",
              "        docLink.innerHTML = docLinkHtml;\n",
              "        element.appendChild(docLink);\n",
              "      }\n",
              "    </script>\n",
              "  </div>\n",
              "\n",
              "\n",
              "<div id=\"df-5c6b164c-6cb7-4e07-a641-6622045db831\">\n",
              "  <button class=\"colab-df-quickchart\" onclick=\"quickchart('df-5c6b164c-6cb7-4e07-a641-6622045db831')\"\n",
              "            title=\"Suggest charts\"\n",
              "            style=\"display:none;\">\n",
              "\n",
              "<svg xmlns=\"http://www.w3.org/2000/svg\" height=\"24px\"viewBox=\"0 0 24 24\"\n",
              "     width=\"24px\">\n",
              "    <g>\n",
              "        <path d=\"M19 3H5c-1.1 0-2 .9-2 2v14c0 1.1.9 2 2 2h14c1.1 0 2-.9 2-2V5c0-1.1-.9-2-2-2zM9 17H7v-7h2v7zm4 0h-2V7h2v10zm4 0h-2v-4h2v4z\"/>\n",
              "    </g>\n",
              "</svg>\n",
              "  </button>\n",
              "\n",
              "<style>\n",
              "  .colab-df-quickchart {\n",
              "      --bg-color: #E8F0FE;\n",
              "      --fill-color: #1967D2;\n",
              "      --hover-bg-color: #E2EBFA;\n",
              "      --hover-fill-color: #174EA6;\n",
              "      --disabled-fill-color: #AAA;\n",
              "      --disabled-bg-color: #DDD;\n",
              "  }\n",
              "\n",
              "  [theme=dark] .colab-df-quickchart {\n",
              "      --bg-color: #3B4455;\n",
              "      --fill-color: #D2E3FC;\n",
              "      --hover-bg-color: #434B5C;\n",
              "      --hover-fill-color: #FFFFFF;\n",
              "      --disabled-bg-color: #3B4455;\n",
              "      --disabled-fill-color: #666;\n",
              "  }\n",
              "\n",
              "  .colab-df-quickchart {\n",
              "    background-color: var(--bg-color);\n",
              "    border: none;\n",
              "    border-radius: 50%;\n",
              "    cursor: pointer;\n",
              "    display: none;\n",
              "    fill: var(--fill-color);\n",
              "    height: 32px;\n",
              "    padding: 0;\n",
              "    width: 32px;\n",
              "  }\n",
              "\n",
              "  .colab-df-quickchart:hover {\n",
              "    background-color: var(--hover-bg-color);\n",
              "    box-shadow: 0 1px 2px rgba(60, 64, 67, 0.3), 0 1px 3px 1px rgba(60, 64, 67, 0.15);\n",
              "    fill: var(--button-hover-fill-color);\n",
              "  }\n",
              "\n",
              "  .colab-df-quickchart-complete:disabled,\n",
              "  .colab-df-quickchart-complete:disabled:hover {\n",
              "    background-color: var(--disabled-bg-color);\n",
              "    fill: var(--disabled-fill-color);\n",
              "    box-shadow: none;\n",
              "  }\n",
              "\n",
              "  .colab-df-spinner {\n",
              "    border: 2px solid var(--fill-color);\n",
              "    border-color: transparent;\n",
              "    border-bottom-color: var(--fill-color);\n",
              "    animation:\n",
              "      spin 1s steps(1) infinite;\n",
              "  }\n",
              "\n",
              "  @keyframes spin {\n",
              "    0% {\n",
              "      border-color: transparent;\n",
              "      border-bottom-color: var(--fill-color);\n",
              "      border-left-color: var(--fill-color);\n",
              "    }\n",
              "    20% {\n",
              "      border-color: transparent;\n",
              "      border-left-color: var(--fill-color);\n",
              "      border-top-color: var(--fill-color);\n",
              "    }\n",
              "    30% {\n",
              "      border-color: transparent;\n",
              "      border-left-color: var(--fill-color);\n",
              "      border-top-color: var(--fill-color);\n",
              "      border-right-color: var(--fill-color);\n",
              "    }\n",
              "    40% {\n",
              "      border-color: transparent;\n",
              "      border-right-color: var(--fill-color);\n",
              "      border-top-color: var(--fill-color);\n",
              "    }\n",
              "    60% {\n",
              "      border-color: transparent;\n",
              "      border-right-color: var(--fill-color);\n",
              "    }\n",
              "    80% {\n",
              "      border-color: transparent;\n",
              "      border-right-color: var(--fill-color);\n",
              "      border-bottom-color: var(--fill-color);\n",
              "    }\n",
              "    90% {\n",
              "      border-color: transparent;\n",
              "      border-bottom-color: var(--fill-color);\n",
              "    }\n",
              "  }\n",
              "</style>\n",
              "\n",
              "  <script>\n",
              "    async function quickchart(key) {\n",
              "      const quickchartButtonEl =\n",
              "        document.querySelector('#' + key + ' button');\n",
              "      quickchartButtonEl.disabled = true;  // To prevent multiple clicks.\n",
              "      quickchartButtonEl.classList.add('colab-df-spinner');\n",
              "      try {\n",
              "        const charts = await google.colab.kernel.invokeFunction(\n",
              "            'suggestCharts', [key], {});\n",
              "      } catch (error) {\n",
              "        console.error('Error during call to suggestCharts:', error);\n",
              "      }\n",
              "      quickchartButtonEl.classList.remove('colab-df-spinner');\n",
              "      quickchartButtonEl.classList.add('colab-df-quickchart-complete');\n",
              "    }\n",
              "    (() => {\n",
              "      let quickchartButtonEl =\n",
              "        document.querySelector('#df-5c6b164c-6cb7-4e07-a641-6622045db831 button');\n",
              "      quickchartButtonEl.style.display =\n",
              "        google.colab.kernel.accessAllowed ? 'block' : 'none';\n",
              "    })();\n",
              "  </script>\n",
              "</div>\n",
              "\n",
              "    </div>\n",
              "  </div>\n"
            ],
            "application/vnd.google.colaboratory.intrinsic+json": {
              "type": "dataframe",
              "variable_name": "earthquake",
              "summary": "{\n  \"name\": \"earthquake\",\n  \"rows\": 1265,\n  \"fields\": [\n    {\n      \"column\": \"Place\",\n      \"properties\": {\n        \"dtype\": \"category\",\n        \"num_unique_values\": 167,\n        \"samples\": [\n          \"George Town\",\n          \"Cape Town\",\n          \"Kinshasa\"\n        ],\n        \"semantic_type\": \"\",\n        \"description\": \"\"\n      }\n    },\n    {\n      \"column\": \" Latitude\",\n      \"properties\": {\n        \"dtype\": \"number\",\n        \"std\": 27.817622751483658,\n        \"min\": -77.8695,\n        \"max\": 56.8439,\n        \"num_unique_values\": 1153,\n        \"samples\": [\n          -65.2603,\n          6.3072,\n          38.5\n        ],\n        \"semantic_type\": \"\",\n        \"description\": \"\"\n      }\n    },\n    {\n      \"column\": \" Longitude\",\n      \"properties\": {\n        \"dtype\": \"number\",\n        \"std\": 68.04330489755924,\n        \"min\": -175.2075,\n        \"max\": 178.4535,\n        \"num_unique_values\": 1220,\n        \"samples\": [\n          -7.9829,\n          -13.7098,\n          -122.4228\n        ],\n        \"semantic_type\": \"\",\n        \"description\": \"\"\n      }\n    },\n    {\n      \"column\": \" Country\",\n      \"properties\": {\n        \"dtype\": \"category\",\n        \"num_unique_values\": 123,\n        \"samples\": [\n          \" Senegal\",\n          \" Tanzania\",\n          \" Somalia\"\n        ],\n        \"semantic_type\": \"\",\n        \"description\": \"\"\n      }\n    },\n    {\n      \"column\": \" Continent\",\n      \"properties\": {\n        \"dtype\": \"category\",\n        \"num_unique_values\": 7,\n        \"samples\": [\n          \" Africa\",\n          \" South America\",\n          \" Europe\"\n        ],\n        \"semantic_type\": \"\",\n        \"description\": \"\"\n      }\n    },\n    {\n      \"column\": \" Magnitude\",\n      \"properties\": {\n        \"dtype\": \"number\",\n        \"std\": 0.3895818310727751,\n        \"min\": 4.0,\n        \"max\": 6.1,\n        \"num_unique_values\": 21,\n        \"samples\": [\n          4.7,\n          4.1,\n          4.3\n        ],\n        \"semantic_type\": \"\",\n        \"description\": \"\"\n      }\n    }\n  ]\n}"
            }
          },
          "metadata": {},
          "execution_count": 44
        }
      ]
    },
    {
      "cell_type": "code",
      "source": [
        "# place"
      ],
      "metadata": {
        "id": "0fbq2rBouIsE"
      },
      "execution_count": null,
      "outputs": []
    },
    {
      "cell_type": "code",
      "source": [
        "from matplotlib import pyplot as plt\n",
        "import seaborn as sns\n",
        "_df_11.groupby('Place').size().plot(kind='barh', color=sns.palettes.mpl_palette('Dark2'))\n",
        "plt.gca().spines[['top', 'right',]].set_visible(False)"
      ],
      "metadata": {
        "colab": {
          "base_uri": "https://localhost:8080/",
          "height": 430
        },
        "id": "dMYQKGjsuJvk",
        "outputId": "1da31290-d1b5-4b76-a6ff-57ae0e4df33f"
      },
      "execution_count": 37,
      "outputs": [
        {
          "output_type": "display_data",
          "data": {
            "text/plain": [
              "<Figure size 640x480 with 1 Axes>"
            ],
            "image/png": "[encoded data removed]"
          },
          "metadata": {}
        }
      ]
    },
    {
      "cell_type": "code",
      "source": [
        "# Latitude"
      ],
      "metadata": {
        "id": "ssSbKVgOtRBW"
      },
      "execution_count": null,
      "outputs": []
    },
    {
      "source": [
        "# @title  Latitude\n",
        "\n",
        "from matplotlib import pyplot as plt\n",
        "earthquake[' Latitude'].plot(kind='hist', bins=20, title=' Latitude')\n",
        "plt.gca().spines[['top', 'right',]].set_visible(False)"
      ],
      "cell_type": "code",
      "execution_count": 32,
      "outputs": [
        {
          "output_type": "display_data",
          "data": {
            "text/plain": [
              "<Figure size 640x480 with 1 Axes>"
            ],
            "image/png": "[encoded data removed]"
          },
          "metadata": {}
        }
      ],
      "metadata": {
        "colab": {
          "base_uri": "https://localhost:8080/",
          "height": 452
        },
        "id": "TGNM8yxgtXN6",
        "outputId": "01a0fe15-6592-46d5-bd3b-342a6dd8e354"
      }
    },
    {
      "cell_type": "code",
      "source": [
        "# Longitude"
      ],
      "metadata": {
        "id": "-o4A0kvxtRip"
      },
      "execution_count": null,
      "outputs": []
    },
    {
      "source": [
        "# @title  Longitude\n",
        "\n",
        "from matplotlib import pyplot as plt\n",
        "earthquake[' Longitude'].plot(kind='hist', bins=20, title=' Longitude')\n",
        "plt.gca().spines[['top', 'right',]].set_visible(False)"
      ],
      "cell_type": "code",
      "execution_count": 33,
      "outputs": [
        {
          "output_type": "display_data",
          "data": {
            "text/plain": [
              "<Figure size 640x480 with 1 Axes>"
            ],
            "image/png": "[encoded data removed]"
          },
          "metadata": {}
        }
      ],
      "metadata": {
        "colab": {
          "base_uri": "https://localhost:8080/",
          "height": 452
        },
        "id": "80kl8yTWtbpd",
        "outputId": "a055badf-278c-4ed3-bc43-e22f4e2f38f7"
      }
    },
    {
      "cell_type": "code",
      "source": [
        "# Country"
      ],
      "metadata": {
        "id": "bml3H4ZSuf65"
      },
      "execution_count": 39,
      "outputs": []
    },
    {
      "cell_type": "code",
      "source": [
        "_df_12.groupby(' Country').size().plot(kind='barh', color=sns.palettes.mpl_palette('Dark2'))\n",
        "plt.gca().spines[['top', 'right',]].set_visible(False)"
      ],
      "metadata": {
        "colab": {
          "base_uri": "https://localhost:8080/",
          "height": 430
        },
        "id": "Pi3APRMWugiv",
        "outputId": "0f6c28bc-8178-4c11-a686-f3118d433ad3"
      },
      "execution_count": 38,
      "outputs": [
        {
          "output_type": "display_data",
          "data": {
            "text/plain": [
              "<Figure size 640x480 with 1 Axes>"
            ],
            "image/png": "[encoded data removed]"
          },
          "metadata": {}
        }
      ]
    },
    {
      "cell_type": "code",
      "source": [
        "# Continent"
      ],
      "metadata": {
        "id": "6bi7FnBntdnk"
      },
      "execution_count": null,
      "outputs": []
    },
    {
      "source": [
        "# @title  Continent\n",
        "\n",
        "from matplotlib import pyplot as plt\n",
        "import seaborn as sns\n",
        "earthquake.groupby(' Continent').size().plot(kind='barh', color=sns.palettes.mpl_palette('Dark2'))\n",
        "plt.gca().spines[['top', 'right',]].set_visible(False)"
      ],
      "cell_type": "code",
      "execution_count": 36,
      "outputs": [
        {
          "output_type": "display_data",
          "data": {
            "text/plain": [
              "<Figure size 640x480 with 1 Axes>"
            ],
            "image/png": "[encoded data removed]"
          },
          "metadata": {}
        }
      ],
      "metadata": {
        "colab": {
          "base_uri": "https://localhost:8080/",
          "height": 430
        },
        "id": "tc0-Teb7tsAJ",
        "outputId": "39c65fd1-d0a3-43fe-d5f4-41ae7bd0c4eb"
      }
    },
    {
      "cell_type": "code",
      "source": [
        "# Magnitude"
      ],
      "metadata": {
        "id": "i3wrkafstRTo"
      },
      "execution_count": 35,
      "outputs": []
    },
    {
      "source": [
        "# @title  Magnitude\n",
        "\n",
        "from matplotlib import pyplot as plt\n",
        "earthquake[' Magnitude'].plot(kind='hist', bins=20, title=' Magnitude')\n",
        "plt.gca().spines[['top', 'right',]].set_visible(False)"
      ],
      "cell_type": "code",
      "execution_count": 34,
      "outputs": [
        {
          "output_type": "display_data",
          "data": {
            "text/plain": [
              "<Figure size 640x480 with 1 Axes>"
            ],
            "image/png": "[encoded data removed]"
          },
          "metadata": {}
        }
      ],
      "metadata": {
        "colab": {
          "base_uri": "https://localhost:8080/",
          "height": 452
        },
        "id": "mbczuSW3tkS0",
        "outputId": "8187dcfd-30ab-437c-b929-b21be86b5c7c"
      }
    },
    {
      "cell_type": "code",
      "source": [
        "earthquake.info()"
      ],
      "metadata": {
        "colab": {
          "base_uri": "https://localhost:8080/"
        },
        "id": "_QSyqEDsoSiv",
        "outputId": "2e776455-e244-4fee-8620-e2d1e7c79f9a"
      },
      "execution_count": 6,
      "outputs": [
        {
          "output_type": "stream",
          "name": "stdout",
          "text": [
            "<class 'pandas.core.frame.DataFrame'>\n",
            "RangeIndex: 1265 entries, 0 to 1264\n",
            "Data columns (total 6 columns):\n",
            " #   Column      Non-Null Count  Dtype  \n",
            "---  ------      --------------  -----  \n",
            " 0   Place       1265 non-null   object \n",
            " 1    Latitude   1265 non-null   float64\n",
            " 2    Longitude  1265 non-null   float64\n",
            " 3    Country    1265 non-null   object \n",
            " 4    Continent  1265 non-null   object \n",
            " 5    Magnitude  1265 non-null   float64\n",
            "dtypes: float64(3), object(3)\n",
            "memory usage: 59.4+ KB\n"
          ]
        }
      ]
    },
    {
      "cell_type": "code",
      "source": [
        "earthquake.describe()"
      ],
      "metadata": {
        "colab": {
          "base_uri": "https://localhost:8080/",
          "height": 300
        },
        "id": "1S-t-JihoSr7",
        "outputId": "242b71db-d133-40c9-bf2e-9646d0a250f6"
      },
      "execution_count": 45,
      "outputs": [
        {
          "output_type": "execute_result",
          "data": {
            "text/plain": [
              "          Latitude    Longitude    Magnitude\n",
              "count  1265.000000  1265.000000  1265.000000\n",
              "mean     10.407495     0.625637     5.013992\n",
              "std      27.817623    68.043305     0.389582\n",
              "min     -77.869500  -175.207500     4.000000\n",
              "25%       5.361100   -45.591900     4.700000\n",
              "50%      12.638000    -7.998000     4.800000\n",
              "75%      29.653000    31.235300     5.300000\n",
              "max      56.843900   178.453500     6.100000"
            ],
            "text/html": [
              "\n",
              "  <div id=\"df-c10deb76-4468-42b7-b30f-85a5157c4cc8\" class=\"colab-df-container\">\n",
              "    <div>\n",
              "<style scoped>\n",
              "    .dataframe tbody tr th:only-of-type {\n",
              "        vertical-align: middle;\n",
              "    }\n",
              "\n",
              "    .dataframe tbody tr th {\n",
              "        vertical-align: top;\n",
              "    }\n",
              "\n",
              "    .dataframe thead th {\n",
              "        text-align: right;\n",
              "    }\n",
              "</style>\n",
              "<table border=\"1\" class=\"dataframe\">\n",
              "  <thead>\n",
              "    <tr style=\"text-align: right;\">\n",
              "      <th></th>\n",
              "      <th>Latitude</th>\n",
              "      <th>Longitude</th>\n",
              "      <th>Magnitude</th>\n",
              "    </tr>\n",
              "  </thead>\n",
              "  <tbody>\n",
              "    <tr>\n",
              "      <th>count</th>\n",
              "      <td>1265.000000</td>\n",
              "      <td>1265.000000</td>\n",
              "      <td>1265.000000</td>\n",
              "    </tr>\n",
              "    <tr>\n",
              "      <th>mean</th>\n",
              "      <td>10.407495</td>\n",
              "      <td>0.625637</td>\n",
              "      <td>5.013992</td>\n",
              "    </tr>\n",
              "    <tr>\n",
              "      <th>std</th>\n",
              "      <td>27.817623</td>\n",
              "      <td>68.043305</td>\n",
              "      <td>0.389582</td>\n",
              "    </tr>\n",
              "    <tr>\n",
              "      <th>min</th>\n",
              "      <td>-77.869500</td>\n",
              "      <td>-175.207500</td>\n",
              "      <td>4.000000</td>\n",
              "    </tr>\n",
              "    <tr>\n",
              "      <th>25%</th>\n",
              "      <td>5.361100</td>\n",
              "      <td>-45.591900</td>\n",
              "      <td>4.700000</td>\n",
              "    </tr>\n",
              "    <tr>\n",
              "      <th>50%</th>\n",
              "      <td>12.638000</td>\n",
              "      <td>-7.998000</td>\n",
              "      <td>4.800000</td>\n",
              "    </tr>\n",
              "    <tr>\n",
              "      <th>75%</th>\n",
              "      <td>29.653000</td>\n",
              "      <td>31.235300</td>\n",
              "      <td>5.300000</td>\n",
              "    </tr>\n",
              "    <tr>\n",
              "      <th>max</th>\n",
              "      <td>56.843900</td>\n",
              "      <td>178.453500</td>\n",
              "      <td>6.100000</td>\n",
              "    </tr>\n",
              "  </tbody>\n",
              "</table>\n",
              "</div>\n",
              "    <div class=\"colab-df-buttons\">\n",
              "\n",
              "  <div class=\"colab-df-container\">\n",
              "    <button class=\"colab-df-convert\" onclick=\"convertToInteractive('df-c10deb76-4468-42b7-b30f-85a5157c4cc8')\"\n",
              "            title=\"Convert this dataframe to an interactive table.\"\n",
              "            style=\"display:none;\">\n",
              "\n",
              "  <svg xmlns=\"http://www.w3.org/2000/svg\" height=\"24px\" viewBox=\"0 -960 960 960\">\n",
              "    <path d=\"M120-120v-720h720v720H120Zm60-500h600v-160H180v160Zm220 220h160v-160H400v160Zm0 220h160v-160H400v160ZM180-400h160v-160H180v160Zm440 0h160v-160H620v160ZM180-180h160v-160H180v160Zm440 0h160v-160H620v160Z\"/>\n",
              "  </svg>\n",
              "    </button>\n",
              "\n",
              "  <style>\n",
              "    .colab-df-container {\n",
              "      display:flex;\n",
              "      gap: 12px;\n",
              "    }\n",
              "\n",
              "    .colab-df-convert {\n",
              "      background-color: #E8F0FE;\n",
              "      border: none;\n",
              "      border-radius: 50%;\n",
              "      cursor: pointer;\n",
              "      display: none;\n",
              "      fill: #1967D2;\n",
              "      height: 32px;\n",
              "      padding: 0 0 0 0;\n",
              "      width: 32px;\n",
              "    }\n",
              "\n",
              "    .colab-df-convert:hover {\n",
              "      background-color: #E2EBFA;\n",
              "      box-shadow: 0px 1px 2px rgba(60, 64, 67, 0.3), 0px 1px 3px 1px rgba(60, 64, 67, 0.15);\n",
              "      fill: #174EA6;\n",
              "    }\n",
              "\n",
              "    .colab-df-buttons div {\n",
              "      margin-bottom: 4px;\n",
              "    }\n",
              "\n",
              "    [theme=dark] .colab-df-convert {\n",
              "      background-color: #3B4455;\n",
              "      fill: #D2E3FC;\n",
              "    }\n",
              "\n",
              "    [theme=dark] .colab-df-convert:hover {\n",
              "      background-color: #434B5C;\n",
              "      box-shadow: 0px 1px 3px 1px rgba(0, 0, 0, 0.15);\n",
              "      filter: drop-shadow(0px 1px 2px rgba(0, 0, 0, 0.3));\n",
              "      fill: #FFFFFF;\n",
              "    }\n",
              "  </style>\n",
              "\n",
              "    <script>\n",
              "      const buttonEl =\n",
              "        document.querySelector('#df-c10deb76-4468-42b7-b30f-85a5157c4cc8 button.colab-df-convert');\n",
              "      buttonEl.style.display =\n",
              "        google.colab.kernel.accessAllowed ? 'block' : 'none';\n",
              "\n",
              "      async function convertToInteractive(key) {\n",
              "        const element = document.querySelector('#df-c10deb76-4468-42b7-b30f-85a5157c4cc8');\n",
              "        const dataTable =\n",
              "          await google.colab.kernel.invokeFunction('convertToInteractive',\n",
              "                                                    [key], {});\n",
              "        if (!dataTable) return;\n",
              "\n",
              "        const docLinkHtml = 'Like what you see? Visit the ' +\n",
              "          '<a target=\"_blank\" href=https://colab.research.google.com/notebooks/data_table.ipynb>data table notebook</a>'\n",
              "          + ' to learn more about interactive tables.';\n",
              "        element.innerHTML = '';\n",
              "        dataTable['output_type'] = 'display_data';\n",
              "        await google.colab.output.renderOutput(dataTable, element);\n",
              "        const docLink = document.createElement('div');\n",
              "        docLink.innerHTML = docLinkHtml;\n",
              "        element.appendChild(docLink);\n",
              "      }\n",
              "    </script>\n",
              "  </div>\n",
              "\n",
              "\n",
              "<div id=\"df-22f44784-8847-43d4-89ce-a1d87cd4b125\">\n",
              "  <button class=\"colab-df-quickchart\" onclick=\"quickchart('df-22f44784-8847-43d4-89ce-a1d87cd4b125')\"\n",
              "            title=\"Suggest charts\"\n",
              "            style=\"display:none;\">\n",
              "\n",
              "<svg xmlns=\"http://www.w3.org/2000/svg\" height=\"24px\"viewBox=\"0 0 24 24\"\n",
              "     width=\"24px\">\n",
              "    <g>\n",
              "        <path d=\"M19 3H5c-1.1 0-2 .9-2 2v14c0 1.1.9 2 2 2h14c1.1 0 2-.9 2-2V5c0-1.1-.9-2-2-2zM9 17H7v-7h2v7zm4 0h-2V7h2v10zm4 0h-2v-4h2v4z\"/>\n",
              "    </g>\n",
              "</svg>\n",
              "  </button>\n",
              "\n",
              "<style>\n",
              "  .colab-df-quickchart {\n",
              "      --bg-color: #E8F0FE;\n",
              "      --fill-color: #1967D2;\n",
              "      --hover-bg-color: #E2EBFA;\n",
              "      --hover-fill-color: #174EA6;\n",
              "      --disabled-fill-color: #AAA;\n",
              "      --disabled-bg-color: #DDD;\n",
              "  }\n",
              "\n",
              "  [theme=dark] .colab-df-quickchart {\n",
              "      --bg-color: #3B4455;\n",
              "      --fill-color: #D2E3FC;\n",
              "      --hover-bg-color: #434B5C;\n",
              "      --hover-fill-color: #FFFFFF;\n",
              "      --disabled-bg-color: #3B4455;\n",
              "      --disabled-fill-color: #666;\n",
              "  }\n",
              "\n",
              "  .colab-df-quickchart {\n",
              "    background-color: var(--bg-color);\n",
              "    border: none;\n",
              "    border-radius: 50%;\n",
              "    cursor: pointer;\n",
              "    display: none;\n",
              "    fill: var(--fill-color);\n",
              "    height: 32px;\n",
              "    padding: 0;\n",
              "    width: 32px;\n",
              "  }\n",
              "\n",
              "  .colab-df-quickchart:hover {\n",
              "    background-color: var(--hover-bg-color);\n",
              "    box-shadow: 0 1px 2px rgba(60, 64, 67, 0.3), 0 1px 3px 1px rgba(60, 64, 67, 0.15);\n",
              "    fill: var(--button-hover-fill-color);\n",
              "  }\n",
              "\n",
              "  .colab-df-quickchart-complete:disabled,\n",
              "  .colab-df-quickchart-complete:disabled:hover {\n",
              "    background-color: var(--disabled-bg-color);\n",
              "    fill: var(--disabled-fill-color);\n",
              "    box-shadow: none;\n",
              "  }\n",
              "\n",
              "  .colab-df-spinner {\n",
              "    border: 2px solid var(--fill-color);\n",
              "    border-color: transparent;\n",
              "    border-bottom-color: var(--fill-color);\n",
              "    animation:\n",
              "      spin 1s steps(1) infinite;\n",
              "  }\n",
              "\n",
              "  @keyframes spin {\n",
              "    0% {\n",
              "      border-color: transparent;\n",
              "      border-bottom-color: var(--fill-color);\n",
              "      border-left-color: var(--fill-color);\n",
              "    }\n",
              "    20% {\n",
              "      border-color: transparent;\n",
              "      border-left-color: var(--fill-color);\n",
              "      border-top-color: var(--fill-color);\n",
              "    }\n",
              "    30% {\n",
              "      border-color: transparent;\n",
              "      border-left-color: var(--fill-color);\n",
              "      border-top-color: var(--fill-color);\n",
              "      border-right-color: var(--fill-color);\n",
              "    }\n",
              "    40% {\n",
              "      border-color: transparent;\n",
              "      border-right-color: var(--fill-color);\n",
              "      border-top-color: var(--fill-color);\n",
              "    }\n",
              "    60% {\n",
              "      border-color: transparent;\n",
              "      border-right-color: var(--fill-color);\n",
              "    }\n",
              "    80% {\n",
              "      border-color: transparent;\n",
              "      border-right-color: var(--fill-color);\n",
              "      border-bottom-color: var(--fill-color);\n",
              "    }\n",
              "    90% {\n",
              "      border-color: transparent;\n",
              "      border-bottom-color: var(--fill-color);\n",
              "    }\n",
              "  }\n",
              "</style>\n",
              "\n",
              "  <script>\n",
              "    async function quickchart(key) {\n",
              "      const quickchartButtonEl =\n",
              "        document.querySelector('#' + key + ' button');\n",
              "      quickchartButtonEl.disabled = true;  // To prevent multiple clicks.\n",
              "      quickchartButtonEl.classList.add('colab-df-spinner');\n",
              "      try {\n",
              "        const charts = await google.colab.kernel.invokeFunction(\n",
              "            'suggestCharts', [key], {});\n",
              "      } catch (error) {\n",
              "        console.error('Error during call to suggestCharts:', error);\n",
              "      }\n",
              "      quickchartButtonEl.classList.remove('colab-df-spinner');\n",
              "      quickchartButtonEl.classList.add('colab-df-quickchart-complete');\n",
              "    }\n",
              "    (() => {\n",
              "      let quickchartButtonEl =\n",
              "        document.querySelector('#df-22f44784-8847-43d4-89ce-a1d87cd4b125 button');\n",
              "      quickchartButtonEl.style.display =\n",
              "        google.colab.kernel.accessAllowed ? 'block' : 'none';\n",
              "    })();\n",
              "  </script>\n",
              "</div>\n",
              "\n",
              "    </div>\n",
              "  </div>\n"
            ],
            "application/vnd.google.colaboratory.intrinsic+json": {
              "type": "dataframe",
              "summary": "{\n  \"name\": \"earthquake\",\n  \"rows\": 8,\n  \"fields\": [\n    {\n      \"column\": \" Latitude\",\n      \"properties\": {\n        \"dtype\": \"number\",\n        \"std\": 445.67871503094307,\n        \"min\": -77.8695,\n        \"max\": 1265.0,\n        \"num_unique_values\": 8,\n        \"samples\": [\n          10.407495177865611,\n          12.638,\n          1265.0\n        ],\n        \"semantic_type\": \"\",\n        \"description\": \"\"\n      }\n    },\n    {\n      \"column\": \" Longitude\",\n      \"properties\": {\n        \"dtype\": \"number\",\n        \"std\": 455.8364719645198,\n        \"min\": -175.2075,\n        \"max\": 1265.0,\n        \"num_unique_values\": 8,\n        \"samples\": [\n          0.6256370750988137,\n          -7.998,\n          1265.0\n        ],\n        \"semantic_type\": \"\",\n        \"description\": \"\"\n      }\n    },\n    {\n      \"column\": \" Magnitude\",\n      \"properties\": {\n        \"dtype\": \"number\",\n        \"std\": 445.71776837439694,\n        \"min\": 0.3895818310727751,\n        \"max\": 1265.0,\n        \"num_unique_values\": 8,\n        \"samples\": [\n          5.01399209486166,\n          4.8,\n          1265.0\n        ],\n        \"semantic_type\": \"\",\n        \"description\": \"\"\n      }\n    }\n  ]\n}"
            }
          },
          "metadata": {},
          "execution_count": 45
        }
      ]
    },
    {
      "cell_type": "code",
      "source": [
        "# Latitude vs Longitude"
      ],
      "metadata": {
        "id": "fI2t7RMroS3x"
      },
      "execution_count": 41,
      "outputs": []
    },
    {
      "cell_type": "code",
      "source": [
        "from matplotlib import pyplot as plt\n",
        "_df_3.plot(kind='scatter', x=' Latitude', y=' Longitude', s=32, alpha=.8)\n",
        "plt.gca().spines[['top', 'right',]].set_visible(False)"
      ],
      "metadata": {
        "colab": {
          "base_uri": "https://localhost:8080/",
          "height": 449
        },
        "id": "DjbLw1d_s1et",
        "outputId": "c06b1208-3fa8-40d3-ee14-25a00676a2c9"
      },
      "execution_count": 40,
      "outputs": [
        {
          "output_type": "display_data",
          "data": {
            "text/plain": [
              "<Figure size 640x480 with 1 Axes>"
            ],
            "image/png": "[encoded data removed]"
          },
          "metadata": {}
        }
      ]
    },
    {
      "cell_type": "code",
      "source": [
        "# Longitude vs Magnitude"
      ],
      "metadata": {
        "id": "ih7QV0ows1u8"
      },
      "execution_count": 43,
      "outputs": []
    },
    {
      "cell_type": "code",
      "source": [
        "from matplotlib import pyplot as plt\n",
        "_df_4.plot(kind='scatter', x=' Longitude', y=' Magnitude', s=32, alpha=.8)\n",
        "plt.gca().spines[['top', 'right',]].set_visible(False)"
      ],
      "metadata": {
        "colab": {
          "base_uri": "https://localhost:8080/",
          "height": 449
        },
        "id": "sIT74od3u1zu",
        "outputId": "7923cb97-c716-4041-c5c0-27356b038c95"
      },
      "execution_count": 42,
      "outputs": [
        {
          "output_type": "display_data",
          "data": {
            "text/plain": [
              "<Figure size 640x480 with 1 Axes>"
            ],
            "image/png": "[encoded data removed]"
          },
          "metadata": {}
        }
      ]
    },
    {
      "cell_type": "code",
      "source": [
        "# Statistical summary"
      ],
      "metadata": {
        "id": "E8zRqHO_oS8m"
      },
      "execution_count": 26,
      "outputs": []
    },
    {
      "cell_type": "code",
      "source": [
        "description = earthquake[[' Latitude', ' Longitude']].describe()"
      ],
      "metadata": {
        "id": "fQyKbBycshRn"
      },
      "execution_count": 27,
      "outputs": []
    },
    {
      "cell_type": "code",
      "source": [
        "# Top 10 places with most earthquakes"
      ],
      "metadata": {
        "id": "qJx7QK1QsoLI"
      },
      "execution_count": 28,
      "outputs": []
    },
    {
      "cell_type": "code",
      "source": [
        "place_counts = earthquake['Place'].value_counts().head(10)"
      ],
      "metadata": {
        "id": "w58gtHdIsnQP"
      },
      "execution_count": 30,
      "outputs": []
    },
    {
      "cell_type": "code",
      "source": [
        "description, place_counts"
      ],
      "metadata": {
        "colab": {
          "base_uri": "https://localhost:8080/"
        },
        "id": "R_FKOcS9suVS",
        "outputId": "d969cfaa-4c7c-481c-ddb9-36cbb5705dfd"
      },
      "execution_count": 31,
      "outputs": [
        {
          "output_type": "execute_result",
          "data": {
            "text/plain": [
              "(          Latitude    Longitude\n",
              " count  1265.000000  1265.000000\n",
              " mean     10.407495     0.625637\n",
              " std      27.817623    68.043305\n",
              " min     -77.869500  -175.207500\n",
              " 25%       5.361100   -45.591900\n",
              " 50%      12.638000    -7.998000\n",
              " 75%      29.653000    31.235300\n",
              " max      56.843900   178.453500,\n",
              " Niamey         45\n",
              " Bamako         40\n",
              " Ouagadougou    40\n",
              " Freetown       35\n",
              " Conakry        35\n",
              " Bissau         35\n",
              " Banjul         35\n",
              " Monrovia       35\n",
              " Dakar          35\n",
              " Abidjan        35\n",
              " Name: Place, dtype: int64)"
            ]
          },
          "metadata": {},
          "execution_count": 31
        }
      ]
    }
  ]
}