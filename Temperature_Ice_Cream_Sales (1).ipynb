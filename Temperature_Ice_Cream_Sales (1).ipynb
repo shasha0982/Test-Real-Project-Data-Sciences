{
  "nbformat": 4,
  "nbformat_minor": 0,
  "metadata": {
    "colab": {
      "provenance": []
    },
    "kernelspec": {
      "name": "python3",
      "display_name": "Python 3"
    },
    "language_info": {
      "name": "python"
    }
  },
  "cells": [
    {
      "cell_type": "code",
      "execution_count": null,
      "metadata": {
        "id": "zmkfo_xMEYIi"
      },
      "outputs": [],
      "source": [
        "# import files csv from kaggle to colab"
      ]
    },
    {
      "cell_type": "code",
      "source": [
        "from google.colab import files\n",
        "files.upload()"
      ],
      "metadata": {
        "colab": {
          "base_uri": "https://localhost:8080/",
          "height": 128
        },
        "id": "C_nTFXlBTErn",
        "outputId": "7023a581-9163-46e0-b3bd-c2cba63df0a9"
      },
      "execution_count": 1,
      "outputs": [
        {
          "output_type": "display_data",
          "data": {
            "text/plain": [
              "<IPython.core.display.HTML object>"
            ],
            "text/html": [
              "\n",
              "     <input type=\"file\" id=\"files-90b507ac-976e-49c7-b8dd-fdd3236506f6\" name=\"files[]\" multiple disabled\n",
              "        style=\"border:none\" />\n",
              "     <output id=\"result-90b507ac-976e-49c7-b8dd-fdd3236506f6\">\n",
              "      Upload widget is only available when the cell has been executed in the\n",
              "      current browser session. Please rerun this cell to enable.\n",
              "      </output>\n",
              "      <script>// Copyright 2017 Google LLC\n",
              "//\n",
              "// Licensed under the Apache License, Version 2.0 (the \"License\");\n",
              "// you may not use this file except in compliance with the License.\n",
              "// You may obtain a copy of the License at\n",
              "//\n",
              "//      http://www.apache.org/licenses/LICENSE-2.0\n",
              "//\n",
              "// Unless required by applicable law or agreed to in writing, software\n",
              "// distributed under the License is distributed on an \"AS IS\" BASIS,\n",
              "// WITHOUT WARRANTIES OR CONDITIONS OF ANY KIND, either express or implied.\n",
              "// See the License for the specific language governing permissions and\n",
              "// limitations under the License.\n",
              "\n",
              "/**\n",
              " * @fileoverview Helpers for google.colab Python module.\n",
              " */\n",
              "(function(scope) {\n",
              "function span(text, styleAttributes = {}) {\n",
              "  const element = document.createElement('span');\n",
              "  element.textContent = text;\n",
              "  for (const key of Object.keys(styleAttributes)) {\n",
              "    element.style[key] = styleAttributes[key];\n",
              "  }\n",
              "  return element;\n",
              "}\n",
              "\n",
              "// Max number of bytes which will be uploaded at a time.\n",
              "const MAX_PAYLOAD_SIZE = 100 * 1024;\n",
              "\n",
              "function _uploadFiles(inputId, outputId) {\n",
              "  const steps = uploadFilesStep(inputId, outputId);\n",
              "  const outputElement = document.getElementById(outputId);\n",
              "  // Cache steps on the outputElement to make it available for the next call\n",
              "  // to uploadFilesContinue from Python.\n",
              "  outputElement.steps = steps;\n",
              "\n",
              "  return _uploadFilesContinue(outputId);\n",
              "}\n",
              "\n",
              "// This is roughly an async generator (not supported in the browser yet),\n",
              "// where there are multiple asynchronous steps and the Python side is going\n",
              "// to poll for completion of each step.\n",
              "// This uses a Promise to block the python side on completion of each step,\n",
              "// then passes the result of the previous step as the input to the next step.\n",
              "function _uploadFilesContinue(outputId) {\n",
              "  const outputElement = document.getElementById(outputId);\n",
              "  const steps = outputElement.steps;\n",
              "\n",
              "  const next = steps.next(outputElement.lastPromiseValue);\n",
              "  return Promise.resolve(next.value.promise).then((value) => {\n",
              "    // Cache the last promise value to make it available to the next\n",
              "    // step of the generator.\n",
              "    outputElement.lastPromiseValue = value;\n",
              "    return next.value.response;\n",
              "  });\n",
              "}\n",
              "\n",
              "/**\n",
              " * Generator function which is called between each async step of the upload\n",
              " * process.\n",
              " * @param {string} inputId Element ID of the input file picker element.\n",
              " * @param {string} outputId Element ID of the output display.\n",
              " * @return {!Iterable<!Object>} Iterable of next steps.\n",
              " */\n",
              "function* uploadFilesStep(inputId, outputId) {\n",
              "  const inputElement = document.getElementById(inputId);\n",
              "  inputElement.disabled = false;\n",
              "\n",
              "  const outputElement = document.getElementById(outputId);\n",
              "  outputElement.innerHTML = '';\n",
              "\n",
              "  const pickedPromise = new Promise((resolve) => {\n",
              "    inputElement.addEventListener('change', (e) => {\n",
              "      resolve(e.target.files);\n",
              "    });\n",
              "  });\n",
              "\n",
              "  const cancel = document.createElement('button');\n",
              "  inputElement.parentElement.appendChild(cancel);\n",
              "  cancel.textContent = 'Cancel upload';\n",
              "  const cancelPromise = new Promise((resolve) => {\n",
              "    cancel.onclick = () => {\n",
              "      resolve(null);\n",
              "    };\n",
              "  });\n",
              "\n",
              "  // Wait for the user to pick the files.\n",
              "  const files = yield {\n",
              "    promise: Promise.race([pickedPromise, cancelPromise]),\n",
              "    response: {\n",
              "      action: 'starting',\n",
              "    }\n",
              "  };\n",
              "\n",
              "  cancel.remove();\n",
              "\n",
              "  // Disable the input element since further picks are not allowed.\n",
              "  inputElement.disabled = true;\n",
              "\n",
              "  if (!files) {\n",
              "    return {\n",
              "      response: {\n",
              "        action: 'complete',\n",
              "      }\n",
              "    };\n",
              "  }\n",
              "\n",
              "  for (const file of files) {\n",
              "    const li = document.createElement('li');\n",
              "    li.append(span(file.name, {fontWeight: 'bold'}));\n",
              "    li.append(span(\n",
              "        `(${file.type || 'n/a'}) - ${file.size} bytes, ` +\n",
              "        `last modified: ${\n",
              "            file.lastModifiedDate ? file.lastModifiedDate.toLocaleDateString() :\n",
              "                                    'n/a'} - `));\n",
              "    const percent = span('0% done');\n",
              "    li.appendChild(percent);\n",
              "\n",
              "    outputElement.appendChild(li);\n",
              "\n",
              "    const fileDataPromise = new Promise((resolve) => {\n",
              "      const reader = new FileReader();\n",
              "      reader.onload = (e) => {\n",
              "        resolve(e.target.result);\n",
              "      };\n",
              "      reader.readAsArrayBuffer(file);\n",
              "    });\n",
              "    // Wait for the data to be ready.\n",
              "    let fileData = yield {\n",
              "      promise: fileDataPromise,\n",
              "      response: {\n",
              "        action: 'continue',\n",
              "      }\n",
              "    };\n",
              "\n",
              "    // Use a chunked sending to avoid message size limits. See b/62115660.\n",
              "    let position = 0;\n",
              "    do {\n",
              "      const length = Math.min(fileData.byteLength - position, MAX_PAYLOAD_SIZE);\n",
              "      const chunk = new Uint8Array(fileData, position, length);\n",
              "      position += length;\n",
              "\n",
              "      const base64 = btoa(String.fromCharCode.apply(null, chunk));\n",
              "      yield {\n",
              "        response: {\n",
              "          action: 'append',\n",
              "          file: file.name,\n",
              "          data: base64,\n",
              "        },\n",
              "      };\n",
              "\n",
              "      let percentDone = fileData.byteLength === 0 ?\n",
              "          100 :\n",
              "          Math.round((position / fileData.byteLength) * 100);\n",
              "      percent.textContent = `${percentDone}% done`;\n",
              "\n",
              "    } while (position < fileData.byteLength);\n",
              "  }\n",
              "\n",
              "  // All done.\n",
              "  yield {\n",
              "    response: {\n",
              "      action: 'complete',\n",
              "    }\n",
              "  };\n",
              "}\n",
              "\n",
              "scope.google = scope.google || {};\n",
              "scope.google.colab = scope.google.colab || {};\n",
              "scope.google.colab._files = {\n",
              "  _uploadFiles,\n",
              "  _uploadFilesContinue,\n",
              "};\n",
              "})(self);\n",
              "</script> "
            ]
          },
          "metadata": {}
        },
        {
          "output_type": "stream",
          "name": "stdout",
          "text": [
            "Saving Ice Cream Sales - temperatures.csv to Ice Cream Sales - temperatures.csv\n"
          ]
        },
        {
          "output_type": "execute_result",
          "data": {
            "text/plain": [
              "{'Ice Cream Sales - temperatures.csv': b'Temperature,Ice Cream Profits\\r\\n39,13.17\\r\\n40,11.88\\r\\n41,18.82\\r\\n42,18.65\\r\\n43,17.02\\r\\n43,15.88\\r\\n44,19.07\\r\\n44,19.57\\r\\n45,21.62\\r\\n45,22.34\\r\\n45,19.23\\r\\n46,21.25\\r\\n46,19.81\\r\\n47,22.12\\r\\n48,24.22\\r\\n48,24.68\\r\\n48,23.78\\r\\n48,26.41\\r\\n48,25.01\\r\\n48,22.29\\r\\n49,27.81\\r\\n49,23.54\\r\\n50,22.89\\r\\n50,25.68\\r\\n50,27.29\\r\\n50,27.64\\r\\n50,27.31\\r\\n51,21.93\\r\\n51,32.18\\r\\n52,30.67\\r\\n52,28.05\\r\\n52,28.82\\r\\n52,27.87\\r\\n52,29.39\\r\\n53,32.60\\r\\n53,31.62\\r\\n53,25.71\\r\\n53,28.48\\r\\n54,30.09\\r\\n54,33.58\\r\\n54,29.75\\r\\n54,31.94\\r\\n54,33.71\\r\\n54,28.37\\r\\n54,27.41\\r\\n54,27.99\\r\\n54,30.37\\r\\n55,27.68\\r\\n55,29.53\\r\\n55,33.91\\r\\n55,34.19\\r\\n56,33.22\\r\\n56,34.47\\r\\n57,30.89\\r\\n57,35.80\\r\\n58,33.44\\r\\n58,36.79\\r\\n58,31.56\\r\\n58,35.13\\r\\n58,36.11\\r\\n58,32.39\\r\\n59,38.18\\r\\n59,29.69\\r\\n59,38.47\\r\\n59,37.74\\r\\n59,36.71\\r\\n59,32.29\\r\\n59,37.50\\r\\n59,35.33\\r\\n60,35.06\\r\\n60,36.25\\r\\n60,40.25\\r\\n60,39.69\\r\\n60,40.95\\r\\n61,37.96\\r\\n61,38.10\\r\\n61,38.21\\r\\n61,37.30\\r\\n61,39.53\\r\\n61,37.42\\r\\n61,39.42\\r\\n61,38.16\\r\\n61,37.66\\r\\n62,39.04\\r\\n62,41.44\\r\\n62,40.19\\r\\n62,37.93\\r\\n63,50.17\\r\\n63,44.15\\r\\n63,41.58\\r\\n63,40.59\\r\\n63,39.17\\r\\n64,40.57\\r\\n64,40.28\\r\\n64,41.21\\r\\n64,44.85\\r\\n64,40.94\\r\\n64,40.14\\r\\n64,38.57\\r\\n64,44.07\\r\\n64,44.10\\r\\n65,47.36\\r\\n65,45.38\\r\\n65,41.09\\r\\n65,43.78\\r\\n65,42.72\\r\\n65,42.10\\r\\n65,43.28\\r\\n65,44.31\\r\\n65,42.71\\r\\n66,43.03\\r\\n66,42.16\\r\\n66,46.74\\r\\n66,47.68\\r\\n66,44.48\\r\\n66,47.52\\r\\n66,44.98\\r\\n66,45.07\\r\\n66,45.42\\r\\n66,47.36\\r\\n66,48.26\\r\\n66,51.75\\r\\n66,45.05\\r\\n66,40.65\\r\\n67,48.65\\r\\n67,45.26\\r\\n67,46.04\\r\\n67,44.85\\r\\n67,42.94\\r\\n67,50.62\\r\\n68,45.65\\r\\n68,49.37\\r\\n68,45.89\\r\\n68,50.74\\r\\n68,47.17\\r\\n68,49.60\\r\\n68,41.68\\r\\n68,46.90\\r\\n68,47.35\\r\\n68,47.73\\r\\n68,43.73\\r\\n68,47.47\\r\\n69,51.38\\r\\n69,41.74\\r\\n69,49.88\\r\\n69,47.78\\r\\n69,42.50\\r\\n69,48.77\\r\\n70,49.46\\r\\n70,50.87\\r\\n70,49.12\\r\\n70,49.95\\r\\n70,50.31\\r\\n70,49.32\\r\\n70,52.67\\r\\n70,52.05\\r\\n70,48.82\\r\\n71,53.33\\r\\n71,54.59\\r\\n71,53.77\\r\\n71,49.60\\r\\n71,52.17\\r\\n71,46.74\\r\\n71,53.04\\r\\n71,49.34\\r\\n71,55.04\\r\\n72,57.18\\r\\n72,51.26\\r\\n72,53.78\\r\\n72,51.55\\r\\n72,50.01\\r\\n72,53.59\\r\\n72,52.47\\r\\n72,48.96\\r\\n72,53.57\\r\\n72,50.79\\r\\n73,52.13\\r\\n73,52.42\\r\\n73,54.67\\r\\n73,51.82\\r\\n73,53.21\\r\\n73,54.40\\r\\n73,55.01\\r\\n73,54.08\\r\\n73,53.97\\r\\n74,55.28\\r\\n74,54.36\\r\\n74,53.62\\r\\n74,50.65\\r\\n74,55.52\\r\\n74,58.61\\r\\n74,50.64\\r\\n74,54.28\\r\\n74,53.95\\r\\n74,53.44\\r\\n74,57.10\\r\\n74,54.26\\r\\n75,55.34\\r\\n75,53.71\\r\\n75,57.84\\r\\n75,55.91\\r\\n75,58.62\\r\\n75,58.85\\r\\n76,52.84\\r\\n76,56.59\\r\\n76,59.43\\r\\n76,59.69\\r\\n76,53.83\\r\\n76,59.41\\r\\n76,53.17\\r\\n76,53.48\\r\\n76,59.94\\r\\n76,60.31\\r\\n76,60.33\\r\\n77,53.82\\r\\n77,53.07\\r\\n77,59.48\\r\\n77,54.10\\r\\n77,56.33\\r\\n77,59.87\\r\\n77,60.75\\r\\n77,56.43\\r\\n77,60.86\\r\\n77,55.07\\r\\n77,58.39\\r\\n77,58.72\\r\\n77,57.52\\r\\n77,56.33\\r\\n77,57.47\\r\\n78,58.13\\r\\n78,60.46\\r\\n78,60.33\\r\\n78,60.89\\r\\n78,62.58\\r\\n78,61.22\\r\\n78,59.62\\r\\n78,58.31\\r\\n78,59.12\\r\\n78,57.93\\r\\n78,57.25\\r\\n78,62.20\\r\\n79,59.70\\r\\n79,64.82\\r\\n79,57.06\\r\\n79,62.52\\r\\n79,59.93\\r\\n79,61.71\\r\\n79,59.49\\r\\n79,67.42\\r\\n79,56.34\\r\\n79,59.69\\r\\n79,57.44\\r\\n79,64.63\\r\\n80,55.47\\r\\n80,61.22\\r\\n80,62.79\\r\\n80,59.91\\r\\n80,61.59\\r\\n80,63.46\\r\\n80,64.45\\r\\n80,65.42\\r\\n80,61.82\\r\\n81,64.36\\r\\n81,58.11\\r\\n81,59.47\\r\\n81,65.86\\r\\n81,61.52\\r\\n81,62.12\\r\\n81,64.23\\r\\n81,62.36\\r\\n81,62.32\\r\\n82,64.97\\r\\n82,66.15\\r\\n82,64.02\\r\\n82,63.41\\r\\n82,61.85\\r\\n82,65.49\\r\\n82,64.39\\r\\n82,66.06\\r\\n82,64.86\\r\\n82,62.85\\r\\n82,66.57\\r\\n83,65.54\\r\\n83,62.58\\r\\n83,63.29\\r\\n83,64.38\\r\\n83,60.78\\r\\n83,65.66\\r\\n84,66.61\\r\\n84,65.12\\r\\n84,63.13\\r\\n84,63.35\\r\\n84,65.40\\r\\n84,65.41\\r\\n84,68.28\\r\\n84,64.10\\r\\n84,66.26\\r\\n84,63.63\\r\\n84,67.58\\r\\n84,68.54\\r\\n84,65.20\\r\\n85,67.93\\r\\n85,67.88\\r\\n85,69.71\\r\\n85,64.22\\r\\n85,61.82\\r\\n85,68.28\\r\\n85,62.99\\r\\n85,64.96\\r\\n85,65.99\\r\\n85,70.30\\r\\n85,64.31\\r\\n86,69.59\\r\\n86,68.35\\r\\n86,69.66\\r\\n86,71.46\\r\\n86,69.90\\r\\n86,69.19\\r\\n86,67.97\\r\\n86,64.85\\r\\n87,70.43\\r\\n87,68.48\\r\\n87,70.29\\r\\n87,65.19\\r\\n87,68.00\\r\\n87,70.64\\r\\n88,69.67\\r\\n88,74.69\\r\\n88,69.78\\r\\n89,73.16\\r\\n89,71.51\\r\\n89,73.32\\r\\n89,74.09\\r\\n90,71.12\\r\\n90,67.58\\r\\n90,77.39\\r\\n90,75.11\\r\\n90,74.80\\r\\n90,73.94\\r\\n90,75.94\\r\\n91,79.31\\r\\n91,81.81\\r\\n91,75.58\\r\\n92,78.20\\r\\n92,75.60\\r\\n92,75.04\\r\\n92,77.41\\r\\n93,79.76\\r\\n93,77.18\\r\\n94,80.94\\r\\n94,75.70\\r\\n95,78.20\\r\\n95,80.75\\r\\n95,80.97\\r\\n95,80.98\\r\\n96,80.02\\r\\n96,82.83\\r\\n96,80.95\\r\\n97,82.50\\r\\n98,84.12\\r\\n99,85.13\\r\\n99,87.08\\r\\n99,89.29\\r\\n101,81.91\\r\\n101,85.02'}"
            ]
          },
          "metadata": {},
          "execution_count": 1
        }
      ]
    },
    {
      "cell_type": "code",
      "source": [
        "import pandas as pd\n",
        "import numpy as np"
      ],
      "metadata": {
        "id": "f-dSzN3yTExA"
      },
      "execution_count": 2,
      "outputs": []
    },
    {
      "cell_type": "code",
      "source": [
        "ice_cream = pd.read_csv('Ice Cream Sales - temperatures.csv')"
      ],
      "metadata": {
        "id": "a0q-5ky9TE3k"
      },
      "execution_count": 3,
      "outputs": []
    },
    {
      "cell_type": "code",
      "source": [
        "ice_cream.head()"
      ],
      "metadata": {
        "colab": {
          "base_uri": "https://localhost:8080/",
          "height": 206
        },
        "id": "yedDb2n4T0tl",
        "outputId": "55f0bf43-33d5-4deb-828a-6a94f8728395"
      },
      "execution_count": 4,
      "outputs": [
        {
          "output_type": "execute_result",
          "data": {
            "text/plain": [
              "   Temperature  Ice Cream Profits\n",
              "0           39              13.17\n",
              "1           40              11.88\n",
              "2           41              18.82\n",
              "3           42              18.65\n",
              "4           43              17.02"
            ],
            "text/html": [
              "\n",
              "  <div id=\"df-8abc060a-3de7-4a18-973b-373eb8369c81\" class=\"colab-df-container\">\n",
              "    <div>\n",
              "<style scoped>\n",
              "    .dataframe tbody tr th:only-of-type {\n",
              "        vertical-align: middle;\n",
              "    }\n",
              "\n",
              "    .dataframe tbody tr th {\n",
              "        vertical-align: top;\n",
              "    }\n",
              "\n",
              "    .dataframe thead th {\n",
              "        text-align: right;\n",
              "    }\n",
              "</style>\n",
              "<table border=\"1\" class=\"dataframe\">\n",
              "  <thead>\n",
              "    <tr style=\"text-align: right;\">\n",
              "      <th></th>\n",
              "      <th>Temperature</th>\n",
              "      <th>Ice Cream Profits</th>\n",
              "    </tr>\n",
              "  </thead>\n",
              "  <tbody>\n",
              "    <tr>\n",
              "      <th>0</th>\n",
              "      <td>39</td>\n",
              "      <td>13.17</td>\n",
              "    </tr>\n",
              "    <tr>\n",
              "      <th>1</th>\n",
              "      <td>40</td>\n",
              "      <td>11.88</td>\n",
              "    </tr>\n",
              "    <tr>\n",
              "      <th>2</th>\n",
              "      <td>41</td>\n",
              "      <td>18.82</td>\n",
              "    </tr>\n",
              "    <tr>\n",
              "      <th>3</th>\n",
              "      <td>42</td>\n",
              "      <td>18.65</td>\n",
              "    </tr>\n",
              "    <tr>\n",
              "      <th>4</th>\n",
              "      <td>43</td>\n",
              "      <td>17.02</td>\n",
              "    </tr>\n",
              "  </tbody>\n",
              "</table>\n",
              "</div>\n",
              "    <div class=\"colab-df-buttons\">\n",
              "\n",
              "  <div class=\"colab-df-container\">\n",
              "    <button class=\"colab-df-convert\" onclick=\"convertToInteractive('df-8abc060a-3de7-4a18-973b-373eb8369c81')\"\n",
              "            title=\"Convert this dataframe to an interactive table.\"\n",
              "            style=\"display:none;\">\n",
              "\n",
              "  <svg xmlns=\"http://www.w3.org/2000/svg\" height=\"24px\" viewBox=\"0 -960 960 960\">\n",
              "    <path d=\"M120-120v-720h720v720H120Zm60-500h600v-160H180v160Zm220 220h160v-160H400v160Zm0 220h160v-160H400v160ZM180-400h160v-160H180v160Zm440 0h160v-160H620v160ZM180-180h160v-160H180v160Zm440 0h160v-160H620v160Z\"/>\n",
              "  </svg>\n",
              "    </button>\n",
              "\n",
              "  <style>\n",
              "    .colab-df-container {\n",
              "      display:flex;\n",
              "      gap: 12px;\n",
              "    }\n",
              "\n",
              "    .colab-df-convert {\n",
              "      background-color: #E8F0FE;\n",
              "      border: none;\n",
              "      border-radius: 50%;\n",
              "      cursor: pointer;\n",
              "      display: none;\n",
              "      fill: #1967D2;\n",
              "      height: 32px;\n",
              "      padding: 0 0 0 0;\n",
              "      width: 32px;\n",
              "    }\n",
              "\n",
              "    .colab-df-convert:hover {\n",
              "      background-color: #E2EBFA;\n",
              "      box-shadow: 0px 1px 2px rgba(60, 64, 67, 0.3), 0px 1px 3px 1px rgba(60, 64, 67, 0.15);\n",
              "      fill: #174EA6;\n",
              "    }\n",
              "\n",
              "    .colab-df-buttons div {\n",
              "      margin-bottom: 4px;\n",
              "    }\n",
              "\n",
              "    [theme=dark] .colab-df-convert {\n",
              "      background-color: #3B4455;\n",
              "      fill: #D2E3FC;\n",
              "    }\n",
              "\n",
              "    [theme=dark] .colab-df-convert:hover {\n",
              "      background-color: #434B5C;\n",
              "      box-shadow: 0px 1px 3px 1px rgba(0, 0, 0, 0.15);\n",
              "      filter: drop-shadow(0px 1px 2px rgba(0, 0, 0, 0.3));\n",
              "      fill: #FFFFFF;\n",
              "    }\n",
              "  </style>\n",
              "\n",
              "    <script>\n",
              "      const buttonEl =\n",
              "        document.querySelector('#df-8abc060a-3de7-4a18-973b-373eb8369c81 button.colab-df-convert');\n",
              "      buttonEl.style.display =\n",
              "        google.colab.kernel.accessAllowed ? 'block' : 'none';\n",
              "\n",
              "      async function convertToInteractive(key) {\n",
              "        const element = document.querySelector('#df-8abc060a-3de7-4a18-973b-373eb8369c81');\n",
              "        const dataTable =\n",
              "          await google.colab.kernel.invokeFunction('convertToInteractive',\n",
              "                                                    [key], {});\n",
              "        if (!dataTable) return;\n",
              "\n",
              "        const docLinkHtml = 'Like what you see? Visit the ' +\n",
              "          '<a target=\"_blank\" href=https://colab.research.google.com/notebooks/data_table.ipynb>data table notebook</a>'\n",
              "          + ' to learn more about interactive tables.';\n",
              "        element.innerHTML = '';\n",
              "        dataTable['output_type'] = 'display_data';\n",
              "        await google.colab.output.renderOutput(dataTable, element);\n",
              "        const docLink = document.createElement('div');\n",
              "        docLink.innerHTML = docLinkHtml;\n",
              "        element.appendChild(docLink);\n",
              "      }\n",
              "    </script>\n",
              "  </div>\n",
              "\n",
              "\n",
              "<div id=\"df-a753234c-0d50-4de1-a4ec-bd85db0ab09a\">\n",
              "  <button class=\"colab-df-quickchart\" onclick=\"quickchart('df-a753234c-0d50-4de1-a4ec-bd85db0ab09a')\"\n",
              "            title=\"Suggest charts\"\n",
              "            style=\"display:none;\">\n",
              "\n",
              "<svg xmlns=\"http://www.w3.org/2000/svg\" height=\"24px\"viewBox=\"0 0 24 24\"\n",
              "     width=\"24px\">\n",
              "    <g>\n",
              "        <path d=\"M19 3H5c-1.1 0-2 .9-2 2v14c0 1.1.9 2 2 2h14c1.1 0 2-.9 2-2V5c0-1.1-.9-2-2-2zM9 17H7v-7h2v7zm4 0h-2V7h2v10zm4 0h-2v-4h2v4z\"/>\n",
              "    </g>\n",
              "</svg>\n",
              "  </button>\n",
              "\n",
              "<style>\n",
              "  .colab-df-quickchart {\n",
              "      --bg-color: #E8F0FE;\n",
              "      --fill-color: #1967D2;\n",
              "      --hover-bg-color: #E2EBFA;\n",
              "      --hover-fill-color: #174EA6;\n",
              "      --disabled-fill-color: #AAA;\n",
              "      --disabled-bg-color: #DDD;\n",
              "  }\n",
              "\n",
              "  [theme=dark] .colab-df-quickchart {\n",
              "      --bg-color: #3B4455;\n",
              "      --fill-color: #D2E3FC;\n",
              "      --hover-bg-color: #434B5C;\n",
              "      --hover-fill-color: #FFFFFF;\n",
              "      --disabled-bg-color: #3B4455;\n",
              "      --disabled-fill-color: #666;\n",
              "  }\n",
              "\n",
              "  .colab-df-quickchart {\n",
              "    background-color: var(--bg-color);\n",
              "    border: none;\n",
              "    border-radius: 50%;\n",
              "    cursor: pointer;\n",
              "    display: none;\n",
              "    fill: var(--fill-color);\n",
              "    height: 32px;\n",
              "    padding: 0;\n",
              "    width: 32px;\n",
              "  }\n",
              "\n",
              "  .colab-df-quickchart:hover {\n",
              "    background-color: var(--hover-bg-color);\n",
              "    box-shadow: 0 1px 2px rgba(60, 64, 67, 0.3), 0 1px 3px 1px rgba(60, 64, 67, 0.15);\n",
              "    fill: var(--button-hover-fill-color);\n",
              "  }\n",
              "\n",
              "  .colab-df-quickchart-complete:disabled,\n",
              "  .colab-df-quickchart-complete:disabled:hover {\n",
              "    background-color: var(--disabled-bg-color);\n",
              "    fill: var(--disabled-fill-color);\n",
              "    box-shadow: none;\n",
              "  }\n",
              "\n",
              "  .colab-df-spinner {\n",
              "    border: 2px solid var(--fill-color);\n",
              "    border-color: transparent;\n",
              "    border-bottom-color: var(--fill-color);\n",
              "    animation:\n",
              "      spin 1s steps(1) infinite;\n",
              "  }\n",
              "\n",
              "  @keyframes spin {\n",
              "    0% {\n",
              "      border-color: transparent;\n",
              "      border-bottom-color: var(--fill-color);\n",
              "      border-left-color: var(--fill-color);\n",
              "    }\n",
              "    20% {\n",
              "      border-color: transparent;\n",
              "      border-left-color: var(--fill-color);\n",
              "      border-top-color: var(--fill-color);\n",
              "    }\n",
              "    30% {\n",
              "      border-color: transparent;\n",
              "      border-left-color: var(--fill-color);\n",
              "      border-top-color: var(--fill-color);\n",
              "      border-right-color: var(--fill-color);\n",
              "    }\n",
              "    40% {\n",
              "      border-color: transparent;\n",
              "      border-right-color: var(--fill-color);\n",
              "      border-top-color: var(--fill-color);\n",
              "    }\n",
              "    60% {\n",
              "      border-color: transparent;\n",
              "      border-right-color: var(--fill-color);\n",
              "    }\n",
              "    80% {\n",
              "      border-color: transparent;\n",
              "      border-right-color: var(--fill-color);\n",
              "      border-bottom-color: var(--fill-color);\n",
              "    }\n",
              "    90% {\n",
              "      border-color: transparent;\n",
              "      border-bottom-color: var(--fill-color);\n",
              "    }\n",
              "  }\n",
              "</style>\n",
              "\n",
              "  <script>\n",
              "    async function quickchart(key) {\n",
              "      const quickchartButtonEl =\n",
              "        document.querySelector('#' + key + ' button');\n",
              "      quickchartButtonEl.disabled = true;  // To prevent multiple clicks.\n",
              "      quickchartButtonEl.classList.add('colab-df-spinner');\n",
              "      try {\n",
              "        const charts = await google.colab.kernel.invokeFunction(\n",
              "            'suggestCharts', [key], {});\n",
              "      } catch (error) {\n",
              "        console.error('Error during call to suggestCharts:', error);\n",
              "      }\n",
              "      quickchartButtonEl.classList.remove('colab-df-spinner');\n",
              "      quickchartButtonEl.classList.add('colab-df-quickchart-complete');\n",
              "    }\n",
              "    (() => {\n",
              "      let quickchartButtonEl =\n",
              "        document.querySelector('#df-a753234c-0d50-4de1-a4ec-bd85db0ab09a button');\n",
              "      quickchartButtonEl.style.display =\n",
              "        google.colab.kernel.accessAllowed ? 'block' : 'none';\n",
              "    })();\n",
              "  </script>\n",
              "</div>\n",
              "\n",
              "    </div>\n",
              "  </div>\n"
            ],
            "application/vnd.google.colaboratory.intrinsic+json": {
              "type": "dataframe",
              "variable_name": "ice_cream",
              "summary": "{\n  \"name\": \"ice_cream\",\n  \"rows\": 365,\n  \"fields\": [\n    {\n      \"column\": \"Temperature\",\n      \"properties\": {\n        \"dtype\": \"number\",\n        \"std\": 13,\n        \"min\": 39,\n        \"max\": 101,\n        \"num_unique_values\": 62,\n        \"samples\": [\n          89,\n          95,\n          39\n        ],\n        \"semantic_type\": \"\",\n        \"description\": \"\"\n      }\n    },\n    {\n      \"column\": \"Ice Cream Profits\",\n      \"properties\": {\n        \"dtype\": \"number\",\n        \"std\": 15.98900393318962,\n        \"min\": 11.88,\n        \"max\": 89.29,\n        \"num_unique_values\": 352,\n        \"samples\": [\n          61.22,\n          44.98,\n          33.44\n        ],\n        \"semantic_type\": \"\",\n        \"description\": \"\"\n      }\n    }\n  ]\n}"
            }
          },
          "metadata": {},
          "execution_count": 4
        }
      ]
    },
    {
      "cell_type": "code",
      "source": [
        "ice_cream.info()"
      ],
      "metadata": {
        "colab": {
          "base_uri": "https://localhost:8080/"
        },
        "id": "p5ZX3pVtT05Q",
        "outputId": "6a68ad85-3efc-42ce-838e-8078a8e01b33"
      },
      "execution_count": 5,
      "outputs": [
        {
          "output_type": "stream",
          "name": "stdout",
          "text": [
            "<class 'pandas.core.frame.DataFrame'>\n",
            "RangeIndex: 365 entries, 0 to 364\n",
            "Data columns (total 2 columns):\n",
            " #   Column             Non-Null Count  Dtype  \n",
            "---  ------             --------------  -----  \n",
            " 0   Temperature        365 non-null    int64  \n",
            " 1   Ice Cream Profits  365 non-null    float64\n",
            "dtypes: float64(1), int64(1)\n",
            "memory usage: 5.8 KB\n"
          ]
        }
      ]
    },
    {
      "cell_type": "code",
      "source": [
        "ice_cream.describe()"
      ],
      "metadata": {
        "colab": {
          "base_uri": "https://localhost:8080/",
          "height": 300
        },
        "id": "Edp0mh28T0_6",
        "outputId": "4eb91198-9315-4e4f-a92b-5ea0ed0f4615"
      },
      "execution_count": 6,
      "outputs": [
        {
          "output_type": "execute_result",
          "data": {
            "text/plain": [
              "       Temperature  Ice Cream Profits\n",
              "count   365.000000         365.000000\n",
              "mean     71.980822          52.103616\n",
              "std      13.258510          15.989004\n",
              "min      39.000000          11.880000\n",
              "25%      63.000000          40.650000\n",
              "50%      73.000000          53.620000\n",
              "75%      82.000000          63.630000\n",
              "max     101.000000          89.290000"
            ],
            "text/html": [
              "\n",
              "  <div id=\"df-4711668e-4c1b-4fd6-90cf-10a7f4c16472\" class=\"colab-df-container\">\n",
              "    <div>\n",
              "<style scoped>\n",
              "    .dataframe tbody tr th:only-of-type {\n",
              "        vertical-align: middle;\n",
              "    }\n",
              "\n",
              "    .dataframe tbody tr th {\n",
              "        vertical-align: top;\n",
              "    }\n",
              "\n",
              "    .dataframe thead th {\n",
              "        text-align: right;\n",
              "    }\n",
              "</style>\n",
              "<table border=\"1\" class=\"dataframe\">\n",
              "  <thead>\n",
              "    <tr style=\"text-align: right;\">\n",
              "      <th></th>\n",
              "      <th>Temperature</th>\n",
              "      <th>Ice Cream Profits</th>\n",
              "    </tr>\n",
              "  </thead>\n",
              "  <tbody>\n",
              "    <tr>\n",
              "      <th>count</th>\n",
              "      <td>365.000000</td>\n",
              "      <td>365.000000</td>\n",
              "    </tr>\n",
              "    <tr>\n",
              "      <th>mean</th>\n",
              "      <td>71.980822</td>\n",
              "      <td>52.103616</td>\n",
              "    </tr>\n",
              "    <tr>\n",
              "      <th>std</th>\n",
              "      <td>13.258510</td>\n",
              "      <td>15.989004</td>\n",
              "    </tr>\n",
              "    <tr>\n",
              "      <th>min</th>\n",
              "      <td>39.000000</td>\n",
              "      <td>11.880000</td>\n",
              "    </tr>\n",
              "    <tr>\n",
              "      <th>25%</th>\n",
              "      <td>63.000000</td>\n",
              "      <td>40.650000</td>\n",
              "    </tr>\n",
              "    <tr>\n",
              "      <th>50%</th>\n",
              "      <td>73.000000</td>\n",
              "      <td>53.620000</td>\n",
              "    </tr>\n",
              "    <tr>\n",
              "      <th>75%</th>\n",
              "      <td>82.000000</td>\n",
              "      <td>63.630000</td>\n",
              "    </tr>\n",
              "    <tr>\n",
              "      <th>max</th>\n",
              "      <td>101.000000</td>\n",
              "      <td>89.290000</td>\n",
              "    </tr>\n",
              "  </tbody>\n",
              "</table>\n",
              "</div>\n",
              "    <div class=\"colab-df-buttons\">\n",
              "\n",
              "  <div class=\"colab-df-container\">\n",
              "    <button class=\"colab-df-convert\" onclick=\"convertToInteractive('df-4711668e-4c1b-4fd6-90cf-10a7f4c16472')\"\n",
              "            title=\"Convert this dataframe to an interactive table.\"\n",
              "            style=\"display:none;\">\n",
              "\n",
              "  <svg xmlns=\"http://www.w3.org/2000/svg\" height=\"24px\" viewBox=\"0 -960 960 960\">\n",
              "    <path d=\"M120-120v-720h720v720H120Zm60-500h600v-160H180v160Zm220 220h160v-160H400v160Zm0 220h160v-160H400v160ZM180-400h160v-160H180v160Zm440 0h160v-160H620v160ZM180-180h160v-160H180v160Zm440 0h160v-160H620v160Z\"/>\n",
              "  </svg>\n",
              "    </button>\n",
              "\n",
              "  <style>\n",
              "    .colab-df-container {\n",
              "      display:flex;\n",
              "      gap: 12px;\n",
              "    }\n",
              "\n",
              "    .colab-df-convert {\n",
              "      background-color: #E8F0FE;\n",
              "      border: none;\n",
              "      border-radius: 50%;\n",
              "      cursor: pointer;\n",
              "      display: none;\n",
              "      fill: #1967D2;\n",
              "      height: 32px;\n",
              "      padding: 0 0 0 0;\n",
              "      width: 32px;\n",
              "    }\n",
              "\n",
              "    .colab-df-convert:hover {\n",
              "      background-color: #E2EBFA;\n",
              "      box-shadow: 0px 1px 2px rgba(60, 64, 67, 0.3), 0px 1px 3px 1px rgba(60, 64, 67, 0.15);\n",
              "      fill: #174EA6;\n",
              "    }\n",
              "\n",
              "    .colab-df-buttons div {\n",
              "      margin-bottom: 4px;\n",
              "    }\n",
              "\n",
              "    [theme=dark] .colab-df-convert {\n",
              "      background-color: #3B4455;\n",
              "      fill: #D2E3FC;\n",
              "    }\n",
              "\n",
              "    [theme=dark] .colab-df-convert:hover {\n",
              "      background-color: #434B5C;\n",
              "      box-shadow: 0px 1px 3px 1px rgba(0, 0, 0, 0.15);\n",
              "      filter: drop-shadow(0px 1px 2px rgba(0, 0, 0, 0.3));\n",
              "      fill: #FFFFFF;\n",
              "    }\n",
              "  </style>\n",
              "\n",
              "    <script>\n",
              "      const buttonEl =\n",
              "        document.querySelector('#df-4711668e-4c1b-4fd6-90cf-10a7f4c16472 button.colab-df-convert');\n",
              "      buttonEl.style.display =\n",
              "        google.colab.kernel.accessAllowed ? 'block' : 'none';\n",
              "\n",
              "      async function convertToInteractive(key) {\n",
              "        const element = document.querySelector('#df-4711668e-4c1b-4fd6-90cf-10a7f4c16472');\n",
              "        const dataTable =\n",
              "          await google.colab.kernel.invokeFunction('convertToInteractive',\n",
              "                                                    [key], {});\n",
              "        if (!dataTable) return;\n",
              "\n",
              "        const docLinkHtml = 'Like what you see? Visit the ' +\n",
              "          '<a target=\"_blank\" href=https://colab.research.google.com/notebooks/data_table.ipynb>data table notebook</a>'\n",
              "          + ' to learn more about interactive tables.';\n",
              "        element.innerHTML = '';\n",
              "        dataTable['output_type'] = 'display_data';\n",
              "        await google.colab.output.renderOutput(dataTable, element);\n",
              "        const docLink = document.createElement('div');\n",
              "        docLink.innerHTML = docLinkHtml;\n",
              "        element.appendChild(docLink);\n",
              "      }\n",
              "    </script>\n",
              "  </div>\n",
              "\n",
              "\n",
              "<div id=\"df-434e1a3c-dd7b-48c2-852a-3ac58ba89a2f\">\n",
              "  <button class=\"colab-df-quickchart\" onclick=\"quickchart('df-434e1a3c-dd7b-48c2-852a-3ac58ba89a2f')\"\n",
              "            title=\"Suggest charts\"\n",
              "            style=\"display:none;\">\n",
              "\n",
              "<svg xmlns=\"http://www.w3.org/2000/svg\" height=\"24px\"viewBox=\"0 0 24 24\"\n",
              "     width=\"24px\">\n",
              "    <g>\n",
              "        <path d=\"M19 3H5c-1.1 0-2 .9-2 2v14c0 1.1.9 2 2 2h14c1.1 0 2-.9 2-2V5c0-1.1-.9-2-2-2zM9 17H7v-7h2v7zm4 0h-2V7h2v10zm4 0h-2v-4h2v4z\"/>\n",
              "    </g>\n",
              "</svg>\n",
              "  </button>\n",
              "\n",
              "<style>\n",
              "  .colab-df-quickchart {\n",
              "      --bg-color: #E8F0FE;\n",
              "      --fill-color: #1967D2;\n",
              "      --hover-bg-color: #E2EBFA;\n",
              "      --hover-fill-color: #174EA6;\n",
              "      --disabled-fill-color: #AAA;\n",
              "      --disabled-bg-color: #DDD;\n",
              "  }\n",
              "\n",
              "  [theme=dark] .colab-df-quickchart {\n",
              "      --bg-color: #3B4455;\n",
              "      --fill-color: #D2E3FC;\n",
              "      --hover-bg-color: #434B5C;\n",
              "      --hover-fill-color: #FFFFFF;\n",
              "      --disabled-bg-color: #3B4455;\n",
              "      --disabled-fill-color: #666;\n",
              "  }\n",
              "\n",
              "  .colab-df-quickchart {\n",
              "    background-color: var(--bg-color);\n",
              "    border: none;\n",
              "    border-radius: 50%;\n",
              "    cursor: pointer;\n",
              "    display: none;\n",
              "    fill: var(--fill-color);\n",
              "    height: 32px;\n",
              "    padding: 0;\n",
              "    width: 32px;\n",
              "  }\n",
              "\n",
              "  .colab-df-quickchart:hover {\n",
              "    background-color: var(--hover-bg-color);\n",
              "    box-shadow: 0 1px 2px rgba(60, 64, 67, 0.3), 0 1px 3px 1px rgba(60, 64, 67, 0.15);\n",
              "    fill: var(--button-hover-fill-color);\n",
              "  }\n",
              "\n",
              "  .colab-df-quickchart-complete:disabled,\n",
              "  .colab-df-quickchart-complete:disabled:hover {\n",
              "    background-color: var(--disabled-bg-color);\n",
              "    fill: var(--disabled-fill-color);\n",
              "    box-shadow: none;\n",
              "  }\n",
              "\n",
              "  .colab-df-spinner {\n",
              "    border: 2px solid var(--fill-color);\n",
              "    border-color: transparent;\n",
              "    border-bottom-color: var(--fill-color);\n",
              "    animation:\n",
              "      spin 1s steps(1) infinite;\n",
              "  }\n",
              "\n",
              "  @keyframes spin {\n",
              "    0% {\n",
              "      border-color: transparent;\n",
              "      border-bottom-color: var(--fill-color);\n",
              "      border-left-color: var(--fill-color);\n",
              "    }\n",
              "    20% {\n",
              "      border-color: transparent;\n",
              "      border-left-color: var(--fill-color);\n",
              "      border-top-color: var(--fill-color);\n",
              "    }\n",
              "    30% {\n",
              "      border-color: transparent;\n",
              "      border-left-color: var(--fill-color);\n",
              "      border-top-color: var(--fill-color);\n",
              "      border-right-color: var(--fill-color);\n",
              "    }\n",
              "    40% {\n",
              "      border-color: transparent;\n",
              "      border-right-color: var(--fill-color);\n",
              "      border-top-color: var(--fill-color);\n",
              "    }\n",
              "    60% {\n",
              "      border-color: transparent;\n",
              "      border-right-color: var(--fill-color);\n",
              "    }\n",
              "    80% {\n",
              "      border-color: transparent;\n",
              "      border-right-color: var(--fill-color);\n",
              "      border-bottom-color: var(--fill-color);\n",
              "    }\n",
              "    90% {\n",
              "      border-color: transparent;\n",
              "      border-bottom-color: var(--fill-color);\n",
              "    }\n",
              "  }\n",
              "</style>\n",
              "\n",
              "  <script>\n",
              "    async function quickchart(key) {\n",
              "      const quickchartButtonEl =\n",
              "        document.querySelector('#' + key + ' button');\n",
              "      quickchartButtonEl.disabled = true;  // To prevent multiple clicks.\n",
              "      quickchartButtonEl.classList.add('colab-df-spinner');\n",
              "      try {\n",
              "        const charts = await google.colab.kernel.invokeFunction(\n",
              "            'suggestCharts', [key], {});\n",
              "      } catch (error) {\n",
              "        console.error('Error during call to suggestCharts:', error);\n",
              "      }\n",
              "      quickchartButtonEl.classList.remove('colab-df-spinner');\n",
              "      quickchartButtonEl.classList.add('colab-df-quickchart-complete');\n",
              "    }\n",
              "    (() => {\n",
              "      let quickchartButtonEl =\n",
              "        document.querySelector('#df-434e1a3c-dd7b-48c2-852a-3ac58ba89a2f button');\n",
              "      quickchartButtonEl.style.display =\n",
              "        google.colab.kernel.accessAllowed ? 'block' : 'none';\n",
              "    })();\n",
              "  </script>\n",
              "</div>\n",
              "\n",
              "    </div>\n",
              "  </div>\n"
            ],
            "application/vnd.google.colaboratory.intrinsic+json": {
              "type": "dataframe",
              "summary": "{\n  \"name\": \"ice_cream\",\n  \"rows\": 8,\n  \"fields\": [\n    {\n      \"column\": \"Temperature\",\n      \"properties\": {\n        \"dtype\": \"number\",\n        \"std\": 109.98030639870356,\n        \"min\": 13.258510200214376,\n        \"max\": 365.0,\n        \"num_unique_values\": 8,\n        \"samples\": [\n          71.98082191780821,\n          73.0,\n          365.0\n        ],\n        \"semantic_type\": \"\",\n        \"description\": \"\"\n      }\n    },\n    {\n      \"column\": \"Ice Cream Profits\",\n      \"properties\": {\n        \"dtype\": \"number\",\n        \"std\": 115.2633263214406,\n        \"min\": 11.88,\n        \"max\": 365.0,\n        \"num_unique_values\": 8,\n        \"samples\": [\n          52.10361643835618,\n          53.62,\n          365.0\n        ],\n        \"semantic_type\": \"\",\n        \"description\": \"\"\n      }\n    }\n  ]\n}"
            }
          },
          "metadata": {},
          "execution_count": 6
        }
      ]
    },
    {
      "cell_type": "code",
      "source": [
        "# data cleaning"
      ],
      "metadata": {
        "id": "CiTz8BLQT1In"
      },
      "execution_count": 7,
      "outputs": []
    },
    {
      "cell_type": "code",
      "source": [
        "# First, let's start with cleaning data. Check if there are any missing values in the dataframe.\n",
        "\n",
        "ice_cream.isnull().sum()"
      ],
      "metadata": {
        "colab": {
          "base_uri": "https://localhost:8080/"
        },
        "id": "nJCzDbxbT1M9",
        "outputId": "a83314f9-80ae-4416-d44e-18e60a978934"
      },
      "execution_count": 9,
      "outputs": [
        {
          "output_type": "execute_result",
          "data": {
            "text/plain": [
              "Temperature          0\n",
              "Ice Cream Profits    0\n",
              "dtype: int64"
            ]
          },
          "metadata": {},
          "execution_count": 9
        }
      ]
    },
    {
      "cell_type": "code",
      "source": [
        "# The data doesn't contain any missing values."
      ],
      "metadata": {
        "id": "qIE4OvDPT1hV"
      },
      "execution_count": 10,
      "outputs": []
    },
    {
      "cell_type": "code",
      "source": [
        "# Data Visualization, Data Analysis, Correlation, Linear Regression"
      ],
      "metadata": {
        "id": "9rMoU8r5UpWy"
      },
      "execution_count": 11,
      "outputs": []
    },
    {
      "cell_type": "code",
      "source": [
        "import matplotlib.pyplot as plt"
      ],
      "metadata": {
        "id": "gFapueYOUlnC"
      },
      "execution_count": 12,
      "outputs": []
    },
    {
      "cell_type": "code",
      "source": [
        "plt.figure(figsize=(10,6))\n",
        "plt.scatter(ice_cream['Temperature'], ice_cream['Ice Cream Profits'])\n",
        "plt.title('Temperature vs Ice Cream Profits')\n",
        "plt.xlabel('Temperature')\n",
        "plt.ylabel('Ice Cream Profits')\n",
        "plt.show()"
      ],
      "metadata": {
        "colab": {
          "base_uri": "https://localhost:8080/",
          "height": 564
        },
        "id": "tKD_KjMCUlxV",
        "outputId": "83cfbd3d-27f3-4254-eda2-f4f8bda3ecc5"
      },
      "execution_count": 14,
      "outputs": [
        {
          "output_type": "display_data",
          "data": {
            "text/plain": [
              "<Figure size 1000x600 with 1 Axes>"
            ],
            "image/png": "[encoded data removed]"
          },
          "metadata": {}
        }
      ]
    },
    {
      "cell_type": "code",
      "source": [
        "# The relationship between Temperature and Ice Cream Profits seems to be positive and quite linear"
      ],
      "metadata": {
        "id": "3nnrHM2NUl5Z"
      },
      "execution_count": 15,
      "outputs": []
    },
    {
      "cell_type": "code",
      "source": [
        "# Using Linear regression model to predict the ice cream profits based on the temperature"
      ],
      "metadata": {
        "id": "Em0K5UdnTFB1"
      },
      "execution_count": 16,
      "outputs": []
    },
    {
      "cell_type": "code",
      "source": [
        "from sklearn.model_selection import train_test_split\n",
        "from sklearn.linear_model import LinearRegression\n",
        "from sklearn import metrics"
      ],
      "metadata": {
        "id": "HoAH6A9mTFIf"
      },
      "execution_count": 17,
      "outputs": []
    },
    {
      "cell_type": "code",
      "source": [
        "# Reshaping the data\n",
        "X = ice_cream['Temperature'].values.reshape(-1,1)\n",
        "y = ice_cream['Ice Cream Profits'].values.reshape(-1,1)\n",
        "\n",
        "# Splitting the dataset into training and testing data\n",
        "X_train, X_test, y_train, y_test = train_test_split(X, y, test_size=0.2, random_state=0)\n",
        "\n",
        "# Training the algorithm\n",
        "model = LinearRegression()\n",
        "model.fit(X_train, y_train)\n",
        "\n",
        "# To retrieve the intercept and the slope(coefficient of x) of the linear equation:\n",
        "(intercept, slope) = (model.intercept_[0], model.coef_[0][0])\n",
        "\n",
        "(intercept, slope)"
      ],
      "metadata": {
        "colab": {
          "base_uri": "https://localhost:8080/"
        },
        "id": "6zQBMxh-TFNw",
        "outputId": "24899991-3bf3-4637-c004-2b2785db8858"
      },
      "execution_count": 18,
      "outputs": [
        {
          "output_type": "execute_result",
          "data": {
            "text/plain": [
              "(-33.85308192551016, 1.193875321003493)"
            ]
          },
          "metadata": {},
          "execution_count": 18
        }
      ]
    },
    {
      "cell_type": "code",
      "source": [
        "# The ice cream profits increase by approximately 1.19 units"
      ],
      "metadata": {
        "id": "frotZEGsVUyC"
      },
      "execution_count": 19,
      "outputs": []
    },
    {
      "cell_type": "code",
      "source": [
        "# Test the model with our test data and check the performance using metrics like mean absolute error, mean squared error, and root mean squared"
      ],
      "metadata": {
        "id": "IywOyf3OVU81"
      },
      "execution_count": 20,
      "outputs": []
    },
    {
      "cell_type": "code",
      "source": [
        "import numpy as np\n",
        "\n",
        "y_pred = model.predict(X_test)\n",
        "\n",
        "# Recalculating the root mean squared error\n",
        "rmse = np.sqrt(metrics.mean_squared_error(y_test, y_pred))"
      ],
      "metadata": {
        "id": "mvBMatYyVVH7"
      },
      "execution_count": 25,
      "outputs": []
    },
    {
      "cell_type": "code",
      "source": [
        "print(rmse)"
      ],
      "metadata": {
        "colab": {
          "base_uri": "https://localhost:8080/"
        },
        "id": "UplRfD8_WSKs",
        "outputId": "1d40fd5b-284a-4b98-b1a4-b5c9fe23c6db"
      },
      "execution_count": 27,
      "outputs": [
        {
          "output_type": "stream",
          "name": "stdout",
          "text": [
            "2.382458045585776\n"
          ]
        }
      ]
    },
    {
      "cell_type": "code",
      "source": [
        "# Root Mean Squared Error (RMSE) : 2.38"
      ],
      "metadata": {
        "id": "TPQ9GPI-WpE6"
      },
      "execution_count": 28,
      "outputs": []
    }
  ]
}